{
 "cells": [
  {
   "cell_type": "markdown",
   "metadata": {},
   "source": [
    "This script will test my implementation of the model control (MATLAB and FMI)"
   ]
  },
  {
   "cell_type": "code",
   "execution_count": 1,
   "metadata": {},
   "outputs": [],
   "source": [
    "\n",
    "#necesary libraries\n",
    "#libraries for defining DT\n",
    "import Comm\n",
    "import exeAreas\n",
    "\n",
    "#general libraries \n",
    "import os\n",
    "\n",
    "#interface libraris\n",
    "from  API import PythonAPI\n",
    "from API import MatlabAPI\n",
    "from API import FMUAPI\n",
    "\n",
    "#models \n",
    "from Models import *"
   ]
  },
  {
   "cell_type": "code",
   "execution_count": null,
   "metadata": {},
   "outputs": [],
   "source": [
    "#libraries for interfacing\n",
    "# import Matlab_API\n",
    "import localInterface_gen\n",
    "import os\n",
    "import matplotlib.pyplot as plt\n",
    "import py_units_model\n",
    "import pyModelEncap\n",
    "from  API import PythonAPI\n",
    "import exeAreas"
   ]
  },
  {
   "cell_type": "code",
   "execution_count": null,
   "metadata": {},
   "outputs": [],
   "source": [
    "#Test unzipped and extract information of model\n",
    "directory = os.getcwd()\n",
    "directory = os.getcwd() + '\\\\' + 'Matlab_models' # directory stored model\n",
    "model_name_original = 'Gain_model_wI'\n",
    "\n",
    "model_inspect = localInterface_gen.model_inspection(model_name = model_name_original, directory = directory , folder_name = model_name_original)\n",
    "model_inspect.unzipped()\n",
    "model_data = model_inspect.extract()\n",
    "print(model_data)"
   ]
  },
  {
   "cell_type": "code",
   "execution_count": null,
   "metadata": {},
   "outputs": [],
   "source": [
    "#Generation of interface simulink models\n",
    "directory = os.getcwd() + '\\\\' + 'Models' # directory stored model\n",
    "\n",
    "# print (directory)\n",
    "model_name1 = 'Gain_model' # name of model \n",
    "model = MatlabAPI.Simulink(modelName = model_name1, directory = directory) #object generation\n",
    "model.interface_gen() #interface generation\n",
    "\n",
    "# #generation of intrface model 2: \n",
    "# model_name_2 = 'Time_model'\n",
    "# model2 = MatlabAPI.Simulink(model_name_2,directory)\n",
    "# model2.interface_gen()\n",
    "\n"
   ]
  },
  {
   "cell_type": "code",
   "execution_count": 2,
   "metadata": {},
   "outputs": [
    {
     "name": "stdout",
     "output_type": "stream",
     "text": [
      "Data of the class has been extracted\n",
      "define the inputs and outputs using the portDefinition method\n",
      "{'ports': ['temp_in', 'mass_in', 'vol_in', 'time', 'temp_out', 'mass_out', 'vol_out', 'param'], 'methods': ['step_increase', 'unit_transform']}\n",
      "Inputs and outputs have been defined for this model\n"
     ]
    }
   ],
   "source": [
    "# Generation of interface Python & FMI\n",
    "\n",
    "#genrate inteface object for python model\n",
    "from Models import UnitChange\n",
    "\n",
    "\n",
    "directory = os.getcwd() + '\\\\' + 'Models'  # directory stored model\n",
    "model_py = UnitChange.Model()\n",
    "\n",
    "py_model= PythonAPI.Wrapping(model_py,directory=directory,modelName = \"UnitChange\", printFlag=True)\n",
    "\n",
    "py_model.exeDesign(py_model.methods,[1,2])\n",
    "\n",
    "py_model.portDefinition(inputs= ['temp_in','mass_in','vol_in','time'], outputs= ['temp_out','mass_out','vol_out'])\n",
    "# params = list(py_model.get_params().keys())\n",
    "# print(params)\n",
    "# print(list(params.keys()))\n",
    "py_model.save_to_csv(file_name=\"UnitChange\")\n",
    "\n",
    "#gerate interface for FMU -- however not really necesary\n",
    "# directory  =  os.getcwd() + '\\\\' + 'Models'\n",
    "spring = FMUAPI.FMU(modelName='MassSpringDamperModel', directory=directory)"
   ]
  },
  {
   "cell_type": "code",
   "execution_count": 40,
   "metadata": {},
   "outputs": [
    {
     "data": {
      "text/plain": [
       "['step_increase', 'unit_transform']"
      ]
     },
     "execution_count": 40,
     "metadata": {},
     "output_type": "execute_result"
    }
   ],
   "source": [
    "py_model.exeSchedule[1]\n",
    "py_model.methods"
   ]
  },
  {
   "cell_type": "code",
   "execution_count": 15,
   "metadata": {},
   "outputs": [
    {
     "name": "stdout",
     "output_type": "stream",
     "text": [
      "['step_increase', 'unit_transform']\n",
      "correct\n",
      "['temp_in', 'mass_in', 'vol_in', 'time']\n",
      "{'temp_in': 0, 'mass_in': 0, 'vol_in': 0, 'time': 0}\n",
      "True\n"
     ]
    }
   ],
   "source": [
    "print(py_model.methods)\n",
    "if 'step_increase' in py_model.methods or 'lalal' in py_model.methods:\n",
    "    print('correct')\n",
    "    # print(py_model.methods.index('lalaala'))\n",
    "print(py_model.inputsNames)\n",
    "print(py_model.inputs)\n",
    "print('step_increase' in py_model.methods)"
   ]
  },
  {
   "cell_type": "code",
   "execution_count": null,
   "metadata": {},
   "outputs": [],
   "source": [
    "#inspecting the model to know inputs and outputs names\n",
    "directory = os.getcwd() + '\\\\' + 'Matlab_models' # directory stored model\n",
    "\n",
    "# directory = os.getcwd() \n",
    "model_name1 = 'Gain_model_wI' # name of model 2\n",
    "model_name2 = 'Time_model_wI' # name of model 2\n",
    "\n",
    "inspect_model1 = localInterface_gen.model_inspection(model_name = model_name1, directory = directory , folder_name = model_name1)\n",
    "inspect_model1.unzipped()\n",
    "model1_data = inspect_model1.extract()\n",
    "\n",
    "inspect_model2 = localInterface_gen.model_inspection(model_name = model_name2, directory = directory , folder_name = model_name2)\n",
    "inspect_model2.unzipped()\n",
    "model2_data = inspect_model2.extract()\n",
    "\n",
    "\n",
    "print(model1_data['inports'])\n",
    "print(model2_data['outports'])\n",
    "\n",
    "print(model2_data['inports'])\n",
    "print(model1_data['outports'])\n"
   ]
  },
  {
   "cell_type": "code",
   "execution_count": 3,
   "metadata": {},
   "outputs": [
    {
     "name": "stdout",
     "output_type": "stream",
     "text": [
      "Model Gain_modelFMU has no parameters defined, in case is wrong correct it\n"
     ]
    },
    {
     "ename": "TypeError",
     "evalue": "Model.__init__() got an unexpected keyword argument 'printFlag'",
     "output_type": "error",
     "traceback": [
      "\u001b[1;31m---------------------------------------------------------------------------\u001b[0m",
      "\u001b[1;31mTypeError\u001b[0m                                 Traceback (most recent call last)",
      "Cell \u001b[1;32mIn[3], line 40\u001b[0m\n\u001b[0;32m     36\u001b[0m output3 \u001b[38;5;241m=\u001b[39m{\u001b[38;5;124m'\u001b[39m\u001b[38;5;124mname\u001b[39m\u001b[38;5;124m'\u001b[39m:\u001b[38;5;124m\"\u001b[39m\u001b[38;5;124mvol_out\u001b[39m\u001b[38;5;124m\"\u001b[39m, \u001b[38;5;124m'\u001b[39m\u001b[38;5;124munit\u001b[39m\u001b[38;5;124m'\u001b[39m:\u001b[38;5;124m\"\u001b[39m\u001b[38;5;124mm^3\u001b[39m\u001b[38;5;124m\"\u001b[39m, \u001b[38;5;124m'\u001b[39m\u001b[38;5;124mdatatype\u001b[39m\u001b[38;5;124m'\u001b[39m:\u001b[38;5;124m\"\u001b[39m\u001b[38;5;124mfloat\u001b[39m\u001b[38;5;124m\"\u001b[39m,\u001b[38;5;124m'\u001b[39m\u001b[38;5;124mval\u001b[39m\u001b[38;5;124m'\u001b[39m:\u001b[38;5;124m'\u001b[39m\u001b[38;5;124m'\u001b[39m}\n\u001b[0;32m     38\u001b[0m outputs \u001b[38;5;241m=\u001b[39m [output1,output2,output3]\n\u001b[1;32m---> 40\u001b[0m UnitChange \u001b[38;5;241m=\u001b[39m \u001b[43mComm\u001b[49m\u001b[38;5;241;43m.\u001b[39;49m\u001b[43mModel\u001b[49m\u001b[43m(\u001b[49m\u001b[43mname\u001b[49m\u001b[43m \u001b[49m\u001b[38;5;241;43m=\u001b[39;49m\u001b[43m \u001b[49m\u001b[38;5;124;43m'\u001b[39;49m\u001b[38;5;124;43mUnitChange\u001b[39;49m\u001b[38;5;124;43m'\u001b[39;49m\u001b[43m,\u001b[49m\u001b[43mSimE\u001b[49m\u001b[38;5;241;43m=\u001b[39;49m\u001b[43m \u001b[49m\u001b[38;5;124;43m\"\u001b[39;49m\u001b[38;5;124;43mPython\u001b[39;49m\u001b[38;5;124;43m\"\u001b[39;49m\u001b[43m,\u001b[49m\u001b[43mmodelDir\u001b[49m\u001b[43m \u001b[49m\u001b[38;5;241;43m=\u001b[39;49m\u001b[43m \u001b[49m\u001b[43mdirectory\u001b[49m\u001b[43m,\u001b[49m\u001b[43m \u001b[49m\n\u001b[0;32m     41\u001b[0m \u001b[43m                    \u001b[49m\u001b[43minputs\u001b[49m\u001b[38;5;241;43m=\u001b[39;49m\u001b[43minputs\u001b[49m\u001b[43m,\u001b[49m\u001b[43moutputs\u001b[49m\u001b[38;5;241;43m=\u001b[39;49m\u001b[43moutputs\u001b[49m\u001b[43m,\u001b[49m\u001b[43m \u001b[49m\u001b[43mparameters\u001b[49m\u001b[38;5;241;43m=\u001b[39;49m\u001b[43m \u001b[49m\u001b[43m[\u001b[49m\u001b[43m]\u001b[49m\u001b[43m,\u001b[49m\u001b[43mprintFlag\u001b[49m\u001b[43m \u001b[49m\u001b[38;5;241;43m=\u001b[39;49m\u001b[43m \u001b[49m\u001b[38;5;28;43;01mTrue\u001b[39;49;00m\u001b[43m)\u001b[49m\n\u001b[0;32m     43\u001b[0m \u001b[38;5;66;03m#definition of FMU model\u001b[39;00m\n\u001b[0;32m     44\u001b[0m input1 \u001b[38;5;241m=\u001b[39m {\u001b[38;5;124m'\u001b[39m\u001b[38;5;124mname\u001b[39m\u001b[38;5;124m'\u001b[39m:\u001b[38;5;124m\"\u001b[39m\u001b[38;5;124mForce\u001b[39m\u001b[38;5;124m\"\u001b[39m, \u001b[38;5;124m'\u001b[39m\u001b[38;5;124munit\u001b[39m\u001b[38;5;124m'\u001b[39m:\u001b[38;5;124m\"\u001b[39m\u001b[38;5;124mN\u001b[39m\u001b[38;5;124m\"\u001b[39m, \u001b[38;5;124m'\u001b[39m\u001b[38;5;124mdatatype\u001b[39m\u001b[38;5;124m'\u001b[39m:\u001b[38;5;124m\"\u001b[39m\u001b[38;5;124mfloat\u001b[39m\u001b[38;5;124m\"\u001b[39m,\u001b[38;5;124m'\u001b[39m\u001b[38;5;124mval\u001b[39m\u001b[38;5;124m'\u001b[39m:\u001b[38;5;124m'\u001b[39m\u001b[38;5;124m'\u001b[39m}\n",
      "\u001b[1;31mTypeError\u001b[0m: Model.__init__() got an unexpected keyword argument 'printFlag'"
     ]
    }
   ],
   "source": [
    "# Generate object to manipulate it/ after interface generation\n",
    "\n",
    "directory = os.getcwd() + '\\\\' + 'Models' # directory stored model\n",
    "\n",
    "#definition of simulink model\n",
    "input1 = {'name':\"temp_in\", 'unit':\"C\", 'datatype':\"float\",'val':''}\n",
    "input2 ={'name':\"mass_in\", 'unit':\"kg\", 'datatype':\"float\",'val':''}\n",
    "input3 ={'name':\"vol_in\", 'unit':\"m^3\", 'datatype':\"float\",'val':''}\n",
    "\n",
    "inputs = [input1,input2,input3]\n",
    "\n",
    "output1 = {'name':\"temp_out\", 'unit':\"C\", 'datatype':\"float\",'val':''}\n",
    "output2 ={'name':\"mass_out\", 'unit':\"kg\", 'datatype':\"float\",'val':''}\n",
    "output3 ={'name':\"vol_out\", 'unit':\"m^3\", 'datatype':\"float\",'val':''}\n",
    "output4 ={'name':\"time_out\", 'unit':\"s\", 'datatype':\"float\",'val':''}\n",
    "\n",
    "outputs = [output1,output2,output3,output4]\n",
    "\n",
    "model_name1 = 'Gain_modelFMU' # name of model \n",
    "Gain_model = Comm.Model(name = model_name1,SimE= \"FMU\",modelDir = directory,\n",
    "                        inputs=inputs,outputs=outputs,parameters = []) #object generation\n",
    "# model_name1 = 'Gain_model' # name of model \n",
    "# Gain_model = Comm.Model(name = model_name1,SimE= \"Simulink\",modelDir = directory, \n",
    "#                         inputs=inputs,outputs=outputs,parameters = []) #object generation\n",
    "\n",
    "\n",
    "#deinfiniton of python model\n",
    "input1 = {'name':\"temp_in\", 'unit':\"C\", 'datatype':\"float\",'val':''}\n",
    "input2 ={'name':\"mass_in\", 'unit':\"kg\", 'datatype':\"float\",'val':''}\n",
    "input3 ={'name':\"vol_in\", 'unit':\"m^3\", 'datatype':\"float\",'val':''}\n",
    "input4 ={'name':\"time\", 'unit':\"s\", 'datatype':\"float\",'val':''}\n",
    "inputs = [input1,input2,input3,input4]\n",
    "\n",
    "output1 = {'name':\"temp_out\", 'unit':\"C\", 'datatype':\"float\",'val':''}\n",
    "output2 ={'name':\"mass_out\", 'unit':\"kg\", 'datatype':\"float\",'val':''}\n",
    "output3 ={'name':\"vol_out\", 'unit':\"m^3\", 'datatype':\"float\",'val':''}\n",
    "\n",
    "outputs = [output1,output2,output3]\n",
    "\n",
    "UnitChange = Comm.Model(name = 'UnitChange',SimE= \"Python\",modelDir = directory, \n",
    "                    inputs=inputs,outputs=outputs, parameters= [])\n",
    "\n",
    "#definition of FMU model\n",
    "input1 = {'name':\"Force\", 'unit':\"N\", 'datatype':\"float\",'val':''}\n",
    "\n",
    "inputs = [input1]\n",
    "\n",
    "output1 = {'name':\"DisplacementOutput\", 'unit':\"m\", 'datatype':\"float\",'val':''}\n",
    "\n",
    "outputs = [output1]\n",
    "\n",
    "parameter1 = {'name':\"dampingCoefficient\", 'unit':\"N m^-1 s^-1\", 'datatype':\"float\",'val':'150'}\n",
    "parameter2 = {'name':\"mass\", 'unit':\"kg\", 'datatype':\"float\",'val':'2'}\n",
    "parameter3 = {'name':\"springConstant\", 'unit':\"N m^-1\", 'datatype':\"float\",'val':'8'}\n",
    "parameters = [parameter1,parameter2,parameter3]\n",
    "\n",
    "outputs = [output1,output2,output3]\n",
    "Spring = Comm.Model(name = 'MassSpringMod', SimE = 'FMU', modelDir=directory,\n",
    "                    inputs=inputs, outputs=outputs, parameters=parameters)"
   ]
  },
  {
   "cell_type": "code",
   "execution_count": null,
   "metadata": {},
   "outputs": [],
   "source": [
    "print(UnitChange)"
   ]
  },
  {
   "cell_type": "code",
   "execution_count": 3,
   "metadata": {},
   "outputs": [
    {
     "name": "stdout",
     "output_type": "stream",
     "text": [
      "All outputs define in the equations\n",
      "All variables within the equations will have a value assigned\n",
      "All outputs define in the equations\n",
      "All variables within the equations will have a value assigned\n"
     ]
    }
   ],
   "source": [
    "#Defining a transformation units and duplicator\n",
    "outputs= [{'name': 'Tk', 'unit' : 'K', 'datatype':'float','val':'0'}]\n",
    "inputs =[{'name':'Tf','unit' : 'F', 'datatype':'float','val':'100'}]\n",
    "exp = 'Tc = (Tf-32)*5/9 \\n Tk = Tc + 273.15'\n",
    "vars = {'Tf':100}\n",
    "\n",
    "transform1 = Comm.Transformation(outputs=outputs, inputs=inputs, \n",
    "                            expressions=exp, variables=vars)\n",
    "\n",
    "outputs= [{'name': 'F', 'unit' : 'N', 'datatype':'float','val':'10'}]\n",
    "inputs =[{'name':'mass','unit' : 'kg', 'datatype':'float','val':'100'}]\n",
    "exp = 'F = 9.8*mass'\n",
    "vars = {'mass':1000}\n",
    "\n",
    "transform2 = Comm.Transformation(outputs=outputs, inputs=inputs, \n",
    "                            expressions=exp, variables=vars)\n",
    "\n",
    "input ={'name':'mass','unit' : 'kg', 'datatype':'float','val':0}\n",
    "\n",
    "dup1 = Comm.Duplicator(input=input,num_outputs=2)\n"
   ]
  },
  {
   "cell_type": "code",
   "execution_count": null,
   "metadata": {},
   "outputs": [],
   "source": [
    "import Comm\n",
    "inputs =[{'name':'mass','unit' : 'kg', 'datatype':'float','val':0}]\n",
    "\n",
    "sink1 = Comm.Sink(inputs=inputs)\n",
    "\n",
    "print(sink1.inputs)\n",
    "print(sink1.outputs)"
   ]
  },
  {
   "cell_type": "code",
   "execution_count": 4,
   "metadata": {},
   "outputs": [
    {
     "name": "stdout",
     "output_type": "stream",
     "text": [
      "{'id': 'Conn0', 'connector': <Comm.Connector object at 0x00000272D8882DD0>, 'src': ('Gain_modelFMU', 'temp_out'), 'dst': ('Transformator460', 'Tf')}\n",
      "{'id': 'Conn1', 'connector': <Comm.Connector object at 0x00000272D80A4C90>, 'src': ('Transformator460', 'Tk'), 'dst': ('UnitChange', 'temp_in')}\n",
      "{'id': 'Conn2', 'connector': <Comm.Connector object at 0x00000272D8949150>, 'src': ('Gain_modelFMU', 'mass_out'), 'dst': ('UnitChange', 'mass_in')}\n",
      "{'id': 'Conn3', 'connector': <Comm.Connector object at 0x00000272D8948C50>, 'src': ('Gain_modelFMU', 'vol_out'), 'dst': ('UnitChange', 'vol_in')}\n",
      "{'id': 'Conn4', 'connector': <Comm.Connector object at 0x00000272D894AA50>, 'src': ('Gain_modelFMU', 'time_out'), 'dst': ('UnitChange', 'time')}\n",
      "{'id': 'Conn5', 'connector': <Comm.Connector object at 0x00000272D894AE90>, 'src': ('UnitChange', 'temp_out'), 'dst': ('Gain_modelFMU', 'temp_in')}\n",
      "{'id': 'Conn6', 'connector': <Comm.Connector object at 0x00000272D894B290>, 'src': ('UnitChange', 'vol_out'), 'dst': ('Gain_modelFMU', 'vol_in')}\n",
      "{'id': 'Conn7', 'connector': <Comm.Connector object at 0x00000272D894B690>, 'src': ('UnitChange', 'mass_out'), 'dst': ('duplicator514', 'mass')}\n",
      "{'id': 'Conn8', 'connector': <Comm.Connector object at 0x00000272D894BA90>, 'src': ('duplicator514', 'mass0'), 'dst': ('Gain_modelFMU', 'mass_in')}\n",
      "{'id': 'Conn9', 'connector': <Comm.Connector object at 0x00000272D894BE50>, 'src': ('duplicator514', 'mass1'), 'dst': ('Transformator428', 'mass')}\n",
      "{'id': 'Conn10', 'connector': <Comm.Connector object at 0x00000272D88AC290>, 'src': ('Transformator428', 'F'), 'dst': ('MassSpringMod', 'Force')}\n"
     ]
    }
   ],
   "source": [
    "# example of defining connection\n",
    "connections = exeAreas.ConnectionHandler()\n",
    "#simulink model outputs\n",
    "m1src1 = {'component':Gain_model, 'output':'temp_out'}\n",
    "m1src2 = {'component':Gain_model, 'output':'mass_out'}\n",
    "m1src3 = {'component':Gain_model, 'output':'vol_out'}\n",
    "m1src4 = {'component':Gain_model, 'output':'time_out'}\n",
    "#python model inputs\n",
    "m3dst1 = {'component':UnitChange, 'input':'temp_in'}\n",
    "m3dst2 = {'component':UnitChange, 'input':'mass_in'}\n",
    "m3dst3 = {'component':UnitChange, 'input':'vol_in'}\n",
    "m3dst4 = {'component':UnitChange, 'input':'time'}\n",
    "#simulink model inputs\n",
    "m1dst1 = {'component':Gain_model, 'input':'temp_in'}\n",
    "m1dst2 = {'component':Gain_model, 'input':'mass_in'}\n",
    "m1dst3 = {'component':Gain_model, 'input':'vol_in'}\n",
    "\n",
    "# python model outputs\n",
    "m3src1 = {'component':UnitChange, 'output':'temp_out'}\n",
    "m3src2 = {'component':UnitChange, 'output':'mass_out'}\n",
    "m3src3 = {'component':UnitChange, 'output':'vol_out'}\n",
    "\n",
    "#FMU inputs\n",
    "m2dst1 = {'component':Spring, 'input': 'Force'}\n",
    "#FMU outputs \n",
    "m2src1 = {'component':Spring, 'output': 'DisplacementOutput'}\n",
    "\n",
    "#connectios for trnasformator unit\n",
    "t1src1 = {'component':transform1, 'output': 'Tk'}\n",
    "t1dst1 = {'component':transform1, 'input': 'Tf'}\n",
    "#connectios for trnasformator unit\n",
    "t2src1 = {'component':transform2, 'output': 'F'}\n",
    "t2dst1 = {'component':transform2, 'input': 'mass'}\n",
    "\n",
    "#connectios for duplicator unit\n",
    "d2dst1 = {'component':dup1, 'input': 'mass'}\n",
    "d2src1 = {'component':dup1, 'output': 'mass0'}\n",
    "d2src2 = {'component':dup1, 'output': 'mass1'}\n",
    "\n",
    "\n",
    "connections.connect(source = m1src1,destination = t1dst1)\n",
    "connections.connect(source = t1src1,destination = m3dst1)\n",
    "# connections.connect(source = m1src1,destination = m3dst1)\n",
    "\n",
    "connections.connect(source = m1src2,destination = m3dst2)\n",
    "connections.connect(source = m1src3,destination = m3dst3)\n",
    "connections.connect(source = m1src4,destination = m3dst4)\n",
    "connections.connect(source = m3src1,destination = m1dst1)\n",
    "connections.connect(source = m3src3,destination = m1dst3)\n",
    "\n",
    "# changes\n",
    "connections.connect(source = m3src2,destination = d2dst1)\n",
    "# connections.connect(source = m3src2,destination = m1dst2)\n",
    "connections.connect(source = d2src1,destination = m1dst2)\n",
    "\n",
    "\n",
    "#new\n",
    "connections.connect(source = d2src2,destination = t2dst1)\n",
    "connections.connect(source = t2src1,destination = m2dst1,exPattern={'type':'FIFO'})\n",
    "\n",
    "for connection in connections.connections:\n",
    "    print(connection)"
   ]
  },
  {
   "cell_type": "code",
   "execution_count": 5,
   "metadata": {},
   "outputs": [
    {
     "name": "stdout",
     "output_type": "stream",
     "text": [
      "[<Comm.Model object at 0x00000272D8886090>, <Comm.Model object at 0x00000272D794D210>, <Comm.Model object at 0x00000272D7FFAD50>, <Comm.Duplicator object at 0x00000272D88A8410>, <Comm.Transformation object at 0x00000272D889BDD0>, <Comm.Transformation object at 0x00000272D8585050>]\n",
      "[<Comm.Model object at 0x00000272D8886090>, <Comm.Model object at 0x00000272D7FFAD50>, <Comm.Model object at 0x00000272D794D210>]\n",
      "[<Comm.Model object at 0x00000272D8886090>, <Comm.Model object at 0x00000272D7FFAD50>, <Comm.Model object at 0x00000272D794D210>]\n"
     ]
    },
    {
     "data": {
      "image/png": "[encoded data removed]",
      "text/plain": [
       "<Figure size 1400x700 with 1 Axes>"
      ]
     },
     "metadata": {},
     "output_type": "display_data"
    }
   ],
   "source": [
    "#analysis code for scheduling components\n",
    "allComponents= [Gain_model,Spring,UnitChange,dup1,transform1,transform2]\n",
    "areaComponents =[Gain_model,UnitChange,Spring]\n",
    "triggers = []\n",
    "exeArea = exeAreas.cosim(components=areaComponents,triggers=triggers,allComponents=allComponents)\n",
    "# print(exeArea.cycleSchedule)\n",
    "\n"
   ]
  },
  {
   "cell_type": "code",
   "execution_count": null,
   "metadata": {},
   "outputs": [],
   "source": [
    "#analsys of loop\n",
    "loop = exeArea.loop\n",
    "# print(exeArea.relationships)\n",
    "print('inputs in loop')\n",
    "print(loop.inputsFromConnXcomp)\n",
    "print(loop.loopExInputs)\n",
    "print('outpus in loop')\n",
    "print(loop.outputsToConnXcomp)\n",
    "print(loop.loopExOutputs)\n",
    "#all components name extraction:\n",
    "# allAppComp = []\n",
    "# for comp in loop.allComponents:\n",
    "#     allAppComp.append(comp.name)\n",
    "\n",
    "# print(allAppComp)\n",
    "# print(loop.cycleComp)\n"
   ]
  },
  {
   "cell_type": "code",
   "execution_count": 6,
   "metadata": {},
   "outputs": [
    {
     "name": "stdout",
     "output_type": "stream",
     "text": [
      "Model UnitChange has been initiated with the input values: \n",
      " {'temp_in': 0, 'mass_in': 0, 'vol_in': 0, 'time': 0}\n",
      "Model UnitChange current output values: \n",
      " {'temp_out': 15, 'mass_out': 800, 'vol_out': 200}\n",
      "already started the eng\n",
      "Start time in FMU Gain_modelFMU is: 0\n",
      "flag for start configTrue\n",
      "Stop time in FMU Gain_modelFMU is: 30\n",
      "Step time in FMU Gain_modelFMU is: 1\n",
      " this model is configure for first time\n",
      "initial time is : 0\n",
      "flag for start configTrue\n",
      "Stop time  is: 30\n",
      "step time  is: 1\n",
      "Start time in FMU MassSpringMod is: 0\n",
      "flag for start configTrue\n",
      "Stop time in FMU MassSpringMod is: 30\n",
      "Step time in FMU MassSpringMod is: 1\n"
     ]
    }
   ],
   "source": [
    "confExample = {'exeTime':'FTRT', 'exeConf':{'t_ini':0,'t_period' :11, 't_step':1}}\n",
    "exe_type = 'time_based'\n",
    "# exeArea.execute(trigger=[],configuration=confExample)\n",
    "exeArea.initialize()"
   ]
  },
  {
   "cell_type": "code",
   "execution_count": 7,
   "metadata": {},
   "outputs": [
    {
     "name": "stdout",
     "output_type": "stream",
     "text": [
      "[<DTservice.loop object at 0x00000272D7964ED0>, <Comm.Transformation object at 0x00000272D8585050>, <Comm.Model object at 0x00000272D794D210>]\n",
      "\n",
      "\n",
      "component Cycle2 :\n",
      "\n",
      "Running loop iteration:0\n",
      "port input0_Mod4 has been updated\n",
      "the updated ports are: \n",
      "input0_Mod4\n",
      "\n",
      "port input1_Mod4 has been updated\n",
      "the updated ports are: \n",
      "input1_Mod4\n",
      "\n",
      "port input2_Mod4 has been updated\n",
      "the updated ports are: \n",
      "input2_Mod4\n",
      "\n",
      "\n",
      "\n",
      "component Gain_modelFMU :\n",
      "{'temp_in': 50, 'mass_in': 12, 'vol_in': 3.15}\n",
      "{'temp_out': 122.0, 'mass_out': 12000.0, 'vol_out': 11.92275, 'time_out': 1.0}\n",
      "\n",
      "\n",
      "component Transformator460 :\n",
      "pulling data from connector\n",
      "{'Tf': 122.0}\n",
      "{'Tk': 323.15}\n",
      "\n",
      "\n",
      "component UnitChange :\n",
      "pulling data from connector\n",
      "{'temp_in': 323.15, 'mass_in': 12000.0, 'vol_in': 11.92275, 'time': 1.0}\n",
      "{'temp_out': 338.15, 'mass_out': 12800.0, 'vol_out': 211.92275}\n",
      "\n",
      "\n",
      "component duplicator514 :\n",
      "pulling data from connector\n",
      "('output0_dup1', {'name': 'mass0', 'value': 12800.0})\n",
      "('output1_dup1', {'name': 'mass1', 'value': 12800.0})\n",
      "{'mass0': 12800.0, 'mass1': 12800.0}\n",
      "component Gain_modelFMU has been paused\n",
      "Dont neet to pause FMu model\n",
      "component UnitChange has been paused\n",
      "no need for pause\n",
      "\n",
      "\n",
      "component Transformator428 :\n",
      "pulling data from connector\n",
      "{'mass': 12800.0}\n",
      "{'F': 125440.00000000001}\n",
      "\n",
      "\n",
      "component MassSpringMod :\n",
      "pulling data from connector\n",
      "{'Force': 125440.00000000001}\n",
      "Failed to get output 'mass_out': 'mass_out'\n",
      "Failed to get output 'vol_out': 'vol_out'\n",
      "{'DisplacementOutput': 0.0, 'mass_out': None, 'vol_out': None}\n",
      "Failed to get output 'mass_out': 'mass_out'\n",
      "Failed to get output 'vol_out': 'vol_out'\n"
     ]
    },
    {
     "ename": "AttributeError",
     "evalue": "'list' object has no attribute 'pull_src'",
     "output_type": "error",
     "traceback": [
      "\u001b[1;31m---------------------------------------------------------------------------\u001b[0m",
      "\u001b[1;31mAttributeError\u001b[0m                            Traceback (most recent call last)",
      "Cell \u001b[1;32mIn[7], line 3\u001b[0m\n\u001b[0;32m      1\u001b[0m exeArea\u001b[38;5;241m.\u001b[39mnewExeComponents\n\u001b[0;32m      2\u001b[0m exeTime \u001b[38;5;241m=\u001b[39m \u001b[38;5;124m'\u001b[39m\u001b[38;5;124mRT\u001b[39m\u001b[38;5;124m'\u001b[39m\n\u001b[1;32m----> 3\u001b[0m \u001b[43mexeArea\u001b[49m\u001b[38;5;241;43m.\u001b[39;49m\u001b[43mtimeSync\u001b[49m\u001b[43m(\u001b[49m\u001b[43mexeTime\u001b[49m\u001b[38;5;241;43m=\u001b[39;49m\u001b[43mexeTime\u001b[49m\u001b[43m)\u001b[49m\n",
      "File \u001b[1;32md:\\Git_folders\\projects_app\\dsl-orchestration\\DTservice.py:523\u001b[0m, in \u001b[0;36mcosimExecution.timeSync\u001b[1;34m(self, exeTime, exeConf, exeComponents, iter, ExeModeIter)\u001b[0m\n\u001b[0;32m    521\u001b[0m         component\u001b[38;5;241m.\u001b[39mrunStep(ExeMode \u001b[38;5;241m=\u001b[39m \u001b[38;5;124m'\u001b[39m\u001b[38;5;124mInitial\u001b[39m\u001b[38;5;124m'\u001b[39m)          \n\u001b[0;32m    522\u001b[0m     \u001b[38;5;28;01melse\u001b[39;00m:\n\u001b[1;32m--> 523\u001b[0m         \u001b[43mcomponent\u001b[49m\u001b[38;5;241;43m.\u001b[39;49m\u001b[43mrunStep\u001b[49m\u001b[43m(\u001b[49m\u001b[43m)\u001b[49m          \n\u001b[0;32m    524\u001b[0m \u001b[38;5;28;01melif\u001b[39;00m \u001b[38;5;28mtype\u001b[39m(component) \u001b[38;5;129;01mis\u001b[39;00m loop:\n\u001b[0;32m    525\u001b[0m     \u001b[38;5;28mprint\u001b[39m(\u001b[38;5;124m'\u001b[39m\u001b[38;5;130;01m\\n\u001b[39;00m\u001b[38;5;124m'\u001b[39m)\n",
      "File \u001b[1;32md:\\Git_folders\\projects_app\\dsl-orchestration\\Comm.py:797\u001b[0m, in \u001b[0;36mModel.runStep\u001b[1;34m(self, ExeMode, inputsFromConn, outputsToConn)\u001b[0m\n\u001b[0;32m    793\u001b[0m \u001b[38;5;28mself\u001b[39m\u001b[38;5;241m.\u001b[39moutput_update( outputsDict \u001b[38;5;241m=\u001b[39m output_vals)\n\u001b[0;32m    796\u001b[0m \u001b[38;5;28;01mif\u001b[39;00m \u001b[38;5;28mlen\u001b[39m(outputsToConn) \u001b[38;5;241m!=\u001b[39m \u001b[38;5;241m0\u001b[39m:\n\u001b[1;32m--> 797\u001b[0m     \u001b[38;5;28;43mself\u001b[39;49m\u001b[38;5;241;43m.\u001b[39;49m\u001b[43moutport_assigment\u001b[49m\u001b[43m(\u001b[49m\u001b[43moutputsToConn\u001b[49m\u001b[43m)\u001b[49m\n",
      "File \u001b[1;32md:\\Git_folders\\projects_app\\dsl-orchestration\\Comm.py:383\u001b[0m, in \u001b[0;36mComponent.outport_assigment\u001b[1;34m(self, outputs_names)\u001b[0m\n\u001b[0;32m    370\u001b[0m                 \u001b[38;5;28;01mbreak\u001b[39;00m\n\u001b[0;32m    372\u001b[0m \u001b[38;5;28;01mfor\u001b[39;00m output_ID \u001b[38;5;129;01min\u001b[39;00m \u001b[38;5;28mself\u001b[39m\u001b[38;5;241m.\u001b[39moutputs:\n\u001b[0;32m    373\u001b[0m \u001b[38;5;66;03m# for output_name in self.outputs:\u001b[39;00m\n\u001b[0;32m    374\u001b[0m     \n\u001b[1;32m   (...)\u001b[0m\n\u001b[0;32m    381\u001b[0m     \u001b[38;5;66;03m#     self.outports[output_ID].val = self.outputs[output_ID]['value'] \u001b[39;00m\n\u001b[0;32m    382\u001b[0m     \u001b[38;5;66;03m#get data from port to connector\u001b[39;00m\n\u001b[1;32m--> 383\u001b[0m     \u001b[38;5;28;43mself\u001b[39;49m\u001b[38;5;241;43m.\u001b[39;49m\u001b[43moutports\u001b[49m\u001b[43m[\u001b[49m\u001b[43moutput_ID\u001b[49m\u001b[43m]\u001b[49m\u001b[38;5;241;43m.\u001b[39;49m\u001b[43mconnector\u001b[49m\u001b[38;5;241;43m.\u001b[39;49m\u001b[43mpull_src\u001b[49m()\n",
      "\u001b[1;31mAttributeError\u001b[0m: 'list' object has no attribute 'pull_src'"
     ]
    }
   ],
   "source": [
    "exeArea.newExeComponents\n",
    "exeTime = 'RT'\n",
    "exeArea.timeSync(exeTime=exeTime)"
   ]
  },
  {
   "cell_type": "code",
   "execution_count": null,
   "metadata": {},
   "outputs": [],
   "source": [
    "#help implementation for updating values in the connection at the end of the loop\n",
    "edgeComponents = list(loop.loopExOutputs.keys())\n",
    "print(edgeComponents)\n",
    "print(loop.cycleComp)\n",
    "print(loop.exeCompCycle)\n",
    "for component in loop.exeCompCycle:\n",
    "    if component.name in edgeComponents:\n",
    "        name = component.name\n",
    "        outputs2update = loop.loopExOutputs[name]\n",
    "        for id, output  in component.outputs.items():\n",
    "            if outputs2update[0] == output['name']:\n",
    "                print(output['value'])\n",
    "\n",
    "\n",
    "# print(edgeComponentIdx)"
   ]
  },
  {
   "cell_type": "code",
   "execution_count": null,
   "metadata": {},
   "outputs": [],
   "source": [
    "print(exeArea.exeComponents)\n",
    "for components in exeArea.newExeComponents:\n",
    "    print(type(components))\n",
    "print(exeArea.newScheduleCompName)"
   ]
  },
  {
   "cell_type": "code",
   "execution_count": null,
   "metadata": {},
   "outputs": [],
   "source": [
    "# example of extracting inputsFromConnXcomp and OutputstoConnxcomp from \n",
    "allAppComp = []\n",
    "for comp in loop.allComponents:\n",
    "    allAppComp.append(comp.name)\n",
    "loopCompNames = loop.cycleComp\n",
    "\n",
    "inputsFromConnXcomp = {}\n",
    "loopExInputs ={}\n",
    "outputsToConnXcomp ={}\n",
    "loopExOutputs ={}\n",
    "relationships= exeArea.relationships\n",
    "\n",
    "#extract inputs from each component contained in the loop others put it in a other dict from relationshipw\n",
    "for component, rel in relationships.items():\n",
    "    compInputsIn = []\n",
    "    compInputsOut = []\n",
    "    if component in loopCompNames:\n",
    "        for comp,inputs in rel.items():\n",
    "            if comp in loopCompNames:\n",
    "                # print('Component is:' + comp)\n",
    "                # print('inputs are '+ str(inputs))\n",
    "                compInputsIn += inputs\n",
    "                inputsFromConnXcomp[component] = compInputsIn\n",
    "            else:\n",
    "                compInputsOut += inputs\n",
    "                loopExInputs[component] = compInputsOut \n",
    "            \n",
    "#extract outputs from each component contained in the loop others put it in a other dict from the components themself\n",
    "# outputsToConnXcomp ={}\n",
    "components =  loop.exeCompCycle\n",
    "# print(components)\n",
    "loopCompNames = loop.cycleComp\n",
    "compNames = []\n",
    "for comp in components:\n",
    "    compNames.append(comp.name)\n",
    "    \n",
    "for component in components: \n",
    "    # print(component.outports)\n",
    "    # if component.name in loopCompNames:\n",
    "    #     outputsToConnXcomp[component.name] =[]\n",
    "    # else:\n",
    "    #     loopExOutputs[component.name] =[] \n",
    "    compOutputsIn = []\n",
    "    compOutputsOut = []  \n",
    "    for outportID,port in component.outports.items():\n",
    "            componentDst = port.connector.dst['component'].name\n",
    "            # print('Origin port is:' + component.name)\n",
    "            # print('Destination is:' + componentDst)\n",
    "            # print('Port Name: ' + port.name)\n",
    "            if componentDst in loopCompNames:\n",
    "                # print(\"BELONGS TO LOOP\"+ '\\n')\n",
    "                compOutputsIn.append(port.name) \n",
    "                # print(outputsToConnXcomp)\n",
    "                # print(compOutputsIn)\n",
    "                # print('\\n')\n",
    "            else:\n",
    "                # print(\"OUT OF TO LOOP\" + '\\n')\n",
    "                compOutputsOut.append(port.name)\n",
    "            if compOutputsIn != []:\n",
    "                outputsToConnXcomp[component.name] = compOutputsIn\n",
    "            if compOutputsOut != []:\n",
    "                loopExOutputs[component.name] = compOutputsOut\n",
    "            # print(outputsToConnXcomp)\n",
    "print(inputsFromConnXcomp)\n",
    "print(loopExInputs)\n",
    "print(outputsToConnXcomp)\n",
    "print(loopExOutputs)"
   ]
  },
  {
   "cell_type": "code",
   "execution_count": 2,
   "metadata": {},
   "outputs": [],
   "source": [
    "import csv\n",
    "class extractInfo:\n",
    "    def __init__(self):\n",
    "        pass\n",
    "        self.data = {}\n",
    "        self.datapoints ={}\n",
    "        self.name = 'tilt'\n",
    "        path = 'D:\\\\Git_folders\\\\projects_app\\\\testingSensorPloting\\\\'\n",
    "        self.file_path = file_path = path + '\\\\' + 'sensors' + '\\\\' + 'batch1'\n",
    "    def extract_data(self, var_name = 'temp')-> list:\n",
    "            file_path =  self.file_path + '_' + self.name +'.csv' \n",
    "            try:            \n",
    "                with open(file_path, mode='r', newline='', encoding='utf-8') as file:\n",
    "                    reader = csv.reader(file)\n",
    "                    sens_data = []\n",
    "                    for row in reader:\n",
    "                        sens_data.append(row)\n",
    "                if sens_data[0][0] != sens_data [1][0]:\n",
    "                    new_sens_data = sens_data[1:]\n",
    "                else:\n",
    "                    new_sens_data = sens_data\n",
    "                self.data[var_name] = new_sens_data      \n",
    "                if self.data[var_name][0][0] != self.data[var_name][1][0]:\n",
    "                    self.datapoints[var_name] = len(self.data[var_name]) -1 \n",
    "                else:\n",
    "                    self.datapoints[var_name] = len(self.data[var_name]) \n",
    "                    \n",
    "                return new_sens_data        \n",
    "            except FileNotFoundError:\n",
    "                print(f\"Error: The file '{self.file_path}' was not found.\")\n",
    "            except Exception as e:\n",
    "                print(f\"An error occurred: {e}\")"
   ]
  },
  {
   "cell_type": "code",
   "execution_count": 26,
   "metadata": {},
   "outputs": [
    {
     "name": "stdout",
     "output_type": "stream",
     "text": [
      "Data of the class has been extracted\n",
      "For type DataProc the complete execution will be performed only by the method called: execute \n",
      "no parameters\n",
      "define the inputs and outputs using the portDefinition method\n",
      "{'ports': ['rawTemperature', 'rawSg', 'param', 'sug_conc', 'temp', 'sg', 'temp_hystory', 'sg_hystory', 'sug_conc_hystory', 'ABV_hys'], 'methods': ['EtOHpercentage', 'brixTransform', 'dataExtraction', 'execute', 'sg_tranformation']}\n",
      "Inputs and outputs have been defined for this model\n"
     ]
    }
   ],
   "source": [
    "from Models import dataProcess\n",
    "from API import PythonAPI\n",
    "import os\n",
    "\n",
    "dprocess = dataProcess.TiltSens()\n",
    "directory = os.getcwd() + '\\\\' + 'Models'  # directory stored model\n",
    "\n",
    "dataprocess1 = PythonAPI.pythonEncap(dprocess,directory=directory,modelName = \"DataProcess1\", typ = 'DataProc' ,printFlag=True)\n",
    "\n",
    "# py_model.exeDesign(py_model.methods,[1,2])\n",
    "\n",
    "dataprocess1.portDefinition(inputs= ['Rawtemperature','Rawsg'], outputs= ['temp','sug_conc'])\n",
    "\n",
    "dataprocess1.save_to_csv(file_name=\"dataprocess1\")\n"
   ]
  },
  {
   "cell_type": "code",
   "execution_count": 1,
   "metadata": {},
   "outputs": [
    {
     "name": "stdout",
     "output_type": "stream",
     "text": [
      "Data of the class has been extracted\n",
      "For type DataProc the complete execution will be performed only by a method called: processData \n",
      "no parameters\n",
      "define the inputs and outputs using the portDefinition method\n",
      "{'ports': ['rawTemperature', 'rawSg', 'param', 'sug_conc', 'temp', 'sg', 'temp_hystory', 'sg_hystory', 'sug_conc_hystory', 'ABV_hys'], 'methods': ['EtOHpercentage', 'brixTransform', 'dataExtraction', 'processData', 'sg_tranformation']}\n",
      "Inputs and outputs have been defined for this model\n"
     ]
    }
   ],
   "source": [
    "from Models import dataProcess\n",
    "from API import PythonAPI\n",
    "import os\n",
    "\n",
    "dprocess = dataProcess.TiltSens()\n",
    "directory = os.getcwd() + '\\\\' + 'Models'  # directory stored model\n",
    "\n",
    "dataprocess1 = PythonAPI.pythonEncap(dprocess,directory=directory,modelName = \"DataProcess1\",\n",
    "                                     typ = 'DataProc' ,printFlag=True)\n",
    "\n",
    "# py_model.exeDesign(py_model.methods,[1,2])\n",
    "\n",
    "dataprocess1.portDefinition(inputs= ['rawTemperature'], outputs= ['temp'])\n",
    "\n",
    "dataprocess1.save_to_csv(file_name=\"dataprocess1\")"
   ]
  },
  {
   "cell_type": "code",
   "execution_count": 3,
   "metadata": {},
   "outputs": [],
   "source": [
    "infoclass = extractInfo()\n",
    "info = infoclass.extract_data(var_name='tilt')"
   ]
  },
  {
   "cell_type": "code",
   "execution_count": 15,
   "metadata": {},
   "outputs": [
    {
     "name": "stdout",
     "output_type": "stream",
     "text": [
      "['tilt', '0', '7/9/2022 19:58', '{\"temp\": 41.67, \"gravity\": 1067}']\n",
      "['tilt', '0', '7/9/2022 19:58', '{\"temp\": 41.67, \"gravity\": 1067}']\n",
      "41.67\n",
      "['tilt', '1', '7/9/2022 19:59', '{\"temp\": 41.67, \"gravity\": 1067}']\n",
      "['tilt', '1', '7/9/2022 19:59', '{\"temp\": 41.67, \"gravity\": 1067}']\n",
      "41.67\n",
      "['tilt', '2', '7/9/2022 20:00', '{\"temp\": 41.11, \"gravity\": 1074}']\n",
      "['tilt', '2', '7/9/2022 20:00', '{\"temp\": 41.11, \"gravity\": 1074}']\n",
      "41.11\n",
      "['tilt', '3', '7/9/2022 20:01', '{\"temp\": 41.11, \"gravity\": 1068}']\n",
      "['tilt', '3', '7/9/2022 20:01', '{\"temp\": 41.11, \"gravity\": 1068}']\n",
      "41.11\n",
      "['tilt', '4', '7/9/2022 20:03', '{\"temp\": 41.11, \"gravity\": 1068}']\n",
      "['tilt', '4', '7/9/2022 20:03', '{\"temp\": 41.11, \"gravity\": 1068}']\n",
      "41.11\n"
     ]
    }
   ],
   "source": [
    "dprocess = dataProcess.TiltSens()\n",
    "i =0\n",
    "for data in info:\n",
    "    dprocess.rawTemperature = data\n",
    "    dprocess.processData()\n",
    "    print(dprocess.temp)\n",
    "    i+=1\n",
    "    if i == 5:\n",
    "        break"
   ]
  },
  {
   "cell_type": "code",
   "execution_count": 4,
   "metadata": {},
   "outputs": [
    {
     "name": "stdout",
     "output_type": "stream",
     "text": [
      "{1: 'processData'}\n",
      "<Models.dataProcess.TiltSens object at 0x00000184DD0DCC10>\n",
      "{'rawTemperature': ['tilt', '0', '7/9/2022 19:58', '{\"temp\": 41.67, \"gravity\": 1067}']}\n",
      "{'temp': 41.67}\n",
      "{'rawTemperature': ['tilt', '1', '7/9/2022 19:59', '{\"temp\": 41.67, \"gravity\": 1067}']}\n",
      "{'temp': 41.67}\n",
      "{'rawTemperature': ['tilt', '2', '7/9/2022 20:00', '{\"temp\": 41.11, \"gravity\": 1074}']}\n",
      "{'temp': 41.11}\n",
      "{'rawTemperature': ['tilt', '3', '7/9/2022 20:01', '{\"temp\": 41.11, \"gravity\": 1068}']}\n",
      "{'temp': 41.11}\n",
      "{'rawTemperature': ['tilt', '4', '7/9/2022 20:03', '{\"temp\": 41.11, \"gravity\": 1068}']}\n",
      "{'temp': 41.11}\n"
     ]
    }
   ],
   "source": [
    "# print(infoclass.datapoints)\n",
    "i = 0\n",
    "# dataprocess1.initialize_model()\n",
    "print(dataprocess1.exeSchedule)\n",
    "print(dataprocess1.model)\n",
    "for data in info:\n",
    "    dataprocess1.set_input('rawTemperature',data) \n",
    "    # print(dataprocess1.model.Rawtemperature)\n",
    "    # print(dataprocess1.model.rawSg)\n",
    "    # dataprocess1.Rawtemperature = data\n",
    "    # output = dataprocess1.execution()\n",
    "    dataprocess1.execution()\n",
    "    print(dataprocess1.inputs)\n",
    "    print(dataprocess1.outputs)\n",
    "    # print(dataprocess1.model.sg)\n",
    "    # print(dataprocess1.model.temp_hystory)\n",
    "    # print(output)        \n",
    "    i += 1\n",
    "    # print(dataprocess1.inputs)\n",
    "    # print(dataprocess1.outputs)\n",
    "    if i == 5:\n",
    "        break\n",
    "# ['tilt', '18', '7/9/2022 20:19', '{\"temp\": 37.78, \"gravity\": 1070}']\n"
   ]
  },
  {
   "cell_type": "code",
   "execution_count": 6,
   "metadata": {},
   "outputs": [
    {
     "name": "stdout",
     "output_type": "stream",
     "text": [
      "[1.067, 1.067, 1.074, 1.068, 1.068, 1.068, 1.068, 1.068, 1.069, 1.069, 1.069, 1.069, 1.069, 1.071, 1.07, 1.07, 1.07, 1.07, 1.07, 1.07]\n",
      "[41.67, 41.67, 41.11, 41.11, 41.11, 40.56, 40.56, 40.0, 40.0, 39.44, 39.44, 38.89, 38.33, 37.78, 37.78, 37.78, 37.78, 37.78, 37.78, 37.78]\n",
      "37.78\n",
      "['tilt', '19', '2022-07-09 20:21:10', '{\"temp\": 37.78, \"gravity\": 1070}']\n",
      "1.07\n",
      "[0.0, 0.0, 46.54679825848586, 6.682393772589481, 6.682393772589481, 6.683833395082458, 6.683833395082458, 6.685283710861484, 13.359570773271113, 13.362437559773225, 13.362437559773225, 13.365222291073326, 13.36802598028923, 26.697572840976907, 20.039638532888926, 20.039638532888926, 20.039638532888926, 20.039638532888926, 20.039638532888926, 20.039638532888926]\n",
      "[991.5670179570573, 991.5670179570573, 991.7868487467694, 991.7868487467694, 991.7868487467694, 992.0005144935487, 992.0005144935487, 992.2157673153846, 992.2157673153846, 992.4286836445987, 992.4286836445987, 992.6355057312205, 992.8437358228816, 993.0459186711363, 993.0459186711363, 993.0459186711363, 993.0459186711363, 993.0459186711363, 993.0459186711363, 993.0459186711363]\n",
      "[0.0, 0.0, 0.9187500000000154, 0.1312500000000147, 0.1312500000000147, 0.1312500000000147, 0.1312500000000147, 0.1312500000000147, 0.26250000000000023, 0.26250000000000023, 0.26250000000000023, 0.26250000000000023, 0.26250000000000023, 0.5250000000000005, 0.3937500000000149, 0.3937500000000149, 0.3937500000000149, 0.3937500000000149, 0.3937500000000149, 0.3937500000000149]\n"
     ]
    }
   ],
   "source": [
    "print(dprocess.sg_hystory)\n",
    "print(dprocess.temp_hystory)\n",
    "print(dprocess.temp)\n",
    "print(dprocess.rawSg)\n",
    "print(dprocess.sg)\n",
    "brixHys = []\n",
    "EtOH_Hys = []\n",
    "index =0\n",
    "# print(dprocess.temp_hystory[index])\n",
    "for sg in dprocess.sg_hystory:\n",
    "    # brix = dprocess.brixTransform(sg)\n",
    "    # brixHys.append(brix)\n",
    "    T = dprocess.temp_hystory[index]\n",
    "    EtOH = dprocess.sg_tranformation(sg = sg, T = T)\n",
    "    ABV = dprocess.EtOHpercentage(sg)\n",
    "    EtOH_Hys.append(EtOH)\n",
    "    index +=1\n",
    "\n",
    "print(EtOH_Hys)\n",
    "print(dprocess.roHystory)\n",
    "print(dprocess.ABV_hys)\n",
    "# sg = 0.990\n",
    "# EtOH = dprocess.sg_tranformation(sg)\n",
    "# print(EtOH)\n",
    "ABV = dprocess.EtOHpercentage(sg)"
   ]
  },
  {
   "cell_type": "code",
   "execution_count": 2,
   "metadata": {},
   "outputs": [],
   "source": [
    "import threading\n",
    "import time\n",
    "\n",
    "class Watchdog(threading.Thread):\n",
    "    def __init__(self, interval=1):\n",
    "        super().__init__()\n",
    "        self.interval = interval\n",
    "        self.running = False\n",
    "\n",
    "    def run(self):\n",
    "        self.running = True\n",
    "        while self.running:\n",
    "            self.watch()\n",
    "            time.sleep(self.interval)\n",
    "\n",
    "    def watch(self):\n",
    "        # Replace this with the condition you want to watch\n",
    "        print(\"Watchdog is running...\")\n",
    "\n",
    "    def stop(self):\n",
    "        self.running = False\n",
    "\n",
    "# Usage example\n"
   ]
  },
  {
   "cell_type": "markdown",
   "metadata": {},
   "source": []
  },
  {
   "cell_type": "code",
   "execution_count": 14,
   "metadata": {},
   "outputs": [
    {
     "name": "stdout",
     "output_type": "stream",
     "text": [
      "<class 'str'>\n",
      "MassSpringMod.DisplacementOutput > 10\n",
      "True\n",
      "<class 'dict'>\n",
      "<class 'dict'>\n",
      "<class 'str'>\n",
      "MassSpringMod.DisplacementOutput\n",
      "False\n"
     ]
    }
   ],
   "source": [
    "trigger1 = {'type':'start', 'class':'guard','definition':'MassSpringMod.DisplacementOutput > 10'}\n",
    "trigger2= {'type':'start', 'class':'temporal','definition':{'type':'freq','value': 1,'unit':'s'}}\n",
    "trigger3 = {'type':'start', 'class':'temporal','definition':{'type':'time','value': 5,'unit':'s'}}\n",
    "trigger4= {'type':'start', 'class':'streaming','definition':'MassSpringMod.DisplacementOutput'}\n",
    "    \n"
   ]
  },
  {
   "cell_type": "code",
   "execution_count": 44,
   "metadata": {},
   "outputs": [
    {
     "name": "stdout",
     "output_type": "stream",
     "text": [
      "stop\n",
      "start\n",
      "True\n",
      "start\n",
      "temporal\n",
      "{'type': 'freq', 'value': 1, 'unit': 's'}\n"
     ]
    }
   ],
   "source": [
    "triggers =[{'type':'stop', 'class':'temporal','definition':{'type':'freq','value': 1,'unit':'s'}},\n",
    "           {'type':'start', 'class':'temporal','definition':{'type':'freq','value': 1,'unit':'s'}}]\n",
    "\n",
    "if len(triggers) < 2:\n",
    "    flag_triggerStop = False\n",
    "elif len(triggers) == 2:\n",
    "    flag_triggerStop = True\n",
    "for trig in triggers:\n",
    "    print(trig['type'])\n",
    "    if trig['type'] == 'start':\n",
    "        startTrig = trig\n",
    "    elif trig['type'] == 'stop':\n",
    "        stopTrig = trig\n",
    "    else:\n",
    "        print('Error in type can only be start or stop. wrong type ' + trig['type'] )\n",
    "print(flag_triggerStop)\n",
    "print(startTrig['type'])\n",
    "print(startTrig['class'])\n",
    "print(startTrig['definition'])"
   ]
  },
  {
   "cell_type": "code",
   "execution_count": 30,
   "metadata": {},
   "outputs": [],
   "source": [
    "\n",
    "import re\n",
    "def evaluate_expression(expression, variable_name,variable_value):\n",
    "    \"\"\"\n",
    "    Evaluates a simple mathematical or logical expression with a single variable.\n",
    "\n",
    "    Args:\n",
    "        expression (str): The expression to evaluate (e.g., 'variable > 10').\n",
    "        variable_value: The value of the variable in the expression.\n",
    "\n",
    "    Returns:\n",
    "        bool: The result of the evaluated expression.\n",
    "    \"\"\"\n",
    "    # Replace the placeholder 'variable' with the actual value\n",
    "    parsed_expression = expression.replace(variable_name, repr(variable_value))\n",
    "    \n",
    "    # Evaluate the parsed expression\n",
    "    try:\n",
    "        return eval(parsed_expression)\n",
    "    except Exception as e:\n",
    "        raise ValueError(f\"Invalid expression or variable value: {e}\")\n",
    "\n",
    "def split_identifier(identifier):\n",
    "    \"\"\"\n",
    "    Splits a dotted identifier into its components.\n",
    "\n",
    "    Args:\n",
    "        identifier (str): The dotted identifier (e.g., 'MassSpringMod.DisplacementOutput').\n",
    "\n",
    "    Returns:\n",
    "        list: A list of components (e.g., ['MassSpringMod', 'DisplacementOutput']).\n",
    "    \"\"\"\n",
    "    return identifier.split('.')\n",
    "\n",
    "def split_expression(expression):\n",
    "    \"\"\"\n",
    "    Splits an expression into the left and right parts based on the comparison operator.\n",
    "\n",
    "    Args:\n",
    "        expression (str): The expression to split (e.g., 'MassSpringMod.DisplacementOutput > 10').\n",
    "\n",
    "    Returns:\n",
    "        tuple: A tuple containing the left part, operator, and the right part of the expression.\n",
    "    \"\"\"\n",
    "    # Define a regex pattern to match comparison operators\n",
    "    pattern = r'(.+?)\\s*(>|<|>=|<=|==|!=)\\s*(.+)'\n",
    "    \n",
    "    match = re.match(pattern, expression)\n",
    "    if match:\n",
    "        left_part = match.group(1).strip()\n",
    "        operator = match.group(2).strip()\n",
    "        right_part = match.group(3).strip()\n",
    "        return left_part, operator, right_part\n",
    "    else:\n",
    "        raise ValueError(\"Invalid expression format\")\n",
    "def substitute_identifier(expression, old_identifier, new_text):\n",
    "    \"\"\"\n",
    "    Substitutes an identifier in an expression with a new text.\n",
    "\n",
    "    Args:\n",
    "        expression (str): The original expression (e.g., 'MassSpringMod.DisplacementOutput > 10').\n",
    "        old_identifier (str): The identifier to replace (e.g., 'MassSpringMod.DisplacementOutput').\n",
    "        new_text (str): The new text to substitute (e.g., 'variable').\n",
    "\n",
    "    Returns:\n",
    "        str: The updated expression with the identifier replaced.\n",
    "    \"\"\"\n",
    "    # Escape the old identifier to safely use it in a regex\n",
    "    escaped_identifier = re.escape(old_identifier)\n",
    "    # Substitute the old identifier with the new text\n",
    "    updated_expression = re.sub(rf'\\b{escaped_identifier}\\b', new_text, expression)\n",
    "    return updated_expression"
   ]
  },
  {
   "cell_type": "code",
   "execution_count": 35,
   "metadata": {},
   "outputs": [
    {
     "name": "stdout",
     "output_type": "stream",
     "text": [
      "MassSpringMod.DisplacementOutput\n",
      "['MassSpringMod', 'DisplacementOutput']\n",
      "DisplacementOutput > 10\n",
      "True\n"
     ]
    }
   ],
   "source": [
    "expression = 'MassSpringMod.DisplacementOutput > 10'\n",
    "identifier = split_expression(expression=expression) \n",
    "print(identifier[0])\n",
    "components = split_identifier(identifier=identifier[0])\n",
    "print(components)\n",
    "exp2 = substitute_identifier(expression=expression,old_identifier=identifier[0],new_text=components[1])\n",
    "print(exp2)\n",
    "flag = evaluate_expression(expression=exp2,variable_name=components[1],variable_value=11)\n",
    "print(flag)"
   ]
  },
  {
   "cell_type": "code",
   "execution_count": null,
   "metadata": {},
   "outputs": [
    {
     "name": "stdout",
     "output_type": "stream",
     "text": [
      "Watchdog is running...\n",
      "Watchdog is running...\n",
      "Watchdog is running...\n",
      "Watchdog is running...\n",
      "Watchdog is running...\n",
      "Watchdog is running...\n",
      "Watchdog is running...\n",
      "Watchdog is running...\n",
      "Watchdog has been stopped.\n",
      "Watchdog is running...\n",
      "Watchdog is running...\n",
      "Watchdog is running...\n",
      "Watchdog is running...\n",
      "Watchdog is running...\n",
      "Watchdog is running...\n",
      "Watchdog is running...\n",
      "Watchdog is running...\n",
      "Watchdog is running...\n",
      "Watchdog is running...\n",
      "Watchdog is running...\n"
     ]
    }
   ],
   "source": [
    "import concurrent.futures\n",
    "import time\n",
    "\n",
    "def watch():\n",
    "    while True:\n",
    "        print(\"Watchdog is running...\")\n",
    "        time.sleep(2)\n",
    "\n",
    "def main():\n",
    "    with concurrent.futures.ThreadPoolExecutor(max_workers=1) as executor:\n",
    "        future = executor.submit(watch)\n",
    "        try:\n",
    "            # Keep the main program running\n",
    "            while True:\n",
    "                time.sleep(1)\n",
    "        except KeyboardInterrupt:\n",
    "            # Cancel the watchdog task\n",
    "            future.cancel()\n",
    "            print(\"Watchdog has been stopped.\")\n",
    "\n",
    "if __name__ == \"__main__\":\n",
    "    main()\n"
   ]
  }
 ],
 "metadata": {
  "kernelspec": {
   "display_name": "Python 3",
   "language": "python",
   "name": "python3"
  },
  "language_info": {
   "codemirror_mode": {
    "name": "ipython",
    "version": 3
   },
   "file_extension": ".py",
   "mimetype": "text/x-python",
   "name": "python",
   "nbconvert_exporter": "python",
   "pygments_lexer": "ipython3",
   "version": "3.11.9"
  }
 },
 "nbformat": 4,
 "nbformat_minor": 2
}
