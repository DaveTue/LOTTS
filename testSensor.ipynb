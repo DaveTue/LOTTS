{
 "cells": [
  {
   "cell_type": "markdown",
   "metadata": {},
   "source": [
    "This is to test the sensor component"
   ]
  },
  {
   "cell_type": "code",
   "execution_count": 1,
   "metadata": {},
   "outputs": [],
   "source": [
    "import Comm \n",
    "from Models import dataProcess\n",
    "import exeAreas\n",
    "import Service\n",
    "# import DTservice\n",
    "import GlOb\n",
    "import time\n",
    "from API import srcAPI as src\n",
    "from API import sinkAPI as sink\n",
    "from API import PythonAPI\n",
    "from API.comm_protos.TCP import TCPServer as Server\n",
    "import os\n"
   ]
  },
  {
   "cell_type": "code",
   "execution_count": 2,
   "metadata": {},
   "outputs": [
    {
     "name": "stdout",
     "output_type": "stream",
     "text": [
      "Server is running on port 55000.\n",
      "Listening on port 55000...\n",
      "Server is running on port 55001.\n",
      "Listening on port 55001...\n",
      "Server is running on port 60001.\n",
      "Listening on port 60001...\n",
      "Server is running on port 60002.\n",
      "Listening on port 60002...\n",
      "Server is running on port 60000.\n",
      "Listening on port 60000...\n",
      "Server is running on port 60003.\n",
      "Listening on port 60003...\n",
      "Server is running on port 60004.\n",
      "Listening on port 60004...\n"
     ]
    },
    {
     "name": "stdout",
     "output_type": "stream",
     "text": [
      "Connection from ('127.0.0.1', 50243) on port 60000\n",
      "Connection from ('127.0.0.1', 50247) on port 60001\n",
      "Connection from ('127.0.0.1', 50248) on port 60002\n",
      "Connection from ('127.0.0.1', 50244) on port 60000\n"
     ]
    }
   ],
   "source": [
    "\n",
    "# Start server\n",
    "ports = [55000,55001,60001,60002,60000,60003,60004]\n",
    "server = Server(ports=ports)\n",
    "server.start_server()"
   ]
  },
  {
   "cell_type": "code",
   "execution_count": 3,
   "metadata": {},
   "outputs": [
    {
     "name": "stdout",
     "output_type": "stream",
     "text": [
      "Data of the class has been extracted\n",
      "For type DataProc the complete execution will be performed only by a method called: processData \n",
      "no parameters\n",
      "Inputs and outputs have been defined for this model\n"
     ]
    }
   ],
   "source": [
    "#create interfaces\n",
    "\n",
    "##############sensor inteface\n",
    "sens = src.Sensor(name  = 'tilt', config = {\"type\" : \"freq\", 'unit': 's', 'occurrences_per_unit':1},\n",
    "                    sending_port = 55000, receiving_ports = [55001], \n",
    "                    outputsNames = ['temperature'])\n",
    "sensName = 'Tilt_sens'\n",
    "sens.save_to_csv(file_name=sensName)\n",
    "\n",
    "############### Sink interface\n",
    "monitor = sink.Sink (comm_proto = 'TCP-IP', \n",
    "                    name  = 'monitor', config = {\"type\" : \"freq\", \"unit\": \"s\", \"occurrences_per_unit\":1},\n",
    "                    instruction_port = 60000, sending_ports=[60001], \n",
    "                    inputsNames = ['temperature'])\n",
    "sinkName =  \"Tilt_monitor\"\n",
    "monitor.save_to_csv(file_name=sinkName)\n",
    "\n",
    "################### Data Process unit interface\n",
    "directory = os.getcwd() + '\\\\' + 'Models'\n",
    "DatProcc = dataProcess.TempSens()\n",
    "DataProc = PythonAPI.pythonEncap(model = DatProcc,directory=directory,\n",
    "                                 modelName = 'DPTempSens', typ = 'DataProc',\n",
    "                                 inputsNames= ['rawTemp'], outputsNames= ['temp'])\n",
    "DP_name = 'DPTempSens'\n",
    "DataProc.save_to_csv(file_name=DP_name)"
   ]
  },
  {
   "cell_type": "code",
   "execution_count": 4,
   "metadata": {},
   "outputs": [
    {
     "name": "stdout",
     "output_type": "stream",
     "text": [
      "The variables defined are connsistent with the sensor component Tilt_sens\n",
      "The variables defined are connsistent with the sink component Tilt_monitor\n",
      "Data of the class has been extracted\n",
      "For type DataProc the complete execution will be performed only by a method called: processData \n",
      "no parameters\n",
      "Inputs and outputs have been defined for this model\n"
     ]
    }
   ],
   "source": [
    "#generate component: sensor, dataprocessing and sink\n",
    "\n",
    "#sensor component \n",
    "output = {'name':\"temperature\", 'unit':'C', 'datatype':'JSON','val':''}\n",
    "outputs = [output]\n",
    "\n",
    "Tilt_sens = Comm.Source(name = 'Tilt_sens',outputs = outputs)\n",
    "\n",
    "# sink component\n",
    "input = {'name':\"temperature\", 'unit':'C', 'datatype':'float','val':''}\n",
    "inputs = [input]\n",
    "\n",
    "monitor_sink =  Comm.Sink(name='Tilt_monitor',inputs=inputs)\n",
    "\n",
    "# Data process component \n",
    "directory = os.getcwd() + '\\\\' + 'Models'\n",
    "\n",
    "input = {'name':\"rawTemp\", 'unit':'C', 'datatype':'JSON','val':''}\n",
    "inputs = [input]\n",
    "output = {'name':\"temp\", 'unit':'C', 'datatype':'JSON','val':''}\n",
    "outputs = [output]\n",
    "\n",
    "dataprocess1 = Comm.Model(name='DPTempSens',SimE='Python',modelDir=directory, \n",
    "                          inputs=inputs,outputs=outputs, parameters=[])"
   ]
  },
  {
   "cell_type": "code",
   "execution_count": 5,
   "metadata": {},
   "outputs": [],
   "source": [
    "#connect components\n",
    "connections = exeAreas.ConnectionHandler()\n",
    "#source outputs\n",
    "srcin1 = {'component':Tilt_sens,'output':'temperature'}\n",
    "#dtaprocess inputs\n",
    "dtin1 = {'component':dataprocess1,'input':'rawTemp'}\n",
    "#dataprocess outputs\n",
    "dtout1 = {'component':dataprocess1,'output':'temp'}\n",
    "# sink inputs\n",
    "sinkin1 = {'component':monitor_sink,'input':'temperature'}\n",
    "\n",
    "connections.connect(source=srcin1,destination=dtin1)\n",
    "connections.connect(source=dtout1,destination=sinkin1)"
   ]
  },
  {
   "cell_type": "code",
   "execution_count": 6,
   "metadata": {},
   "outputs": [
    {
     "name": "stdout",
     "output_type": "stream",
     "text": [
      "Defult triggers will be used, no triggers as input\n",
      "*******************************************************************\n",
      "DONT FORGET TO INCLUDE MANUALLY THE UNIQUE OBJECT OF THE APPLICATION CLOCK AND RE-RUN OBJ_GEN\n",
      "******************************************************************\n",
      "*******************************************************************\n",
      "DONT FORGET TO INCLUDE MANUALLY THE UNIQUE OBJECT OF THE APPLICATION CLOCK AND RE-RUN OBJ_GEN\n",
      "******************************************************************\n"
     ]
    },
    {
     "data": {
      "image/png": "[encoded data removed]",
      "text/plain": [
       "<Figure size 1400x700 with 1 Axes>"
      ]
     },
     "metadata": {},
     "output_type": "display_data"
    },
    {
     "name": "stdout",
     "output_type": "stream",
     "text": [
      "Defult triggers will be used, no triggers as input\n",
      "*******************************************************************\n",
      "DONT FORGET TO INCLUDE MANUALLY THE UNIQUE OBJECT OF THE APPLICATION CLOCK AND RE-RUN OBJ_GEN\n",
      "******************************************************************\n",
      "*******************************************************************\n",
      "DONT FORGET TO INCLUDE MANUALLY THE UNIQUE OBJECT OF THE APPLICATION CLOCK AND RE-RUN OBJ_GEN\n",
      "******************************************************************\n"
     ]
    },
    {
     "data": {
      "image/png": "[encoded data removed]",
      "text/plain": [
       "<Figure size 1400x700 with 1 Axes>"
      ]
     },
     "metadata": {},
     "output_type": "display_data"
    }
   ],
   "source": [
    "globals = GlOb.GlobalVars()\n",
    "allComponents = [Tilt_sens,dataprocess1,monitor_sink,globals]\n",
    "#area components\n",
    "srcAreaComp =  [Tilt_sens,dataprocess1]\n",
    "srcAreatrig =[]\n",
    "\n",
    "dstAreaComp = [monitor_sink]\n",
    "dstAreatrig = []\n",
    "\n",
    "srcArea = exeAreas.srcExe(name = 'TiltArea',components=srcAreaComp, exec_type='time_specific',\n",
    "                          triggers=srcAreatrig,allComponents=allComponents,delayTime=5)\n",
    "\n",
    "dstArea = exeAreas.sinkExe(name = 'MonitorArea',components=dstAreaComp, exec_type='streaming',\n",
    "                          triggers=dstAreatrig,allComponents=allComponents, delayTime=7)"
   ]
  },
  {
   "cell_type": "code",
   "execution_count": null,
   "metadata": {},
   "outputs": [],
   "source": [
    "# Start server\n",
    "ports = [55000,55001,60001,60002,60000,60003,60004]\n",
    "server = Server(ports=ports)\n",
    "server.start_server()"
   ]
  },
  {
   "cell_type": "code",
   "execution_count": 7,
   "metadata": {},
   "outputs": [
    {
     "name": "stdout",
     "output_type": "stream",
     "text": [
      "Connected to server on send port 60001.\n",
      "Connection from ('127.0.0.1', 50263) on port 60001\n",
      "Connected to server on send port 60000.\n",
      "Connection from ('127.0.0.1', 50264) on port 60000\n",
      "Connection from ('127.0.0.1', 50265) on port 60000\n",
      "Connected to server on receive port 60000.\n"
     ]
    }
   ],
   "source": [
    "# monitor_sink.inputs\n",
    "# monitor.client\n",
    "dstArea.initialize()"
   ]
  },
  {
   "cell_type": "code",
   "execution_count": 8,
   "metadata": {},
   "outputs": [
    {
     "name": "stdout",
     "output_type": "stream",
     "text": [
      "60000\n",
      "<class 'int'>\n"
     ]
    }
   ],
   "source": [
    "port = monitor_sink.interfaceObj.instruction_port\n",
    "print(port)\n",
    "print(type(port))"
   ]
  },
  {
   "cell_type": "code",
   "execution_count": 9,
   "metadata": {},
   "outputs": [
    {
     "name": "stdout",
     "output_type": "stream",
     "text": [
      "{\"command\": \"start\"}\n",
      "{\"command\": \"start\"}\n",
      "{\"command\": \"start\"}\n",
      "<class 'str'>\n",
      "Message sent on port 60000: {\"command\": \"start\"}\n",
      "Sensor Tilt_monitor has been activated and functioning\n",
      "Message received on port 60000: {\"command\": \"start\"}\n"
     ]
    }
   ],
   "source": [
    "monitor_sink.controller(command = 'start')\n",
    "\n"
   ]
  },
  {
   "cell_type": "code",
   "execution_count": 12,
   "metadata": {},
   "outputs": [
    {
     "name": "stdout",
     "output_type": "stream",
     "text": [
      "\n",
      "{'input0_Sink1': {'name': 'temperature', 'value': 20}}\n"
     ]
    }
   ],
   "source": [
    "monitor_sink.inputs\n",
    "for id, input in monitor_sink.inputs.items():\n",
    "    print(input['value'])\n",
    "    input['value'] = 20\n",
    "\n",
    "print(monitor_sink.inputs)"
   ]
  },
  {
   "cell_type": "code",
   "execution_count": 13,
   "metadata": {},
   "outputs": [
    {
     "ename": "TypeError",
     "evalue": "Component.input_update() got an unexpected keyword argument 'client'",
     "output_type": "error",
     "traceback": [
      "\u001b[1;31m---------------------------------------------------------------------------\u001b[0m",
      "\u001b[1;31mTypeError\u001b[0m                                 Traceback (most recent call last)",
      "Cell \u001b[1;32mIn[13], line 1\u001b[0m\n\u001b[1;32m----> 1\u001b[0m \u001b[43mmonitor_sink\u001b[49m\u001b[38;5;241;43m.\u001b[39;49m\u001b[43mpush_data\u001b[49m\u001b[43m(\u001b[49m\u001b[43mtestMode\u001b[49m\u001b[38;5;241;43m=\u001b[39;49m\u001b[38;5;124;43m'\u001b[39;49m\u001b[38;5;124;43mon\u001b[39;49m\u001b[38;5;124;43m'\u001b[39;49m\u001b[43m)\u001b[49m\n",
      "File \u001b[1;32md:\\Git_folders\\projects_app\\dsl-orchestration\\Comm.py:1172\u001b[0m, in \u001b[0;36mSink.push_data\u001b[1;34m(self, inputName, testMode)\u001b[0m\n\u001b[0;32m   1169\u001b[0m     \u001b[38;5;28mself\u001b[39m\u001b[38;5;241m.\u001b[39minport_assigment (inputsFromConn)\n\u001b[0;32m   1170\u001b[0m     \u001b[38;5;28mprint\u001b[39m(\u001b[38;5;124m'\u001b[39m\u001b[38;5;124mpulling data from connector\u001b[39m\u001b[38;5;124m'\u001b[39m)\n\u001b[1;32m-> 1172\u001b[0m input_val \u001b[38;5;241m=\u001b[39m \u001b[38;5;28;43mself\u001b[39;49m\u001b[38;5;241;43m.\u001b[39;49m\u001b[43minput_update\u001b[49m\u001b[43m(\u001b[49m\u001b[43minputs_names\u001b[49m\u001b[43m \u001b[49m\u001b[38;5;241;43m=\u001b[39;49m\u001b[43m \u001b[49m\u001b[38;5;28;43mself\u001b[39;49m\u001b[38;5;241;43m.\u001b[39;49m\u001b[43minputsNames\u001b[49m\u001b[43m,\u001b[49m\u001b[43mclient\u001b[49m\u001b[43m \u001b[49m\u001b[38;5;241;43m=\u001b[39;49m\u001b[43m \u001b[49m\u001b[38;5;28;43mself\u001b[39;49m\u001b[38;5;241;43m.\u001b[39;49m\u001b[43mclient\u001b[49m\u001b[43m)\u001b[49m\n\u001b[0;32m   1173\u001b[0m \u001b[38;5;28mprint\u001b[39m(input_val)\n\u001b[0;32m   1175\u001b[0m \u001b[38;5;28;01mfor\u001b[39;00m name \u001b[38;5;129;01min\u001b[39;00m inputName:\n",
      "\u001b[1;31mTypeError\u001b[0m: Component.input_update() got an unexpected keyword argument 'client'"
     ]
    }
   ],
   "source": [
    "monitor_sink.push_data(testMode='on')"
   ]
  },
  {
   "cell_type": "code",
   "execution_count": 6,
   "metadata": {},
   "outputs": [],
   "source": [
    "# srcArea.initialize()\n",
    "# dstArea.initialize()\n",
    "execAreas = [srcArea,dstArea]\n",
    "DT = Service.ExeManager(exeAreas=execAreas)"
   ]
  },
  {
   "cell_type": "code",
   "execution_count": null,
   "metadata": {},
   "outputs": [],
   "source": [
    "DT.initAreas()"
   ]
  },
  {
   "cell_type": "code",
   "execution_count": null,
   "metadata": {},
   "outputs": [],
   "source": [
    "DT.startExe()\n",
    "time.sleep(20)\n",
    "globals.stopApp = True"
   ]
  },
  {
   "cell_type": "code",
   "execution_count": null,
   "metadata": {},
   "outputs": [],
   "source": [
    "# import threading\n",
    "# srcexecution = threading.Thread(target=srcArea.execute(), daemon=True)\n",
    "# srcexecution.start()\n",
    "print(DT.threads)\n"
   ]
  }
 ],
 "metadata": {
  "kernelspec": {
   "display_name": "Python 3",
   "language": "python",
   "name": "python3"
  },
  "language_info": {
   "codemirror_mode": {
    "name": "ipython",
    "version": 3
   },
   "file_extension": ".py",
   "mimetype": "text/x-python",
   "name": "python",
   "nbconvert_exporter": "python",
   "pygments_lexer": "ipython3",
   "version": "3.11.9"
  }
 },
 "nbformat": 4,
 "nbformat_minor": 2
}
