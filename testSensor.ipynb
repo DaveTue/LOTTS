{
 "cells": [
  {
   "cell_type": "markdown",
   "metadata": {},
   "source": [
    "This is to test the sensor component"
   ]
  },
  {
   "cell_type": "code",
   "execution_count": 1,
   "metadata": {},
   "outputs": [],
   "source": [
    "import Comm \n",
    "from Models import dataProcess\n",
    "import exeAreas\n",
    "import Service\n",
    "# import DTservice\n",
    "import GlOb\n",
    "import time\n",
    "from API import srcAPI as src\n",
    "from API import sinkAPI as sink\n",
    "from API import PythonAPI\n",
    "from API.comm_protos.TCP import TCPServer as Server\n",
    "import os\n"
   ]
  },
  {
   "cell_type": "code",
   "execution_count": null,
   "metadata": {},
   "outputs": [],
   "source": [
    "\n",
    "# Start server\n",
    "ports = [55000,55001,60001,60002,60000,60003,60004]\n",
    "server = Server(ports=ports)\n",
    "server.start_server()"
   ]
  },
  {
   "cell_type": "code",
   "execution_count": null,
   "metadata": {},
   "outputs": [],
   "source": [
    "#create interfaces\n",
    "\n",
    "##############sensor inteface\n",
    "sens = src.Sensor(name  = 'tilt', config = {\"type\" : \"freq\", 'unit': 's', 'occurrences_per_unit':1},\n",
    "                    sending_port = 55000, receiving_ports = [55001], \n",
    "                    outputsNames = ['temperature'])\n",
    "sensName = 'Tilt_sens'\n",
    "sens.save_to_csv(file_name=sensName)\n",
    "\n",
    "############### Sink interface\n",
    "monitor = sink.Sink (comm_proto = 'TCP-IP', \n",
    "                    name  = 'monitor', config = {\"type\" : \"freq\", \"unit\": \"s\", \"occurrences_per_unit\":1},\n",
    "                    instruction_port = 60000, sending_ports=[60001], \n",
    "                    inputsNames = ['temperature'])\n",
    "sinkName =  \"Tilt_monitor\"\n",
    "monitor.save_to_csv(file_name=sinkName)\n",
    "\n",
    "################### Data Process unit interface\n",
    "directory = os.getcwd() + '\\\\' + 'Models'\n",
    "DatProcc = dataProcess.TempSens()\n",
    "DataProc = PythonAPI.pythonEncap(model = DatProcc,directory=directory,\n",
    "                                 modelName = 'DPTempSens', typ = 'DataProc',\n",
    "                                 inputsNames= ['rawTemp'], outputsNames= ['temp'])\n",
    "DP_name = 'DPTempSens'\n",
    "DataProc.save_to_csv(file_name=DP_name)"
   ]
  },
  {
   "cell_type": "code",
   "execution_count": null,
   "metadata": {},
   "outputs": [],
   "source": [
    "#generate component: sensor, dataprocessing and sink\n",
    "\n",
    "#sensor component \n",
    "output = {'name':\"temperature\", 'unit':'C', 'datatype':'JSON','val':''}\n",
    "outputs = [output]\n",
    "\n",
    "Tilt_sens = Comm.Source(name = 'Tilt_sens',outputs = outputs)\n",
    "\n",
    "# sink component\n",
    "input = {'name':\"temperature\", 'unit':'C', 'datatype':'float','val':''}\n",
    "inputs = [input]\n",
    "\n",
    "monitor_sink =  Comm.Sink(name='Tilt_monitor',inputs=inputs)\n",
    "\n",
    "# Data process component \n",
    "directory = os.getcwd() + '\\\\' + 'Models'\n",
    "\n",
    "input = {'name':\"rawTemp\", 'unit':'C', 'datatype':'JSON','val':''}\n",
    "inputs = [input]\n",
    "output = {'name':\"temp\", 'unit':'C', 'datatype':'JSON','val':''}\n",
    "outputs = [output]\n",
    "\n",
    "dataprocess1 = Comm.Model(name='DPTempSens',SimE='Python',modelDir=directory, \n",
    "                          inputs=inputs,outputs=outputs, parameters=[])"
   ]
  },
  {
   "cell_type": "code",
   "execution_count": 5,
   "metadata": {},
   "outputs": [],
   "source": [
    "#connect components\n",
    "connections = exeAreas.ConnectionHandler()\n",
    "#source outputs\n",
    "srcin1 = {'component':Tilt_sens,'output':'temperature'}\n",
    "#dtaprocess inputs\n",
    "dtin1 = {'component':dataprocess1,'input':'rawTemp'}\n",
    "#dataprocess outputs\n",
    "dtout1 = {'component':dataprocess1,'output':'temp'}\n",
    "# sink inputs\n",
    "sinkin1 = {'component':monitor_sink,'input':'temperature'}\n",
    "\n",
    "connections.connect(source=srcin1,destination=dtin1)\n",
    "connections.connect(source=dtout1,destination=sinkin1)"
   ]
  },
  {
   "cell_type": "code",
   "execution_count": null,
   "metadata": {},
   "outputs": [],
   "source": [
    "globals = GlOb.GlobalVars()\n",
    "allComponents = [Tilt_sens,dataprocess1,monitor_sink,globals]\n",
    "#area components\n",
    "srcAreaComp =  [Tilt_sens,dataprocess1]\n",
    "srcAreatrig =[]\n",
    "\n",
    "dstAreaComp = [monitor_sink]\n",
    "dstAreatrig = []\n",
    "\n",
    "srcArea = exeAreas.srcExe(name = 'TiltArea',components=srcAreaComp, exec_type='time_specific',\n",
    "                          triggers=srcAreatrig,allComponents=allComponents,delayTime=5)\n",
    "\n",
    "dstArea = exeAreas.sinkExe(name = 'MonitorArea',components=dstAreaComp, exec_type='streaming',\n",
    "                          triggers=dstAreatrig,allComponents=allComponents, delayTime=7)"
   ]
  },
  {
   "cell_type": "code",
   "execution_count": null,
   "metadata": {},
   "outputs": [],
   "source": [
    "# Start server\n",
    "ports = [55000,55001,60001,60002,60000,60003,60004]\n",
    "server = Server(ports=ports)\n",
    "server.start_server()"
   ]
  },
  {
   "cell_type": "code",
   "execution_count": null,
   "metadata": {},
   "outputs": [],
   "source": [
    "# monitor_sink.inputs\n",
    "# monitor.client\n",
    "dstArea.initialize()"
   ]
  },
  {
   "cell_type": "code",
   "execution_count": null,
   "metadata": {},
   "outputs": [],
   "source": [
    "port = monitor_sink.interfaceObj.instruction_port\n",
    "print(port)\n",
    "print(type(port))"
   ]
  },
  {
   "cell_type": "code",
   "execution_count": null,
   "metadata": {},
   "outputs": [],
   "source": [
    "monitor_sink.controller(command = 'start')\n",
    "\n"
   ]
  },
  {
   "cell_type": "code",
   "execution_count": null,
   "metadata": {},
   "outputs": [],
   "source": [
    "monitor_sink.inputs\n",
    "for id, input in monitor_sink.inputs.items():\n",
    "    print(input['value'])\n",
    "    input['value'] = 20\n",
    "\n",
    "print(monitor_sink.inputs)"
   ]
  },
  {
   "cell_type": "code",
   "execution_count": null,
   "metadata": {},
   "outputs": [],
   "source": [
    "monitor_sink.push_data(testMode='on')"
   ]
  },
  {
   "cell_type": "code",
   "execution_count": 6,
   "metadata": {},
   "outputs": [],
   "source": [
    "# srcArea.initialize()\n",
    "# dstArea.initialize()\n",
    "execAreas = [srcArea,dstArea]\n",
    "DT = Service.ExeManager(exeAreas=execAreas)"
   ]
  },
  {
   "cell_type": "code",
   "execution_count": null,
   "metadata": {},
   "outputs": [],
   "source": [
    "DT.initAreas()"
   ]
  },
  {
   "cell_type": "code",
   "execution_count": null,
   "metadata": {},
   "outputs": [],
   "source": [
    "DT.startExe()\n",
    "time.sleep(20)\n",
    "globals.stopApp = True"
   ]
  },
  {
   "cell_type": "code",
   "execution_count": null,
   "metadata": {},
   "outputs": [],
   "source": [
    "# import threading\n",
    "# srcexecution = threading.Thread(target=srcArea.execute(), daemon=True)\n",
    "# srcexecution.start()\n",
    "print(DT.threads)\n"
   ]
  }
 ],
 "metadata": {
  "kernelspec": {
   "display_name": "Python 3",
   "language": "python",
   "name": "python3"
  },
  "language_info": {
   "codemirror_mode": {
    "name": "ipython",
    "version": 3
   },
   "file_extension": ".py",
   "mimetype": "text/x-python",
   "name": "python",
   "nbconvert_exporter": "python",
   "pygments_lexer": "ipython3",
   "version": "3.11.9"
  }
 },
 "nbformat": 4,
 "nbformat_minor": 2
}
