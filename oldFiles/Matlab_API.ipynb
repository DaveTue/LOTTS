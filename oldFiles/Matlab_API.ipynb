{
 "cells": [
  {
   "cell_type": "code",
   "execution_count": 1,
   "id": "902d3eca",
   "metadata": {},
   "outputs": [],
   "source": [
    "import Matlab_API\n",
    "import localInterface_gen\n",
    "import os\n",
    "import matlab"
   ]
  },
  {
   "cell_type": "code",
   "execution_count": 2,
   "id": "b44e72db-cebe-42fa-bd1a-14e912e7f8fc",
   "metadata": {},
   "outputs": [
    {
     "name": "stdout",
     "output_type": "stream",
     "text": [
      "3.11.9 (tags/v3.11.9:de54cf5, Apr  2 2024, 10:12:12) [MSC v.1938 64 bit (AMD64)]\n",
      "sys.version_info(major=3, minor=11, micro=9, releaselevel='final', serial=0)\n",
      "hello\n"
     ]
    }
   ],
   "source": [
    "import sys\n",
    "\n",
    "print(sys.version)\n",
    "print(sys.version_info)\n",
    "print('hello')"
   ]
  },
  {
   "cell_type": "code",
   "execution_count": 3,
   "id": "eca52044-13be-468d-8b6b-38ab53037394",
   "metadata": {},
   "outputs": [],
   "source": [
    "import matlab.engine\n",
    "import matplotlib.pyplot as plt"
   ]
  },
  {
   "cell_type": "code",
   "execution_count": 4,
   "id": "3967a497",
   "metadata": {},
   "outputs": [
    {
     "name": "stdout",
     "output_type": "stream",
     "text": [
      "['temp_in', 'gas_in', 'In1']\n",
      "[{'src': 'temp_in', 'dst': 'Gain'}, {'src': 'Gain', 'dst': 'temp_out'}, {'src': 'Gain1', 'dst': 'gas_1'}, {'src': 'gas_in', 'dst': 'Gain1'}, {'src': 'In1', 'dst': 'Out1'}]\n",
      "['temp_out', 'gas_1', 'Out1']\n",
      "[{'src': 'Gain', 'dst': 'temp_out'}, {'src': 'Gain1', 'dst': 'gas_1'}, {'src': 'In1', 'dst': 'Out1'}]\n",
      "[{'src': 'temp_in', 'dst': 'Gain'}, {'src': 'gas_in', 'dst': 'Gain1'}, {'src': 'In1', 'dst': 'Out1'}]\n",
      "[]\n"
     ]
    }
   ],
   "source": [
    "ports_data={'inports': ['temp_in', 'gas_in', 'In1'], 'outports': ['temp_out', 'gas_1', 'Out1'], 'connections': [{'src': 'temp_in', 'dst': 'Gain'}, {'src': 'Gain', 'dst': 'temp_out'}, {'src': 'Gain1', 'dst': 'gas_1'}, {'src': 'gas_in', 'dst': 'Gain1'}, {'src': 'In1', 'dst': 'Out1'}]}\n",
    "print(ports_data['inports'])\n",
    "print(ports_data['connections'])\n",
    "print(ports_data['outports'])\n",
    "\n",
    "conn_input =[]\n",
    "conn_outputs = []\n",
    "\n",
    "for i in ports_data['connections']:\n",
    "    if i['src'] in ports_data['inports']:\n",
    "        conn_input.append(i)\n",
    "    if i['dst'] in ports_data['outports']:\n",
    "        conn_outputs.append(i)\n",
    "\n",
    "print(conn_outputs)\n",
    "print(conn_input)\n",
    "\n",
    "id = [i for i, name in ports_data['connections'] if name == 'Gain']\n",
    "print(id)"
   ]
  },
  {
   "cell_type": "code",
   "execution_count": 12,
   "id": "78600a29",
   "metadata": {},
   "outputs": [
    {
     "name": "stdout",
     "output_type": "stream",
     "text": [
      "{'inputs': [{'1': 'temp_in'}, {'2': 'gas_in'}, {'3': 'In1'}], 'outputs': [{'1': 'temp_out'}, {'2': 'gas_1'}, {'3': 'Out1'}]}\n"
     ]
    }
   ],
   "source": [
    "\n",
    "input = ['temp_in', 'gas_in', 'In1']\n",
    "output = ['temp_out', 'gas_1', 'Out1']\n",
    "input_dict =[]\n",
    "output_dict = []\n",
    "\n",
    "for j in range(0,2):\n",
    "    if j==0:\n",
    "        input_flag = True\n",
    "        output_flag=False\n",
    "        rep_num = int(len(input))\n",
    "    elif j==1:\n",
    "        input_flag = False\n",
    "        output_flag=True\n",
    "        rep_num = int(len(output))\n",
    "\n",
    "    for i in range(0,rep_num):\n",
    "        name_dict = str(i+1)\n",
    "        if input_flag == True:\n",
    "            temp_dict = {name_dict: input[i] }\n",
    "            if temp_dict not in input_dict:\n",
    "                input_dict.append(temp_dict)\n",
    "        elif output_flag == True:     \n",
    "            temp_dict = {name_dict: output[i]}\n",
    "            if temp_dict not in output_dict:\n",
    "                output_dict.append(temp_dict)\n",
    "\n",
    "ports_dictionary = dict(inputs = input_dict, outputs = output_dict )\n",
    "print(ports_dictionary)"
   ]
  },
  {
   "cell_type": "code",
   "execution_count": 5,
   "id": "0b0caaf5",
   "metadata": {},
   "outputs": [
    {
     "name": "stdout",
     "output_type": "stream",
     "text": [
      "{'inputs': {'temp_in': '1', 'gas_in': '2', 'In1': '3'}, 'outputs': {'temp_out': '1', 'gas_1': '2', 'Out1': '3'}}\n",
      "{'temp_in': '1', 'gas_in': '2', 'In1': '3'}\n"
     ]
    }
   ],
   "source": [
    "input = ['temp_in', 'gas_in', 'In1']\n",
    "output = ['temp_out', 'gas_1', 'Out1']\n",
    "input_dict ={}\n",
    "output_dict = {}\n",
    "\n",
    "for j in range(0,2):\n",
    "    if j==0:\n",
    "        input_flag = True\n",
    "        output_flag=False\n",
    "        rep_num = int(len(input))\n",
    "    elif j==1:\n",
    "        input_flag = False\n",
    "        output_flag=True\n",
    "        rep_num = int(len(output))\n",
    "\n",
    "    for i in range(0,rep_num):\n",
    "        name_dict = str(i+1)\n",
    "        if input_flag == True:\n",
    "            input_dict[input[i]] = name_dict\n",
    "            #input_dict[name_dict] = input[i]\n",
    "        elif output_flag == True:     \n",
    "            output_dict[output[i]] =name_dict\n",
    "\n",
    "ports_dictionary = dict(inputs = input_dict, outputs = output_dict )\n",
    "print(ports_dictionary)\n",
    "print(ports_dictionary['inputs'])"
   ]
  },
  {
   "cell_type": "code",
   "execution_count": 6,
   "id": "dd254017",
   "metadata": {},
   "outputs": [
    {
     "name": "stdout",
     "output_type": "stream",
     "text": [
      "{'temp_in': '1', 'gas_in': '2', 'In1': '3'}\n",
      "False\n",
      "1\n",
      "2\n",
      "3\n"
     ]
    },
    {
     "ename": "UnboundLocalError",
     "evalue": "cannot access local variable 'j' where it is not associated with a value",
     "output_type": "error",
     "traceback": [
      "\u001b[1;31m---------------------------------------------------------------------------\u001b[0m",
      "\u001b[1;31mUnboundLocalError\u001b[0m                         Traceback (most recent call last)",
      "Cell \u001b[1;32mIn[6], line 6\u001b[0m\n\u001b[0;32m      3\u001b[0m \u001b[38;5;28;01mfor\u001b[39;00m i \u001b[38;5;129;01min\u001b[39;00m ports_dictionary[\u001b[38;5;124m'\u001b[39m\u001b[38;5;124minputs\u001b[39m\u001b[38;5;124m'\u001b[39m]\u001b[38;5;241m.\u001b[39mitems():\n\u001b[0;32m      4\u001b[0m     \u001b[38;5;28mprint\u001b[39m(i[\u001b[38;5;241m1\u001b[39m])\n\u001b[1;32m----> 6\u001b[0m \u001b[43m[\u001b[49m\u001b[43mj\u001b[49m\u001b[43m[\u001b[49m\u001b[38;5;241;43m0\u001b[39;49m\u001b[43m]\u001b[49m\u001b[43m \u001b[49m\u001b[38;5;28;43;01mfor\u001b[39;49;00m\u001b[43m \u001b[49m\u001b[43mj\u001b[49m\u001b[43m[\u001b[49m\u001b[38;5;241;43m0\u001b[39;49m\u001b[43m]\u001b[49m\u001b[43m,\u001b[49m\u001b[43m \u001b[49m\u001b[43mj\u001b[49m\u001b[43m \u001b[49m\u001b[38;5;129;43;01min\u001b[39;49;00m\u001b[43m \u001b[49m\u001b[43mports_dictionary\u001b[49m\u001b[43m[\u001b[49m\u001b[38;5;124;43m'\u001b[39;49m\u001b[38;5;124;43minputs\u001b[39;49m\u001b[38;5;124;43m'\u001b[39;49m\u001b[43m]\u001b[49m\u001b[38;5;241;43m.\u001b[39;49m\u001b[43mitems\u001b[49m\u001b[43m(\u001b[49m\u001b[43m)\u001b[49m\u001b[43m \u001b[49m\u001b[38;5;28;43;01mif\u001b[39;49;00m\u001b[43m \u001b[49m\u001b[43mj\u001b[49m\u001b[43m[\u001b[49m\u001b[38;5;241;43m1\u001b[39;49m\u001b[43m]\u001b[49m\u001b[43m \u001b[49m\u001b[38;5;241;43m==\u001b[39;49m\u001b[43m \u001b[49m\u001b[38;5;124;43m'\u001b[39;49m\u001b[38;5;124;43mgas_in\u001b[39;49m\u001b[38;5;124;43m'\u001b[39;49m\u001b[43m \u001b[49m\u001b[43m]\u001b[49m\n\u001b[0;32m      8\u001b[0m \u001b[38;5;28mprint\u001b[39m(j)\n",
      "Cell \u001b[1;32mIn[6], line 6\u001b[0m, in \u001b[0;36m<listcomp>\u001b[1;34m(.0)\u001b[0m\n\u001b[0;32m      3\u001b[0m \u001b[38;5;28;01mfor\u001b[39;00m i \u001b[38;5;129;01min\u001b[39;00m ports_dictionary[\u001b[38;5;124m'\u001b[39m\u001b[38;5;124minputs\u001b[39m\u001b[38;5;124m'\u001b[39m]\u001b[38;5;241m.\u001b[39mitems():\n\u001b[0;32m      4\u001b[0m     \u001b[38;5;28mprint\u001b[39m(i[\u001b[38;5;241m1\u001b[39m])\n\u001b[1;32m----> 6\u001b[0m [j[\u001b[38;5;241m0\u001b[39m] \u001b[38;5;28;01mfor\u001b[39;00m \u001b[43mj\u001b[49m[\u001b[38;5;241m0\u001b[39m], j \u001b[38;5;129;01min\u001b[39;00m ports_dictionary[\u001b[38;5;124m'\u001b[39m\u001b[38;5;124minputs\u001b[39m\u001b[38;5;124m'\u001b[39m]\u001b[38;5;241m.\u001b[39mitems() \u001b[38;5;28;01mif\u001b[39;00m j[\u001b[38;5;241m1\u001b[39m] \u001b[38;5;241m==\u001b[39m \u001b[38;5;124m'\u001b[39m\u001b[38;5;124mgas_in\u001b[39m\u001b[38;5;124m'\u001b[39m ]\n\u001b[0;32m      8\u001b[0m \u001b[38;5;28mprint\u001b[39m(j)\n",
      "\u001b[1;31mUnboundLocalError\u001b[0m: cannot access local variable 'j' where it is not associated with a value"
     ]
    }
   ],
   "source": [
    "print(ports_dictionary['inputs'])\n",
    "print(ports_dictionary['inputs'].values()=='temp_in')\n",
    "for i in ports_dictionary['inputs'].items():\n",
    "    print(i[1])\n",
    "\n",
    "[j[0] for j[0], j in ports_dictionary['inputs'].items() if j[1] == 'gas_in' ]\n",
    "\n",
    "print(j)\n",
    "\n",
    "    "
   ]
  },
  {
   "cell_type": "code",
   "execution_count": 7,
   "id": "a5c294c0",
   "metadata": {},
   "outputs": [],
   "source": [
    "#testing simulink class\n",
    "directory = os.getcwd()\n",
    "model_name_original = 'Gain_model'\n",
    "model = Matlab_API.Simulink(modelName = model_name_original, directory = directory)\n",
    "\n"
   ]
  },
  {
   "cell_type": "code",
   "execution_count": null,
   "id": "6af1c8fa",
   "metadata": {},
   "outputs": [
    {
     "name": "stdout",
     "output_type": "stream",
     "text": [
      "original file path and name:d:\\Git_folders\\projects_app\\dsl-orchestration\\Gain_model.slx\n",
      "new folder:d:\\Git_folders\\projects_app\\dsl-orchestration\\Gain_model\n",
      "unzipped file from matlab\n",
      "d:\\Git_folders\\projects_app\\dsl-orchestration\\Gain_model\\simulink\\graphicalInterface.xml\n",
      "Data for input, outputs and its connections collected\n"
     ]
    }
   ],
   "source": [
    "#testing unzipped and extract information ro model\n",
    "directory = os.getcwd()\n",
    "model_name = 'Gain_model_wI'\n",
    "\n",
    "model_inspect = localInterface_gen.model_inspection(model_name = model_name_original, directory = directory , folder_name = model_name_original)\n",
    "model_inspect.unzipped()\n",
    "model_data = model_inspect.extract()\n"
   ]
  },
  {
   "cell_type": "code",
   "execution_count": 11,
   "id": "7388d118",
   "metadata": {},
   "outputs": [
    {
     "name": "stdout",
     "output_type": "stream",
     "text": [
      "Model:Gain_model.slx copied as Gain_model_wI.slx in folder:d:\\Git_folders\\projects_app\\dsl-orchestration\n"
     ]
    }
   ],
   "source": [
    "#testing copy of the model\n",
    "directory = os.getcwd()\n",
    "name4copy=model_name_original + '.slx'\n",
    "model_copy = localInterface_gen.model_copy(model_name = name4copy, directory = directory)\n",
    "#create a copy of the model and return the new name and the directory where it is stored\n",
    "[model_name, directory] = model_copy.copy_file()"
   ]
  },
  {
   "cell_type": "code",
   "execution_count": 7,
   "id": "45e83e06",
   "metadata": {},
   "outputs": [
    {
     "name": "stdout",
     "output_type": "stream",
     "text": [
      "\n",
      "\n",
      "file Gain_model_wI_func.m created\n",
      "\n",
      "\n",
      "{'inputs': {'temp_in': '1', 'gas_in': '2', 'In1': '3'}, 'outputs': {'temp_out': '1', 'gas_1': '2', 'Out1': '3'}}\n"
     ]
    }
   ],
   "source": [
    "#testing generation of s-function file\n",
    "print('\\n')\n",
    "directory = os.getcwd()\n",
    "model_name = 'Gain_model_wI'\n",
    "func_name = model_name + \"_func\"\n",
    "name_input_var = model_data['inports']\n",
    "name_output_var =model_data['outports']\n",
    "input_num = int(len(name_input_var))\n",
    "output_num = int(len(name_output_var))\n",
    "block_name = 'interface'\n",
    "\n",
    "s_func_name = localInterface_gen.interfaceFile_gen(file_name = func_name, input_num=input_num, output_num = output_num, function_name = func_name,name_input_var = name_input_var, name_output_var=name_output_var, directory = directory)\n",
    "#generate the .m file\n",
    "id_ports = s_func_name.generate()\n",
    "print('\\n')\n",
    "print(id_ports)"
   ]
  },
  {
   "cell_type": "code",
   "execution_count": 9,
   "id": "8f441853",
   "metadata": {},
   "outputs": [
    {
     "name": "stdout",
     "output_type": "stream",
     "text": [
      "Starting matlab\n",
      "Connected to Matlab\n",
      "Model loaded\n"
     ]
    }
   ],
   "source": [
    "#testing changes in the simulink model\n",
    "model.model_change(model_name = model_name ,function_name = func_name, block_name = 'interface', ports_data = model_data,id_ports = id_ports)"
   ]
  },
  {
   "cell_type": "code",
   "execution_count": 10,
   "id": "0dae2b99",
   "metadata": {},
   "outputs": [],
   "source": [
    "import Matlab_API\n",
    "import localInterface_gen\n",
    "import os\n",
    "import matlab.engine\n",
    "import intercomm_def\n"
   ]
  },
  {
   "cell_type": "code",
   "execution_count": 13,
   "id": "ae5c3fcd",
   "metadata": {},
   "outputs": [
    {
     "name": "stdout",
     "output_type": "stream",
     "text": [
      "d:\\Git_folders\\projects_app\\dsl-orchestration\\Matlab_models\n",
      "original file path and name:d:\\Git_folders\\projects_app\\dsl-orchestration\\Matlab_models\\Gain_model.slx\n",
      "new folder:d:\\Git_folders\\projects_app\\dsl-orchestration\\Matlab_models\\Gain_model\n",
      "unzipped file from matlab\n",
      "\n",
      "\n",
      "d:\\Git_folders\\projects_app\\dsl-orchestration\\Matlab_models\\Gain_model\\simulink\\graphicalInterface.xml\n",
      "Data for input, outputs and its connections collected\n",
      "\n",
      "\n",
      "Model:Gain_model.slx copied as Gain_model_wI.slx in folder:d:\\Git_folders\\projects_app\\dsl-orchestration\\Matlab_models\n",
      "\n",
      "\n",
      "file Gain_model_wI_func.m created\n",
      "\n",
      "\n",
      "Starting matlab\n",
      "Connected to Matlab\n",
      "Model loaded\n",
      "model Gain_model_wI has been changed with a new block named interface\n",
      "ModelGain_model_wI has been saved\n"
     ]
    }
   ],
   "source": [
    "directory = os.getcwd() + '\\\\' + 'Matlab_models'\n",
    "#directory = os.getcwd()\n",
    "print (directory)\n",
    "model_name_original = 'Gain_model'\n",
    "model = Matlab_API.Simulink(modelName = model_name_original, directory = directory)\n",
    "model.interface_gen()"
   ]
  },
  {
   "cell_type": "code",
   "execution_count": 14,
   "id": "b49d721f",
   "metadata": {},
   "outputs": [
    {
     "name": "stdout",
     "output_type": "stream",
     "text": [
      "original file path and name:d:\\Git_folders\\projects_app\\dsl-orchestration\\Matlab_models\\Time_model.slx\n",
      "new folder:d:\\Git_folders\\projects_app\\dsl-orchestration\\Matlab_models\\Time_model\n",
      "unzipped file from matlab\n",
      "\n",
      "\n",
      "d:\\Git_folders\\projects_app\\dsl-orchestration\\Matlab_models\\Time_model\\simulink\\graphicalInterface.xml\n",
      "Data for input, outputs and its connections collected\n",
      "\n",
      "\n",
      "Model:Time_model.slx copied as Time_model_wI.slx in folder:d:\\Git_folders\\projects_app\\dsl-orchestration\\Matlab_models\n",
      "\n",
      "\n",
      "file Time_model_wI_func.m created\n",
      "\n",
      "\n",
      "Starting matlab\n",
      "Connected to Matlab\n",
      "Model loaded\n",
      "model Time_model_wI has been changed with a new block named interface\n",
      "ModelTime_model_wI has been saved\n"
     ]
    }
   ],
   "source": [
    "model_name_2 = 'Time_model'\n",
    "model2 = Matlab_API.Simulink(model_name_2,directory)\n",
    "model2.interface_gen()"
   ]
  },
  {
   "cell_type": "code",
   "execution_count": 15,
   "id": "e5eb2553",
   "metadata": {},
   "outputs": [
    {
     "name": "stdout",
     "output_type": "stream",
     "text": [
      "['temp_in', 'mass_in', 'vol_in']\n",
      "['temp_out', 'mass_out', 'vol_out', 'time_out']\n",
      "['data1']\n",
      "['multiply_1', 'time', 'sin']\n"
     ]
    }
   ],
   "source": [
    "print(model.inputs)\n",
    "print(model.outputs)\n",
    "print(model2.inputs)\n",
    "print(model2.outputs)"
   ]
  },
  {
   "cell_type": "code",
   "execution_count": 16,
   "id": "66c0f069",
   "metadata": {},
   "outputs": [
    {
     "ename": "NameError",
     "evalue": "name 'intercomm_def' is not defined",
     "output_type": "error",
     "traceback": [
      "\u001b[1;31m---------------------------------------------------------------------------\u001b[0m",
      "\u001b[1;31mNameError\u001b[0m                                 Traceback (most recent call last)",
      "Cell \u001b[1;32mIn[16], line 1\u001b[0m\n\u001b[1;32m----> 1\u001b[0m system_def \u001b[38;5;241m=\u001b[39m \u001b[43mintercomm_def\u001b[49m\u001b[38;5;241m.\u001b[39mintercomm([model,model2])\n",
      "\u001b[1;31mNameError\u001b[0m: name 'intercomm_def' is not defined"
     ]
    }
   ],
   "source": [
    "system_def = intercomm_def.intercomm([model,model2])"
   ]
  },
  {
   "cell_type": "code",
   "execution_count": 19,
   "id": "54a959d8",
   "metadata": {},
   "outputs": [
    {
     "ename": "AttributeError",
     "evalue": "module 'intercomm_def' has no attribute 'intercomm'",
     "output_type": "error",
     "traceback": [
      "\u001b[1;31m---------------------------------------------------------------------------\u001b[0m",
      "\u001b[1;31mAttributeError\u001b[0m                            Traceback (most recent call last)",
      "Cell \u001b[1;32mIn[19], line 2\u001b[0m\n\u001b[0;32m      1\u001b[0m \u001b[39mimport\u001b[39;00m \u001b[39mintercomm_def\u001b[39;00m\n\u001b[1;32m----> 2\u001b[0m system \u001b[39m=\u001b[39m intercomm_def\u001b[39m.\u001b[39;49mintercomm([])\n\u001b[0;32m      3\u001b[0m \u001b[39mprint\u001b[39m(system)\n",
      "\u001b[1;31mAttributeError\u001b[0m: module 'intercomm_def' has no attribute 'intercomm'"
     ]
    }
   ],
   "source": [
    "import intercomm_def\n",
    "system = intercomm_def.intercomm([])\n",
    "print(system)"
   ]
  }
 ],
 "metadata": {
  "kernelspec": {
   "display_name": "Python 3",
   "language": "python",
   "name": "python3"
  },
  "language_info": {
   "codemirror_mode": {
    "name": "ipython",
    "version": 3
   },
   "file_extension": ".py",
   "mimetype": "text/x-python",
   "name": "python",
   "nbconvert_exporter": "python",
   "pygments_lexer": "ipython3",
   "version": "3.11.9"
  },
  "vscode": {
   "interpreter": {
    "hash": "0be101400ddfbd53d49943c959155f02fcdbdf55ec84ea140405a8ca86ec2f7e"
   }
  }
 },
 "nbformat": 4,
 "nbformat_minor": 5
}
