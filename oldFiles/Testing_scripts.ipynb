{
 "cells": [
  {
   "cell_type": "code",
   "execution_count": 1,
   "metadata": {},
   "outputs": [],
   "source": [
    "import DTdef\n",
    "import Comm\n",
    "import sched, time\n",
    "import GlOb\n",
    "import schedule\n",
    "import datetime\n",
    "import threading\n",
    "import queue\n",
    "import collections\n",
    "import random\n",
    "import inspect"
   ]
  },
  {
   "cell_type": "code",
   "execution_count": 2,
   "metadata": {},
   "outputs": [
    {
     "name": "stdout",
     "output_type": "stream",
     "text": [
      "x\n",
      "10\n",
      "g\n",
      "16\n",
      "d\n",
      "26\n",
      "10\n"
     ]
    }
   ],
   "source": [
    "equations = \"x = y+2 \\n g = y*2 \\n d = x+g\"\n",
    "# print(equations)\n",
    "eqs = equations.split('\\n')\n",
    "dic = {'y':8}\n",
    "# print(eq[0].split('='))\n",
    "eq_eval = ''\n",
    "var = dic\n",
    "for eq in eqs:\n",
    "    eq_sep = eq.split('=')\n",
    "    # print(eq_sep)\n",
    "    variable = eq_sep[0].strip()\n",
    "    print(variable)\n",
    "    result = eval(eq_sep[1],var)\n",
    "    print(result)\n",
    "    var[variable] = result\n",
    "    # print(var)\n",
    "print(var['x'])\n"
   ]
  },
  {
   "cell_type": "code",
   "execution_count": 32,
   "metadata": {},
   "outputs": [],
   "source": [
    "def transformation(variable1:float = 2.2, output =0 ,input = 8):\n",
    "    return variable1*400+ 100 - input+ output"
   ]
  },
  {
   "cell_type": "code",
   "execution_count": 33,
   "metadata": {},
   "outputs": [
    {
     "name": "stdout",
     "output_type": "stream",
     "text": [
      "502\n"
     ]
    }
   ],
   "source": [
    "s = transformation(1,10,8)\n",
    "print(s)"
   ]
  },
  {
   "cell_type": "code",
   "execution_count": 34,
   "metadata": {},
   "outputs": [
    {
     "name": "stdout",
     "output_type": "stream",
     "text": [
      "['variable1', 'output', 'input']\n"
     ]
    }
   ],
   "source": [
    "f = inspect.getfullargspec(transformation)\n",
    "print(f.args)"
   ]
  },
  {
   "cell_type": "code",
   "execution_count": 43,
   "metadata": {},
   "outputs": [],
   "source": [
    "class Operation:\n",
    "    def __init__(self, name=\"Operator\", ID=\"Op1\",function: callable = []) -> None:\n",
    "        # super().__init__(name, ID)\n",
    "        self.type ='op'\n",
    "        self.function = function\n",
    "        self.output = ''\n",
    "        \n",
    "        \n",
    "    def behavior(self, inputs=[]):\n",
    "        f = inspect.getfullargspec(self.function)\n",
    "        print(f.args)\n",
    "        print(f)\n",
    "        self.output = 0\n",
    "        # self.output = self.function(input)\n",
    "        "
   ]
  },
  {
   "cell_type": "code",
   "execution_count": 44,
   "metadata": {},
   "outputs": [],
   "source": [
    "fnc = Operation(name= 'op',ID = 'dfce',function=transformation)"
   ]
  },
  {
   "cell_type": "code",
   "execution_count": 45,
   "metadata": {},
   "outputs": [
    {
     "name": "stdout",
     "output_type": "stream",
     "text": [
      "\n",
      "['variable1', 'output', 'input']\n",
      "FullArgSpec(args=['variable1', 'output', 'input'], varargs=None, varkw=None, defaults=(2.2, 0, 8), kwonlyargs=[], kwonlydefaults=None, annotations={'variable1': <class 'float'>})\n",
      "0\n"
     ]
    }
   ],
   "source": [
    "print(fnc.output)\n",
    "fnc.behavior(10)\n",
    "print(fnc.output)"
   ]
  },
  {
   "cell_type": "code",
   "execution_count": null,
   "metadata": {},
   "outputs": [],
   "source": [
    "# model2.inports['input0_Mod2'].val = 400.2\n",
    "# model1.outports['output0_Mod1'].val = 200.1\n",
    "\n",
    "# expression = 'x > y + 200'\n",
    "# y = model2.inports['input0_Mod2'].val\n",
    "# x = model1.outports['output0_Mod1'].val\n",
    "# variables = {'x': model2.inports['input0_Mod2'], 'y': model1.outports['output0_Mod1']}\n",
    "# ev1= GlOb.GuardEvent(ID = 'ev1',name= 'guard1',expression = expression,variables = variables)"
   ]
  },
  {
   "cell_type": "code",
   "execution_count": 2,
   "metadata": {},
   "outputs": [
    {
     "name": "stdout",
     "output_type": "stream",
     "text": [
      "{'input0_Swi1': <Comm.Inport object at 0x0000021B4B082C90>, 'input1_Swi1': <Comm.Inport object at 0x0000021B4B082D90>}\n",
      "{'output0_Swi1': <Comm.Outport object at 0x0000021B4B082E50>}\n"
     ]
    }
   ],
   "source": [
    "output1 = {'name':\"T\", 'unit':'K', 'datatype':'float','val':''}\n",
    "input1 = {'name':\"temp\", 'unit':'C', 'datatype':'str','val':''}\n",
    "input2 = {'name':\"Te\", 'unit':'C', 'datatype':'str','val':''}\n",
    "# triggers = {'temp' : }\n",
    "swi = Comm.Switch(name = 'Switch', ID = 'Swi1', output_def= output1,inputs=[input1,input2])\n",
    "print(swi.inports)\n",
    "print(swi.outports)\n"
   ]
  },
  {
   "cell_type": "code",
   "execution_count": 19,
   "metadata": {},
   "outputs": [],
   "source": [
    "expression1 = 'x > y + 200'\n",
    "y = swi.inports['input0_Swi1']\n",
    "x = swi.inports['input1_Swi1']\n",
    "variables = {'x': x, 'y': y}\n",
    "ev1= GlOb.GuardEvent(ID = 'ev1',name= 'guard1',expression = expression1,variables = variables)\n",
    "expression2 = 'x <= y + 200'\n",
    "ev2= GlOb.GuardEvent(ID = 'ev2',name= 'guard2',expression = expression2,variables = variables)\n",
    "# swi = "
   ]
  },
  {
   "cell_type": "code",
   "execution_count": 20,
   "metadata": {},
   "outputs": [],
   "source": [
    "swi.add_triggers({'temp':ev1,'Te':ev2})"
   ]
  },
  {
   "cell_type": "code",
   "execution_count": 22,
   "metadata": {},
   "outputs": [
    {
     "name": "stdout",
     "output_type": "stream",
     "text": [
      "{'name': 'temp', 'value': 40}\n",
      "{'name': 'Te', 'value': 240}\n",
      "{'name': 'T', 'value': 240}\n",
      "{'name': 'T', 'value': 240}\n"
     ]
    }
   ],
   "source": [
    "swi.inports['input0_Swi1'].val = 40\n",
    "\n",
    "swi.inports['input1_Swi1'].val = 240\n",
    "\n",
    "\n",
    "# print(swi.inports['input0_Swi1'].val)\n",
    "# print(swi.inports['input1_Swi1'].val)\n",
    "# print(swi.outports['output0_Swi1'].val)\n",
    "\n",
    "swi.inport_assigment()\n",
    "print(swi.inputs['input0_Swi1'])\n",
    "print(swi.inputs['input1_Swi1'])\n",
    "print(swi.outputs['output0_Swi1'])\n",
    "\n",
    "swi.behavior()\n",
    "\n",
    "\n",
    "print(swi.outputs['output0_Swi1'])"
   ]
  },
  {
   "cell_type": "code",
   "execution_count": 2,
   "metadata": {},
   "outputs": [
    {
     "name": "stdout",
     "output_type": "stream",
     "text": [
      "output0_Mod1\n",
      "output1_Mod1\n",
      "input0_Mod2\n",
      "{'input0_Mod2': <Comm.Inport object at 0x000002019D1A0210>}\n",
      "\n",
      "{'c1': '', 'c2': ''}\n",
      "{'src': 1, 'dst': 1}\n",
      "Queue type FIFO with size 0.\n",
      "[('T', 'temp')]\n",
      "{'src': 1, 'dst': 1}\n"
     ]
    }
   ],
   "source": [
    "#models generation\n",
    "model1 = Comm.Component('dave','Mod1')\n",
    "model2 = Comm.Component('aza','Mod2')\n",
    "\n",
    "input1 = {'name':\"temp\", 'unit':'C', 'datatype':'str','val':''}\n",
    "output1 = {'name':\"T\", 'unit':'K', 'datatype':'float','val':''}\n",
    "output2 = {'name':\"Tempo\", 'components':{'c1':'Temp_amb','c2':'Temp_beer'},'unit':{'c1':\"K\",'c2':'K'}, 'datatype':{'c1':'float','c2':'float'},'val':{'c1':'','c2':''}}\n",
    "\n",
    "print(model1.Port_gen(type = 'output', port = output1))\n",
    "print(model1.Port_gen(type = 'output', port = output2))\n",
    "print(model2.Port_gen(type = 'input', port = input1))\n",
    "\n",
    "print(model2.inports)\n",
    "print(model2.inports['input0_Mod2'].val)\n",
    "print(model1.outports['output1_Mod1'].val)\n",
    "expr1 ='Temp_air=(Temp_beer-32)*5/9' \n",
    "expr2 = 'Temp_beer = Temp_amb + 273.15'\n",
    "exp = 'temp = T + 273.15'\n",
    "con = Comm.Connector(src = {'component':model1, 'output_name':'T'}, dst = {'component':model2, 'input_name':'temp'},\n",
    "                 exchange_pattern = {'type': 'FIFO','PQ_conds':[]}, trans_expr = exp )\n",
    "# a = con.data_extraction()\n",
    "print(con.components)\n",
    "print(con.Pattern)\n",
    "print(con.relations)\n",
    "print(con.components)\n",
    "\n",
    "#events generation \n"
   ]
  },
  {
   "cell_type": "code",
   "execution_count": 44,
   "metadata": {},
   "outputs": [
    {
     "name": "stdout",
     "output_type": "stream",
     "text": [
      "{'output0_Mod1': {'name': 'T', 'value': ''}, 'output1_Mod1': {'name': 'Tempo', 'components': {'c1': 'Temp_amb', 'c2': 'Temp_beer'}, 'value': {'c1': '', 'c2': ''}}}\n",
      "{'input0_Mod2': {'name': 'temp', 'value': ''}}\n",
      "<Comm.Connector object at 0x000001D54B65D2D0>\n",
      "<Comm.Connector object at 0x000001D54B65D2D0>\n"
     ]
    }
   ],
   "source": [
    "print(model1.outputs)\n",
    "print(model2.inputs)\n",
    "print(model1.outports['output0_Mod1'].connector)\n",
    "print(model2.inports['input0_Mod2'].connector)"
   ]
  },
  {
   "cell_type": "code",
   "execution_count": 21,
   "metadata": {},
   "outputs": [],
   "source": [
    "model2.inports['input0_Mod2'].val = 400.2\n",
    "model1.outports['output0_Mod1'].val = 200.1\n",
    "\n",
    "expression = 'x > y + 200'\n",
    "y = model2.inports['input0_Mod2'].val\n",
    "x = model1.outports['output0_Mod1'].val\n",
    "variables = {'x': model2.inports['input0_Mod2'], 'y': model1.outports['output0_Mod1']}\n",
    "ev1= GlOb.GuardEvent(ID = 'ev1',name= 'guard1',expression = expression,variables = variables)"
   ]
  },
  {
   "cell_type": "code",
   "execution_count": 22,
   "metadata": {},
   "outputs": [
    {
     "name": "stdout",
     "output_type": "stream",
     "text": [
      "{'x': <Comm.Inport object at 0x0000023867C80BD0>, 'y': <Comm.Outport object at 0x0000023867C80790>}\n",
      "True\n"
     ]
    }
   ],
   "source": [
    "print(variables)\n",
    "ev1.evaluation()\n",
    "print(ev1.eval)"
   ]
  },
  {
   "cell_type": "code",
   "execution_count": 21,
   "metadata": {},
   "outputs": [
    {
     "name": "stdout",
     "output_type": "stream",
     "text": [
      "300\n",
      "200\n",
      "<class 'str'>\n",
      "30\n",
      "<class 'Comm.Outport'>\n",
      "True\n",
      "True\n"
     ]
    }
   ],
   "source": [
    "print(model2.inports['input0_Mod2'].val)\n",
    "print(model1.outports['output0_Mod1'].val)\n",
    "model2.inports['input0_Mod2'].val = 300\n",
    "model1.outports['output0_Mod1'].val = 200\n",
    "print(type(y))\n",
    "print(x)\n",
    "print(type(model1.outports['output0_Mod1']))\n",
    "print(isinstance(model1.outports['output0_Mod1'],Comm.Port))\n",
    "print(isinstance(model1.outports['output0_Mod1'],Comm.Outport))"
   ]
  },
  {
   "cell_type": "code",
   "execution_count": 12,
   "metadata": {},
   "outputs": [
    {
     "name": "stdout",
     "output_type": "stream",
     "text": [
      "{'x': 30, 'y': '303.15'}\n",
      "{'x': <Comm.Outport object at 0x000001C48AB9D050>, 'y': <Comm.Inport object at 0x000001C48AB9D410>}\n"
     ]
    }
   ],
   "source": [
    "print(variables )\n",
    "variables = {'x': model1.outports['output0_Mod1'] , 'y': model2.inports['input0_Mod2']}\n",
    "print(variables)"
   ]
  },
  {
   "cell_type": "code",
   "execution_count": 6,
   "metadata": {},
   "outputs": [],
   "source": [
    "input1 = {'name': 'T', 'unit' : 'K', 'datatype':'str','val':''}\n",
    "input2 = {'name':\"temp\", 'components':{'c1':'Temp_air','c2':'Temp_beer'},\n",
    "    'unit':{'c1':\"K\",'c2':'K'}, 'datatype':{'c1':'str','c2':'str'},'val':{'c1':'','c2':''}}\n",
    "input2 = {'name': 'Temp', 'unit' : 'K', 'datatype':'float','val':''}\n",
    "output = {'name': 'U', 'unit' : 'R', 'datatype':'float','val':''}\n",
    "\n",
    "trigger = {'T':False,'Temp':True}\n"
   ]
  },
  {
   "cell_type": "code",
   "execution_count": 7,
   "metadata": {},
   "outputs": [],
   "source": [
    "switch = Comm.Switch(name=\"Sw\", ID='swi0',output_def=output,inputs = [input1,input2],triggers=trigger)"
   ]
  },
  {
   "cell_type": "code",
   "execution_count": 9,
   "metadata": {},
   "outputs": [
    {
     "name": "stdout",
     "output_type": "stream",
     "text": [
      "['input0_swi0', 'input1_swi0']\n",
      "{'input0_swi0': False, 'input1_swi0': True}\n",
      "{'input0_swi0': {'name': 'T', 'value': 100}, 'input1_swi0': {'name': 'Temp', 'value': 200}}\n",
      "{'input0_swi0': {'name': 'T', 'value': 100}, 'input1_swi0': {'name': 'Temp', 'value': 200}}\n",
      "{'input0_swi0': False, 'input1_swi0': True}\n",
      "{'output0_swi0': {'name': 'U', 'value': 200}}\n",
      "input0_swi0\n",
      "True\n",
      "100\n",
      "{'output0_swi0': {'name': 'U', 'value': 100}}\n"
     ]
    }
   ],
   "source": [
    "switch.out_ID\n",
    "print(switch.in_IDs)\n",
    "print(switch.triggers)\n",
    "print(switch.inputs)\n",
    "val = 50\n",
    "for id, prop in switch.inputs.items():\n",
    "    val = val*2\n",
    "    switch.inputs[id]['value'] = val\n",
    "print(switch.inputs)\n",
    "\n",
    "\n",
    "# for id, prop in switch.triggers.items():\n",
    "#     # val = val*2\n",
    "#     switch.triggers[id]= True\n",
    "\n",
    "print(switch.triggers)\n",
    "print(switch.outputs)\n",
    "switch.triggers['input0_swi0']= True\n",
    "switch.behavior()\n",
    "\n",
    "print(switch.outputs)\n"
   ]
  },
  {
   "cell_type": "code",
   "execution_count": null,
   "metadata": {},
   "outputs": [],
   "source": [
    "input1 = {'name':\"temp\", 'components':{'c1':'Temp_air','c2':'Temp_beer'},\n",
    "    'unit':{'c1':\"K\",'c2':'K'}, 'datatype':{'c1':'str','c2':'str'},'val':{'c1':'','c2':''}}\n",
    "input = {'name': 'input', 'unit' : 'K', 'datatype':'str','val':''}\n",
    "\n",
    "'components' in list(input1.keys())\n",
    "d = []\n",
    "len(d)"
   ]
  },
  {
   "cell_type": "code",
   "execution_count": 2,
   "metadata": {},
   "outputs": [
    {
     "name": "stdout",
     "output_type": "stream",
     "text": [
      "output0_Mod1\n",
      "output1_Mod1\n",
      "input0_Mod2\n",
      "{'input0_Mod2': <Comm.Inport object at 0x000001C48AB9D410>}\n",
      "\n",
      "{'src': 1, 'dst': 1}\n",
      "Queue type FIFO with size 0.\n",
      "[('T', 'temp')]\n",
      "{'src': 1, 'dst': 1}\n"
     ]
    }
   ],
   "source": [
    "model1 = Comm.Component('dave','Mod1')\n",
    "model2 = Comm.Component('aza','Mod2')\n",
    "\n",
    "input1 = {'name':\"temp\", 'unit':'C', 'datatype':'str','val':''}\n",
    "output1 = {'name':\"T\", 'unit':'K', 'datatype':'float','val':''}\n",
    "output2 = {'name':\"Tempo\", 'components':{'c1':'Temp_amb','c2':'Temp_beer'},'unit':{'c1':\"K\",'c2':'K'}, 'datatype':{'c1':'float','c2':'float'},'val':{'c1':'','c2':''}}\n",
    "\n",
    "print(model1.Port_gen(type = 'output', port = output1))\n",
    "print(model1.Port_gen(type = 'output', port = output2))\n",
    "print(model2.Port_gen(type = 'input', port = input1))\n",
    "\n",
    "print(model2.inports)\n",
    "print(model2.inports['input0_Mod2'].val)\n",
    "\n",
    "expr1 ='Temp_air=(Temp_beer-32)*5/9' \n",
    "expr2 = 'Temp_beer = Temp_amb + 273.15'\n",
    "exp = 'temp = T + 273.15'\n",
    "con = Comm.Connector(src = {'component':model1, 'output_name':'T'}, dst = {'component':model2, 'input_name':'temp'},\n",
    "                 exchange_pattern = {'type': 'FIFO','PQ_conds':[]}, trans_expr = exp )\n",
    "# a = con.data_extraction()\n",
    "print(con.components)\n",
    "print(con.Pattern)\n",
    "print(con.relations)\n",
    "print(con.components)"
   ]
  },
  {
   "cell_type": "code",
   "execution_count": 3,
   "metadata": {},
   "outputs": [
    {
     "name": "stdout",
     "output_type": "stream",
     "text": [
      "\n",
      "10\n",
      "\n",
      "10\n",
      "303.15\n"
     ]
    }
   ],
   "source": [
    "source = model1.outports['output0_Mod1'].val\n",
    "print(source)\n",
    "source = 10\n",
    "print(source)\n",
    "print(model1.outports['output0_Mod1'].val)\n",
    "model1.outports['output0_Mod1'].val =30\n",
    "print(source)\n",
    "# for c,val in source.items():\n",
    "    \n",
    "#     source[c]=0\n",
    "# # print(source)\n",
    "# value = 90\n",
    "# for c,val in source.items():\n",
    "#     value = value //3\n",
    "#     source[c]=value\n",
    "# # print(source)\n",
    "# destiny = model2.inports['input0_Mod2'].val\n",
    "# # print(destiny)\n",
    "con.pull_src()\n",
    "\n",
    "# print(destiny)\n"
   ]
  },
  {
   "cell_type": "code",
   "execution_count": 4,
   "metadata": {},
   "outputs": [
    {
     "name": "stdout",
     "output_type": "stream",
     "text": [
      "Queue type FIFO with size 1.\n",
      "\n",
      "non-empty\n",
      "Queue type FIFO with size 0.\n",
      "303.15\n"
     ]
    }
   ],
   "source": [
    "print(con.Pattern)\n",
    "print(model2.inports['input0_Mod2'].val)\n",
    "print(model2.inports['input0_Mod2'].queueState)\n",
    "con.push_dst()\n",
    "# print(destiny)\n",
    "# print(con.Pattern)\n",
    "print(con.Pattern)\n",
    "print(model2.inports['input0_Mod2'].val)"
   ]
  },
  {
   "cell_type": "code",
   "execution_count": 5,
   "metadata": {},
   "outputs": [
    {
     "name": "stdout",
     "output_type": "stream",
     "text": [
      "empty\n"
     ]
    }
   ],
   "source": [
    "print(model2.inports['input0_Mod2'].queueState)"
   ]
  },
  {
   "cell_type": "code",
   "execution_count": 3,
   "metadata": {},
   "outputs": [
    {
     "name": "stdout",
     "output_type": "stream",
     "text": [
      "output0_Mod1\n",
      "output1_Mod1\n",
      "input0_Mod2\n",
      "{'input0_Mod2': <Comm.Inport object at 0x000002019D1A1210>}\n",
      "{'c1': '', 'c2': ''}\n"
     ]
    }
   ],
   "source": [
    "model1 = Comm.Component('dave','Mod1')\n",
    "model2 = Comm.Component('aza','Mod2')\n",
    "\n",
    "input1 = {'name':\"temp\", 'components':{'c1':'Temp_air','c2':'Temp_beer'},'unit':{'c1':\"K\",'c2':'K'}, 'datatype':{'c1':'str','c2':'str'},'val':{'c1':'','c2':''}}\n",
    "output1 = {'name':\"T\", 'components':{'c1':'Temp_amb','c2':'Temp_beer'},'unit':{'c1':\"K\",'c2':'K'}, 'datatype':{'c1':'float','c2':'float'},'val':{'c1':'','c2':''}}\n",
    "output2 = {'name':\"Tempo\", 'components':{'c1':'Temp_amb','c2':'Temp_beer'},'unit':{'c1':\"K\",'c2':'K'}, 'datatype':{'c1':'float','c2':'float'},'val':{'c1':'','c2':''}}\n",
    "\n",
    "print(model1.Port_gen(type = 'output', port = output1))\n",
    "print(model1.Port_gen(type = 'output', port = output2))\n",
    "print(model2.Port_gen(type = 'input', port = input1))\n",
    "\n",
    "print(model2.inports)\n",
    "print(model2.inports['input0_Mod2'].val)"
   ]
  },
  {
   "cell_type": "code",
   "execution_count": null,
   "metadata": {},
   "outputs": [],
   "source": [
    "expr1 ='Temp_air=(Temp_beer-32)*5/9' \n",
    "expr2 = 'Temp_beer = Temp_amb + 273.15'\n",
    "con = Comm.Connector(src = {'component':model1, 'output_name':'Tempo'}, dst = {'component':model2, 'input_name':'temp'},\n",
    "                 exchange_pattern = {'type': 'FIFO','PQ_conds':[]},trans_expr = 'Temp_air=(Temp_beer-32)*5/9;Temp_beer = Temp_amb + 273.15' )\n",
    "# a = con.data_extraction()\n",
    "print(con.components)"
   ]
  },
  {
   "cell_type": "code",
   "execution_count": null,
   "metadata": {},
   "outputs": [],
   "source": [
    "print(con.Pattern)\n",
    "print(con.relations)\n",
    "print(con.components)"
   ]
  },
  {
   "cell_type": "code",
   "execution_count": null,
   "metadata": {},
   "outputs": [],
   "source": [
    "#values to soource:\n",
    "# print(model1)\n",
    "source = model1.outports['output1_Mod1'].val\n",
    "for c,val in source.items():\n",
    "    \n",
    "    source[c]=0\n",
    "# print(source)\n",
    "value = 90\n",
    "for c,val in source.items():\n",
    "    value = value //3\n",
    "    source[c]=value\n",
    "# print(source)\n",
    "destiny = model2.inports['input0_Mod2'].val\n",
    "# print(destiny)\n",
    "con.pull_src()"
   ]
  },
  {
   "cell_type": "code",
   "execution_count": null,
   "metadata": {},
   "outputs": [],
   "source": [
    "print(con.Pattern)\n",
    "print(destiny)\n",
    "con.push_dst()\n",
    "print(destiny)\n",
    "print(con.Pattern)\n"
   ]
  },
  {
   "cell_type": "code",
   "execution_count": null,
   "metadata": {},
   "outputs": [],
   "source": [
    "print(model1)\n",
    "name  =  \"Tempo\"\n",
    "for id,properties in model1.outputs.items():\n",
    "    if name == properties['name']:\n",
    "        # port_id = id\n",
    "        outport = model1.outports[id]\n",
    "\n",
    "print(outport)"
   ]
  },
  {
   "cell_type": "code",
   "execution_count": null,
   "metadata": {},
   "outputs": [],
   "source": [
    "print(model1.outports)\n",
    "print(model1.outputs)\n",
    "for id, val in model1.outputs.items():\n",
    "    print(val['name'])"
   ]
  },
  {
   "cell_type": "code",
   "execution_count": null,
   "metadata": {},
   "outputs": [],
   "source": [
    "expression = '    T_air     = (   Temp_air  -32)*5/9'\n",
    "ex = expression.split('=')\n",
    "a = 'T_air'\n",
    "print(ex[1].strip())\n",
    "variables = {'Temp_air':0}\n",
    "y = eval(ex[1],variables)\n",
    "print(y)\n",
    "a == ex[0].strip()"
   ]
  },
  {
   "cell_type": "code",
   "execution_count": null,
   "metadata": {},
   "outputs": [],
   "source": [
    "expression = ' T_air = (  Temp_air  -32)*5/9'\n",
    "variables = {'Temp_air':0}\n",
    "dst_fmt = 'str'\n",
    "value = Comm.Data_Transformation(expression = expression,variables=variables,dst_fmt=dst_fmt)\n",
    "print(value.result)"
   ]
  },
  {
   "cell_type": "code",
   "execution_count": null,
   "metadata": {},
   "outputs": [],
   "source": [
    "# print(transformation.expression)\n",
    "# for i,j in transformation.invariables.items():\n",
    "#     print(i)\n",
    "# print(transformation.invariables)\n",
    "print(value.var)\n",
    "# print(transformation.result)\n",
    "# print(transformation.dst_fmt)\n"
   ]
  },
  {
   "cell_type": "code",
   "execution_count": null,
   "metadata": {},
   "outputs": [],
   "source": [
    "def frt_trans(val):\n",
    "    return float(val)"
   ]
  },
  {
   "cell_type": "code",
   "execution_count": null,
   "metadata": {},
   "outputs": [],
   "source": [
    "ex = 'T_air = (Temp_air-32)*5/9'\n",
    "ex_trans = ex.split('=')\n",
    "variables  = {'y':'4','x':False,'z':1}\n",
    "variables  = {'y':'4'}\n",
    "print(variables)\n",
    "for name,val in variables.items():\n",
    "    variables[name] = frt_trans(val)\n",
    "print(variables)"
   ]
  },
  {
   "cell_type": "code",
   "execution_count": null,
   "metadata": {},
   "outputs": [],
   "source": [
    "components = {'src': {'c1': 'Temp_amb', 'c2': 'Temp_beer'}, 'dst': {'c1': 'Temp_air', 'c2': 'Temp_beer'}}\n",
    "print(components['src'])\n",
    "print(len(components['src']))\n",
    "relations = [('c2','c1'),('c1','c2')]\n",
    "\n",
    "for index in range(len(components['src'])):\n",
    "    print(index)\n",
    "\n",
    "a = 'c300'\n",
    "b = 'c2'\n",
    "\n",
    "f = a.split('c')\n",
    "print(float(f[1]))\n",
    "print(a<b)"
   ]
  },
  {
   "cell_type": "code",
   "execution_count": null,
   "metadata": {},
   "outputs": [],
   "source": [
    "text = '(Temp_air-32)*5/9'\n",
    "a = text.rfind('Temp_beer')\n",
    "print(a)"
   ]
  },
  {
   "cell_type": "code",
   "execution_count": null,
   "metadata": {},
   "outputs": [],
   "source": [
    "def def_relations(names:dict = {},components:dict= {},expr:str = ''):\n",
    "    \n",
    "    relations = []\n",
    "    print(components['dst'])\n",
    "    if components['dst'] == 1:\n",
    "        relation = names['src'],names['dst']\n",
    "        relations.append(relation)\n",
    "        return relations\n",
    "    expr_comps = expr.split(';')\n",
    "    for ex_comp in expr_comps:\n",
    "        variables = ex_comp.split('=')\n",
    "        for comp,name in components['src'].items():\n",
    "            if variables[0].rfind(name) != -1:\n",
    "                src_comp = comp\n",
    "                break\n",
    "        for comp,name in components['dst'].items():\n",
    "            if variables[1].rfind(name) != -1:\n",
    "                dst_comp = comp\n",
    "                break\n",
    "        relation = src_comp,dst_comp\n",
    "        relations.append(relation)\n",
    "    return relations"
   ]
  },
  {
   "cell_type": "code",
   "execution_count": null,
   "metadata": {},
   "outputs": [],
   "source": [
    "expr = 'Temp_beer=(Temp_air-32)*5/9;Temp_amb=(Temp_beer-32)*5/9'\n",
    "expr = 'Temp_amb=(Temp_air-32)*5/9'\n",
    "components = {'src': {'c1': 'Temp_amb', 'c2': 'Temp_beer'}, 'dst': {'c1': 'Temp_air', 'c2': 'Temp_beer'}}\n",
    "names = {'src': 'Temp_amb', 'dst': 'Temp_air'}\n",
    "components = {'src':1, 'dst':1}\n",
    "# relations = []\n",
    "# expr_comps = expr.split(';')\n",
    "# for ex_comp in expr_comps:\n",
    "#     variables = ex_comp.split('=')\n",
    "#     for comp,name in components['src'].items():\n",
    "#         if variables[0].rfind(name) != -1:\n",
    "#             src_comp = comp\n",
    "#             break\n",
    "#     for comp,name in components['dst'].items():\n",
    "#         if variables[1].rfind(name) != -1:\n",
    "#             dst_comp = comp\n",
    "#             break\n",
    "#     relation = src_comp,dst_comp\n",
    "#     relations.append(relation)\n",
    "# print(len(components['src']))\n",
    "relations = def_relations(names=names,components=components,expr=expr)\n",
    "print(relations)"
   ]
  },
  {
   "cell_type": "code",
   "execution_count": null,
   "metadata": {},
   "outputs": [],
   "source": []
  },
  {
   "cell_type": "markdown",
   "metadata": {},
   "source": [
    "2 Models with 1 port each generated"
   ]
  },
  {
   "cell_type": "code",
   "execution_count": 4,
   "metadata": {},
   "outputs": [
    {
     "name": "stdout",
     "output_type": "stream",
     "text": [
      "output0_Mod1\n",
      "input0_Mod2\n",
      "{'input0_Mod2': <Comm.Inport object at 0x000002019D0F6F90>}\n",
      "{'c1': '', 'c2': ''}\n"
     ]
    }
   ],
   "source": [
    "model1 = Comm.Component('dave','Mod1')\n",
    "model2 = Comm.Component('aza','Mod2')\n",
    "\n",
    "input1 = {'name':\"temp\", 'components':{'c1':'Temp_air','c2':'Temp_beer'},'unit':{'c1':\"K\",'c2':'K'}, 'datatype':{'c1':'str','c2':'str'},'val':{'c1':'','c2':''}}\n",
    "output1 = {'name':\"T\", 'components':{'c1':'Temp_amb','c2':'Temp_beer'},'unit':{'c1':\"K\",'c2':'K'}, 'datatype':{'c1':'str','c2':'str'},'val':{'c1':'','c2':''}}\n",
    "\n",
    "print(model1.Port_gen(type = 'output', port = output1))\n",
    "print(model2.Port_gen(type = 'input', port = input1))\n",
    "\n",
    "print(model2.inports)\n",
    "print(model2.inports['input0_Mod2'].val)"
   ]
  },
  {
   "cell_type": "code",
   "execution_count": null,
   "metadata": {},
   "outputs": [],
   "source": [
    "con = Comm.Connector(src = {'component':model1, 'output_name':'output0_Mod1'}, dst = {'component':model2, 'input_name':'input0_Mod2'})\n",
    "# a = con.data_extraction()\n",
    "print(con.components)\n",
    "\n",
    "# len(con.components['dst'])\n",
    "\n",
    "# con.consistency_check()\n",
    "# print(con.relations)"
   ]
  },
  {
   "cell_type": "code",
   "execution_count": null,
   "metadata": {},
   "outputs": [],
   "source": [
    "rel = ('Temp_beer','Temp_air')\n",
    "print(rel)\n",
    "con2 = Comm.Connector(src = {'component':model1, 'output_name':'output0_Mod1'}, dst = {'component':model2, 'input_name':'input0_Mod2'},relations=[rel])"
   ]
  },
  {
   "cell_type": "code",
   "execution_count": null,
   "metadata": {},
   "outputs": [],
   "source": [
    "print(con2.components)\n",
    "print(con2.relations)"
   ]
  },
  {
   "cell_type": "code",
   "execution_count": null,
   "metadata": {},
   "outputs": [],
   "source": [
    "startapp = GlOb.AppTime(time.time())\n",
    "\n",
    "def_tevent= {'ref_start': startapp,'freq':3,'unit':'s'}\n",
    "condition = GlOb.TimeEvent(ID = 'Tev1',name = 'timevent', Ss_start= startapp, type = 'freq', definition = def_tevent)\n",
    "type = 'PQ'\n",
    "# condition = GlOb.TimeEvent(ID= 'T1',name = 'priority', )\n",
    "q =  Comm.Ex_Pattern(type = type, priority_guards= [condition])\n",
    "print(q) \n",
    "for i in range(10):\n",
    "    value = i\n",
    "    q.push(value)\n",
    "    time.sleep(1)\n",
    "    print(q)\n",
    "    \n",
    "for i in range(10):\n",
    "    print(q.pull())\n",
    "\n"
   ]
  },
  {
   "cell_type": "code",
   "execution_count": 7,
   "metadata": {},
   "outputs": [
    {
     "name": "stdout",
     "output_type": "stream",
     "text": [
      "True\n",
      "False\n"
     ]
    }
   ],
   "source": [
    "startapp = GlOb.AppTime(time.time())\n",
    "print(isinstance(startapp,GlOb.AppTime))\n",
    "a = 2\n",
    "print(isinstance(a,GlOb.AppTime))"
   ]
  },
  {
   "cell_type": "code",
   "execution_count": null,
   "metadata": {},
   "outputs": [],
   "source": [
    "#last value queue\n",
    "\n",
    "lvq = collections.deque([])\n",
    "\n",
    "def saqua(queue):\n",
    "    queue.append(queue[0])\n",
    "    return queue.pop()\n",
    "\n",
    "count = 0\n",
    "for item in range(10):\n",
    "    lvq.append(item)\n",
    "    print(lvq)   \n",
    "    if len(lvq) >1:\n",
    "        \n",
    "        \n",
    "        lvq.popleft()\n",
    "        print(lvq)\n",
    "    # count += 1\n",
    "\n",
    "\n",
    "# a = lvq.pop()    \n",
    "# print(a)\n",
    "# print(lvq)\n",
    "\n",
    "# a = saqua(lvq)\n",
    "# print(a)\n",
    "print(lvq)\n",
    "    # print(lvq.qzise())\n",
    "# for item in range(lvq.qsize()):\n",
    "    # print('Item in queue:' + str(lvq.get()))\n",
    "    # print('size of queue:' + str(lvq.qsize()))\n"
   ]
  },
  {
   "cell_type": "code",
   "execution_count": null,
   "metadata": {},
   "outputs": [],
   "source": [
    "q = queue.LifoQueue()\n",
    "\n",
    "for item in range(10):\n",
    "    q.put(item)\n",
    "    print(q.qsize())\n",
    "\n",
    "print(q.qsize())\n",
    "for item in range(q.qsize()):\n",
    "    print('Item in queue:' + str(q.get()))\n",
    "    print('size of queue:' + str(q.qsize()))\n",
    "print(q.qsize())\n",
    "print(q.full())"
   ]
  },
  {
   "cell_type": "code",
   "execution_count": null,
   "metadata": {},
   "outputs": [],
   "source": [
    "priority = queue.PriorityQueue()\n",
    "l= [{'d':7},{'f':10},{'j':1},{'t':0.56},{'d':2},{'k':8},{'o':10}]\n",
    "max_n = len(l)\n",
    "# n = random.randint(0,max_n)\n",
    "\n",
    "randomlits = []\n",
    "for n in range(max_n):\n",
    "    randomlits.append(random.randint(0,max_n))\n",
    "print(randomlits)\n",
    "randomlits = [2,2,2,1,20,2,1]\n",
    "print(randomlits)\n",
    "p = 0\n",
    "for item in l:\n",
    "    t = (randomlits[p], p,item)\n",
    "    # print(randomlits[p])\n",
    "    priority.put(t)\n",
    "    p +=1\n",
    "\n",
    "print(priority.qsize())\n",
    "print(priority)\n"
   ]
  },
  {
   "cell_type": "code",
   "execution_count": null,
   "metadata": {},
   "outputs": [],
   "source": [
    "for item in range(priority.qsize()):\n",
    "    print('Item in queue:' + str(priority.get()))\n",
    "    # print('Item in queue:' + str(priority.get()[2]))\n",
    "    print('size of queue:' + str(priority.qsize()))\n",
    "print(priority.qsize())\n",
    "print(priority.full())"
   ]
  },
  {
   "cell_type": "code",
   "execution_count": null,
   "metadata": {},
   "outputs": [],
   "source": [
    "q = queue.Queue()\n",
    "\n",
    "def worker():\n",
    "    while True:\n",
    "        item = q.get()\n",
    "        print(f'Working on {item}')\n",
    "        print(f'Finished {item}')\n",
    "        q.task_done()\n",
    "\n",
    "# Turn-on the worker thread.\n",
    "threading.Thread(target=worker, daemon=True).start()\n",
    "\n",
    "# Send thirty task requests to the worker.\n",
    "for item in range(30):\n",
    "    q.put(item)\n",
    "\n",
    "# Block until all tasks are done.\n",
    "q.join()\n",
    "print('All work completed')"
   ]
  },
  {
   "cell_type": "code",
   "execution_count": null,
   "metadata": {},
   "outputs": [],
   "source": [
    "startapp = GlOb.AppTime(time.time())\n",
    "def_tevent= {'year':2024,'month':2,'day':27,'hr':15,'min':14,'s':0}\n",
    "def_tevent2= {'s':20}\n",
    "initime= {'year':2024,'month':2,'day':27,'hr':15,'min':42,'s':0}\n",
    "def_tevent= {'ref_start': initime,'freq':5,'unit':'s'}\n",
    "t_ev = GlOb.TimeEvent(ID = 'Tev1',name = 'timevent', Ss_start= startapp, type = 'freq', definition = def_tevent)\n",
    "# print(t_ev.definition)\n",
    "current_time = time.time()\n",
    "timing = GlOb.AppTime(time.time())\n",
    "print(def_tevent)\n",
    "# check = t_ev.evaluation(ref_time = def_tevent, appTime=timing)\n",
    "check = t_ev.evaluation()\n",
    "print(check)"
   ]
  },
  {
   "cell_type": "code",
   "execution_count": null,
   "metadata": {},
   "outputs": [],
   "source": [
    "def_tevent= {'freq':5,'unit':'s'}\n",
    "t_ev = GlOb.TimeEvent(ID = 'Tev1',name = 'timevent', type = 'freq', definition = def_tevent)\n",
    "print(t_ev.definition)\n",
    "current_time = time.time()"
   ]
  },
  {
   "cell_type": "code",
   "execution_count": null,
   "metadata": {},
   "outputs": [],
   "source": [
    "\n",
    "timing = GlOb.AppTime(time.time())\n",
    "ref_time = current_time\n",
    "n = 0\n",
    "tot_time = 20\n",
    "while n <tot_time:\n",
    "    n += 1\n",
    "    check = t_ev.evaluation()\n",
    "    time.sleep(1)\n",
    "    print(check)"
   ]
  },
  {
   "cell_type": "code",
   "execution_count": null,
   "metadata": {},
   "outputs": [],
   "source": [
    "timing = GlOb.AppTime(time.time())\n",
    "print(timing)\n",
    "clock:dict = {'year':2024,'month':2,'day':26,'hr':15,'min':17,'s':0}\n",
    "sec = timing.timeTransformation(clock)\n",
    "print(sec)"
   ]
  },
  {
   "cell_type": "code",
   "execution_count": null,
   "metadata": {},
   "outputs": [],
   "source": [
    "\n",
    "timing = GlOb.AppTime(time.time())\n",
    "print(timing)\n",
    "clock:dict = {'year':2024,'month':2,'day':26,'hr':15,'min':17,'s':0}\n",
    "clock = time.time()-25\n",
    "# print(timing.app_update())\n",
    "# print(timing.local_update(clock))\n",
    "# print(timing.timePass)\n",
    "t = time.time()\n",
    "print(type(t))"
   ]
  },
  {
   "cell_type": "code",
   "execution_count": null,
   "metadata": {},
   "outputs": [],
   "source": [
    "print(timing.app_update())\n",
    "print(round(timing.local_update(clock),0))\n",
    "print(int(timing.timePass))\n"
   ]
  },
  {
   "cell_type": "code",
   "execution_count": null,
   "metadata": {},
   "outputs": [],
   "source": [
    "start = GlOb.AppTime(time.time())\n",
    "print(start)\n",
    "clock_tuple = [2024,2,26,15,17,0,0,0,0]\n",
    "transform = tuple(clock_tuple)\n",
    "print(transform)\n",
    "clock = time.mktime(transform)\n",
    "print(clock)"
   ]
  },
  {
   "cell_type": "code",
   "execution_count": null,
   "metadata": {},
   "outputs": [],
   "source": [
    "start.local_update()\n",
    "print(start.timePass)"
   ]
  },
  {
   "cell_type": "code",
   "execution_count": null,
   "metadata": {},
   "outputs": [],
   "source": [
    "start.local_update()\n",
    "print(start.timePass)"
   ]
  },
  {
   "cell_type": "code",
   "execution_count": null,
   "metadata": {},
   "outputs": [],
   "source": [
    "dictdef = {'frequ':2,'unit':'day'}\n",
    "dictdef= {'year':2024,'month':2,'day':26,'hr':15,'min':17,'s':0}\n",
    "timeevent2 = Comm.TimeEvent(ID = 'ev1',name = 'Timeevent',type = 'freq', definition = dictdef)\n"
   ]
  },
  {
   "cell_type": "code",
   "execution_count": null,
   "metadata": {},
   "outputs": [],
   "source": [
    "\n",
    "print(timeevent2.definition)\n",
    "print(timeevent2.type)"
   ]
  },
  {
   "cell_type": "code",
   "execution_count": null,
   "metadata": {},
   "outputs": [],
   "source": [
    "tuple1 = (2024,2,26,15,4,5,0,0,-1)\n",
    "f= time.mktime(tuple1)\n",
    "print(f)"
   ]
  },
  {
   "cell_type": "code",
   "execution_count": null,
   "metadata": {},
   "outputs": [],
   "source": [
    "print(time.ctime())\n",
    "time_now =time.time()\n",
    "print(time.localtime(time_now))\n",
    "now = time.strftime(\"%H:%M\", time.localtime(time.time()))\n",
    "print(\"the now time is \" + str(now))\n",
    "\n",
    "frequency = 1\n",
    "\n",
    "\n"
   ]
  },
  {
   "cell_type": "code",
   "execution_count": null,
   "metadata": {},
   "outputs": [],
   "source": [
    "#testing scheduler time in python\n",
    "s = sched.scheduler(time.monotonic, time.sleep)\n",
    "\n",
    "def print_time(a='default'):\n",
    "    print(\"From print_time\", time.time(), a)\n",
    "\n",
    "def print_some_times():\n",
    "    print(time.time())\n",
    "    s.enter(10, 1, print_time)\n",
    "    s.enter(5, 2, print_time, argument=('positional',))\n",
    "    # despite having higher priority, 'keyword' runs after 'positional' as enter() is relative\n",
    "    s.enter(5, 1, print_time, kwargs={'a': 'keyword'})\n",
    "    s.enterabs(1_650_000_000, 10, print_time, argument=(\"first enterabs\",))\n",
    "    s.enterabs(1_650_000_000, 5, print_time, argument=(\"second enterabs\",))\n",
    "    s.run()\n",
    "    print(time.time())\n",
    "\n",
    "print_some_times()"
   ]
  },
  {
   "cell_type": "code",
   "execution_count": null,
   "metadata": {},
   "outputs": [],
   "source": [
    "var = {'a':40 , 'b':10}\n",
    "ex = 'a>20 and b == 10'\n",
    "guardevent = Comm.GuardEvent(ID = 'GE1',name = \"Guard\", variables=var,expression = ex)\n",
    "print(guardevent.eval)"
   ]
  },
  {
   "cell_type": "code",
   "execution_count": null,
   "metadata": {},
   "outputs": [],
   "source": [
    "input1 = {'name':\"temp\", 'unit':\"celcius\", 'datatype':\"float\",'val':''}\n",
    "input2 = {'name':\"temp1\", 'unit':\"faremheid\", 'datatype':\"float\",'val':''}\n",
    "input3 = {'name':\"temp2\", 'unit':\"kelvin\", 'datatype':\"float\",'val':''}\n",
    "queue = ['non_empty','empty','non_empty']\n",
    "queue2 = ['non_empty','non_empty','non_empty']\n",
    "input = [input1,input2,input3]\n",
    "# input = {'in1':input1,'in2':input2,'in3':input3}\n",
    "aggregate = Comm.Aggreggator(name = \"agreggator_temps\", ID = \"agg1\", output_name=\"temperatures\", inputs=input)\n",
    "aggregate2 = Comm.Aggreggator(name = \"agreggator_temps2\", ID = \"agg1\", output_name=\"temperatures\", inputs=input)\n",
    "print(aggregate.inports)\n",
    "inport_list1 = []\n",
    "inport_list2 = []\n",
    "\n",
    "\n",
    "\n",
    "\n",
    "index = 0\n",
    "for i,j in aggregate.inports.items():\n",
    "    # print('ID:' + i)\n",
    "    # print(j)\n",
    "    j.queueState = queue2[index]\n",
    "    index +=1\n",
    "    # print(j.queueState)\n",
    "index =0\n",
    "for i,j in aggregate2.inports.items():\n",
    "    # print('ID:' + i)\n",
    "    # print(j)\n",
    "    j.queueState = queue[index]\n",
    "    index +=1\n",
    "    # print(j.queueState)\n",
    "for id, inport in aggregate.inports.items():\n",
    "    inport_list1.append(inport)\n",
    "\n",
    "print(inport_list1)\n",
    "\n",
    "for id, inport in aggregate2.inports.items():\n",
    "    inport_list2.append(inport)\n",
    "\n",
    "print(inport_list2)\n",
    "devent = Comm.DataEvent(ID = 'dt_1', name = 'dataevent', ports=inport_list1)\n",
    "\n",
    "print(devent.eval)\n",
    "devent2 = Comm.DataEvent(ID = 'dt_2',name = 'dataevent2', ports = inport_list2)\n",
    "\n",
    "print(devent2.eval)\n",
    "print('\\n')\n",
    "expression = 'dataevent and dataevent2'\n",
    "evento = Comm.Event('ev_1','Data and Data',[devent,devent2],expression)\n",
    "\n",
    "print(evento.eval)\n",
    "expression2 = 'dataevent or dataevent2'\n",
    "evento2 = Comm.Event('ev_2','Data and Data',[devent,devent2],expression2)\n",
    "print(evento2.eval)"
   ]
  },
  {
   "cell_type": "code",
   "execution_count": null,
   "metadata": {},
   "outputs": [],
   "source": [
    "devent = Comm.DataEvent('dt_1','dataevent',split)\n",
    "a = devent.evaluation()\n",
    "print(a)\n",
    "print(split.inports)\n",
    "for (id, obj) in split.inports.items():\n",
    "    print(obj.queueState)\n",
    "\n",
    "split.inports['input0_spl1'].queueState = 'non_empty'\n",
    "a = devent.evaluation()\n",
    "print(a)"
   ]
  },
  {
   "cell_type": "code",
   "execution_count": null,
   "metadata": {},
   "outputs": [],
   "source": [
    "x=4\n",
    "y=5\n",
    "\n",
    "print(eval('x+y+1'))\n",
    "print(eval('x>=y'))\n",
    "x = True\n",
    "y = True\n",
    "print(eval('x and y'))\n",
    "\n",
    "x = True\n",
    "y = False\n",
    "z = True\n",
    "r = False\n",
    "\n",
    "print(eval('x or y or z and r'))"
   ]
  },
  {
   "cell_type": "code",
   "execution_count": null,
   "metadata": {},
   "outputs": [],
   "source": []
  },
  {
   "cell_type": "code",
   "execution_count": null,
   "metadata": {},
   "outputs": [],
   "source": [
    "input = {'name':\"temp\", 'components':{'c1':'Temp_air','c2':'Temp_beer'},'unit':{'c1':\"K\",'c2':'K'}, 'datatype':{'c1':'str','c2':'str'},'val':{'c1':'','c2':''}}\n",
    "split = Comm.Splitter(name = 'splittertemp',ID = 'spl1', input = input)\n",
    "print(split.inputs)\n",
    "print(split.inports)\n",
    "print(split.outputs)\n",
    "print(split.outports)\n",
    "print(split.outports['output0_spl1'])\n",
    "print(split.inputs['input0_spl1']['value'])\n",
    "u =10\n",
    "for name, val in split.inputs['input0_spl1']['value'].items():\n",
    "    print(name)\n",
    "    u +=100\n",
    "    split.inputs['input0_spl1']['value'][name] = u\n",
    "print(split.inputs['input0_spl1']['value'])\n",
    "split.behavior()\n",
    "print(split.outputs)"
   ]
  },
  {
   "cell_type": "code",
   "execution_count": null,
   "metadata": {},
   "outputs": [],
   "source": [
    "input = {'name':\"temp\", 'components':{'c1':'Temp_air','c2':'Temp_beer'},'unit':{'c1':\"K\",'c2':'K'}, 'datatype':{'c1':'str','c2':'str'},'val':{'c1':'','c2':''}}\n",
    "print(input['components'])\n",
    "print(list(input['components'].values()))"
   ]
  },
  {
   "cell_type": "code",
   "execution_count": null,
   "metadata": {},
   "outputs": [],
   "source": [
    "input1 = {'name':\"temp\", 'unit':\"celcius\", 'datatype':\"float\",'val':''}\n",
    "input2 = {'name':\"temp1\", 'unit':\"faremheid\", 'datatype':\"float\",'val':''}\n",
    "input3 = {'name':\"temp2\", 'unit':\"kelvin\", 'datatype':\"float\",'val':''}\n",
    "input = [input1,input2,input3]\n",
    "input = {'in1':input1,'in2':input2,'in3':input3}\n",
    "aggregate = Comm.Aggreggator(name = \"agreggator_temps\", ID = \"agg1\", output_name=\"temperatures\", inputs=input)\n",
    "print(aggregate)\n",
    "# print(aggregate.inputs_dt)\n",
    "# print(aggregate.inputs_unit)\n",
    "# print(aggregate.var_names)\n",
    "print(aggregate.outputs)\n",
    "print(aggregate.outports)\n",
    "print(aggregate.inports)\n",
    "print(aggregate.outports['output0_agg1'])\n",
    "aggregate.behavior()\n",
    "print(aggregate.outputs)\n",
    "print(aggregate.inputs)\n",
    "aggregate.inputs['input0_agg1']['value'] = 9\n",
    "aggregate.inputs['input1_agg1']['value'] = 91\n",
    "aggregate.inputs['input2_agg1']['value'] = 160\n",
    "# print(aggregate.inputs['input0_agg1']['value'] )\n",
    "# name = [name for  name,val in aggregate.outputs['output0_agg1']['value'].items()]\n",
    "# print(name)\n",
    "aggregate.behavior()\n",
    "print(aggregate.outputs)\n",
    "print(aggregate.inputs)\n",
    "aggregate.outport_assigment()\n",
    "print(aggregate.outports['output0_agg1'].val)"
   ]
  },
  {
   "cell_type": "code",
   "execution_count": null,
   "metadata": {},
   "outputs": [],
   "source": [
    "input = {'name':\"temp\", 'components':{'c1':'Temp_air','c2':'Temp_beer'},'unit':{'c1':\"K\",'c2':'K'}, 'datatype':{'c1':'str','c2':'str'},'val':{'c1':'','c2':''}}\n",
    "portdict = {'name':\"temp\", 'unit':\"celcius\", 'datatype':\"float\",'val':'125'}\n",
    "items = list(input.items())\n",
    "items_2 = tuple(portdict.items())\n",
    "print(items)\n",
    "print(items_2)\n",
    "# splitter = Comm.Splitter(name=\"Splitter\", ID=\"spl1\", input=input)\n",
    "# print(splitter)"
   ]
  },
  {
   "cell_type": "code",
   "execution_count": null,
   "metadata": {},
   "outputs": [],
   "source": [
    "dicto ={'components':{'c1':'Temp_air','c2':'Temp_beer'}}\n",
    "for i,j in dicto['components'].items():\n",
    "    print(i)\n",
    "    print(j)"
   ]
  },
  {
   "cell_type": "code",
   "execution_count": null,
   "metadata": {},
   "outputs": [],
   "source": [
    "portdict = {'name':\"temp\", 'unit':\"celcius\", 'datatype':\"float\",'val':'125'}\n",
    "duplicator = Comm.Duplicator(name = 'dup_1',ID = 'dp1', input = portdict, num_outputs= 3)\n",
    "print(duplicator.inID)\n",
    "print(duplicator.outID)\n",
    "duplicator.inport_assigment()\n",
    "duplicator.behavior()\n",
    "print(duplicator.inputs)\n",
    "portdict2 = {'name':\"temp\", 'components':{'c1':'Temp_air','c2':'Temp_beer'},'unit':{'c1':\"K\",'c2':'K'}, 'datatype':{'c1':\"str\",'c2':'float'},'val':{'c1':2,'c2':90}}\n",
    "duplicator = Comm.Duplicator(name = 'dup_1',ID = 'dp1', input = portdict2, num_outputs= 3)\n",
    "print(duplicator.inID)\n",
    "print(duplicator.outID)\n",
    "duplicator.inport_assigment()\n",
    "duplicator.behavior()\n",
    "print(duplicator.inputs)"
   ]
  },
  {
   "cell_type": "markdown",
   "metadata": {},
   "source": [
    "**definition of components and its ports**"
   ]
  },
  {
   "cell_type": "code",
   "execution_count": null,
   "metadata": {},
   "outputs": [],
   "source": [
    "component = Comm.Component(\"comp1\", 'Mod1')\n",
    "portdict = {'name':\"temp\", 'unit':\"celcius\", 'datatype':\"float\",'val':'125'}\n",
    "port1 = component.Port_gen(type = 'input', port = portdict)\n",
    "print(component.inputs)\n",
    "print(component.inports[port1])\n",
    "\n",
    "portdict2 = {'name':\"temp\", 'components':{'c1':'Temp_air','c2':'Temp_beer'},'unit':{'c1':\"K\",'c2':'K'}, 'datatype':{'c1':\"str\",'c2':'float'},'val':{'c1':2,'c2':90}}\n",
    "port2 = component.Port_gen(type = 'output', port = portdict2)\n",
    "print(component.outports)\n",
    "print(component.outports[port2])\n",
    "print(component.ports)"
   ]
  },
  {
   "cell_type": "code",
   "execution_count": null,
   "metadata": {},
   "outputs": [],
   "source": [
    "print(component.inports[port1].val)\n",
    "print(component.outports[port2].val)\n",
    "print(component.inputs[port1]['value'])\n",
    "print(component.outputs[port2])\n",
    "component.inport_assigment()\n",
    "print(component.inputs[port1]['value'])\n",
    "print()\n",
    "val = 90\n",
    "for variables in list(component.outputs[port2]['value'].keys()):\n",
    "    val =val *2\n",
    "    component.outputs[port2][\"value\"][variables] = val\n",
    "component.outport_assigment()\n",
    "print(component.outports[port2].val)"
   ]
  },
  {
   "cell_type": "markdown",
   "metadata": {},
   "source": [
    "**Definition of ports alone**"
   ]
  },
  {
   "cell_type": "code",
   "execution_count": null,
   "metadata": {},
   "outputs": [],
   "source": [
    "portdict = {'name':\"temp\", 'unit':\"K\", 'datatype':\"str\",'val':'2'}\n",
    "inp = Comm.Inport(ID = 'input1', port = portdict)\n",
    "portdict2 = {'name':\"temp\", 'components':{'c1':'Temp_air','c2':'Temp_beer'},'unit':{'c1':\"K\",'c2':'K'}, 'datatype':{'c1':\"str\",'c2':'float'},'val':{'c1':2,'c2':90}}\n",
    "inp1 = Comm.Outport(ID = 'input1', port = portdict2)\n",
    "print(inp)\n",
    "print(inp1)"
   ]
  },
  {
   "cell_type": "code",
   "execution_count": null,
   "metadata": {},
   "outputs": [],
   "source": [
    "input = {'name':{'components':'c1,c2', 'units':{'c1':'K','c2': 'K'} , 'datatypes':{'c1':'float','c2':'float'} }}\n",
    "complex_input = {'name':'concentration','components':{'c1':'T_air','c2':'T_beer'}, 'unit':{'c1':'K','c2': 'K'} , 'datatype':{'c1':'float','c2':'float'}}\n",
    "input1 = {'name':'Conc_y', 'unit':'mol/l','datatype': 'str'}\n",
    "print(len(input1['datatype']))\n",
    "\n",
    "print(len(complex_input))\n",
    "Name = complex_input['name']\n",
    "comp_keys = list(complex_input['components'].keys())\n",
    "# comp_names = list(complex_input['components'].values())\n",
    "# comp_units = list(complex_input['unit'].values())\n",
    "# compdatatypes = list(complex_input['datatype'].values())\n",
    "# print(comp_keys)\n",
    "# print(comp_names)\n",
    "# print(comp_units)\n",
    "# print(compdatatypes)\n",
    "keys1 = list(complex_input.keys())\n",
    "keys2 = list(input1.keys())\n",
    "print('components' in keys1)\n",
    "print('components' in keys2)\n",
    "for key in comp_keys:\n",
    "    output = {'name':complex_input['components'][key], 'unit':complex_input['unit'][key],'datatype': complex_input['datatype'][key]}\n",
    "    print(output)\n"
   ]
  },
  {
   "cell_type": "code",
   "execution_count": null,
   "metadata": {},
   "outputs": [],
   "source": [
    "try:\n",
    "    element = complex_input['components']\n",
    "except:\n",
    "    element = 0\n",
    "print(type(element))\n",
    "print(element)"
   ]
  },
  {
   "cell_type": "code",
   "execution_count": null,
   "metadata": {},
   "outputs": [],
   "source": [
    "split = Comm.Splitter(name=\"split1\", ID=\"spl1\", input = {'name':{'components':'c1,c2', 'units':{'c1':'K','c2': 'K'} , 'datatypes':{'c1':'float','c2':'float'} }})"
   ]
  },
  {
   "cell_type": "code",
   "execution_count": null,
   "metadata": {},
   "outputs": [],
   "source": [
    "input1 = {'name':'Conc_y', 'unit':'mol/l','datatype': 'str'}\n",
    "input2 = {'name':'Conc_sug', 'unit':'g/l','datatype': 'float'}\n",
    "input3 = {'name':'Conc_sug2', 'unit':'g/l','datatype': 'int'}\n",
    "input=[input1, input2, input3]\n",
    "dict_input = {'in1':input1, 'in2':input2,'in3':input3}\n",
    "\n",
    "names_inputs = [names['name'] for names in input]\n",
    "inputs = tuple(dict_input.items())\n",
    "# print(inputs[1][:])\n",
    "names_inputs2 = [names[1]['name'] for names in inputs]\n",
    "print(names_inputs)\n",
    "print(names_inputs2)\n",
    "print(input[0]['name'])"
   ]
  },
  {
   "cell_type": "code",
   "execution_count": null,
   "metadata": {},
   "outputs": [],
   "source": [
    "d={}\n",
    "d = dict.fromkeys(names_inputs,'')\n",
    "print(d)"
   ]
  },
  {
   "cell_type": "code",
   "execution_count": null,
   "metadata": {},
   "outputs": [],
   "source": [
    "d = {'d':{\"a\":3,\"b\":4}}\n",
    "key, values =tuple(d.items())[0]\n",
    "print(key)\n",
    "print(values)\n",
    "# print(z)\n",
    "# print(type(z))"
   ]
  },
  {
   "cell_type": "code",
   "execution_count": null,
   "metadata": {},
   "outputs": [],
   "source": [
    "input1 = {'name':'Conc_y', 'unit':'mol/l','datatype': 'str'}\n",
    "input2 = {'name':'Conc_sug', 'unit':'g/l','datatype': 'float'}\n",
    "input3 = {'name':'Conc_sug2', 'unit':'g/l','datatype': 'int'}\n",
    "\n",
    "input=[input1, input2]\n",
    "dict_input = {'in1':input1, 'in2':input2,'in3':input3}\n",
    "agg = Comm.Aggreggator (name=\"aggreggator\", ID=\"Agg1\", output = {'name': 'concentrations'}, inputs = input )\n",
    "print(agg.inID)\n",
    "print(agg.outID)\n",
    "print(agg.inputs)"
   ]
  },
  {
   "cell_type": "code",
   "execution_count": null,
   "metadata": {},
   "outputs": [],
   "source": [
    "print(agg.inputs)\n",
    "value = 90\n",
    "for name, val in agg.inputs.items():\n",
    "    print(val)\n",
    "    val['value'] = value\n",
    "    value *=2\n",
    "print(agg.inputs)"
   ]
  },
  {
   "cell_type": "code",
   "execution_count": null,
   "metadata": {},
   "outputs": [],
   "source": [
    "# agg.outputs['output0_Agg1']['value'] = {'Conc_y': 40, 'Conc_sug':45}\n",
    "# print(agg.outputs['output0_Agg1']['value']['Conc_sug'])\n",
    "# agg.outports['output0_Agg1'].val = {'Conc_y': 20, 'Conc_sug':30}\n",
    "print(agg.outputs)\n",
    "print(agg.outports)\n",
    "print(agg.outputs['output0_Agg1'])\n",
    "print(agg.outports['output0_Agg1'])\n",
    "print(agg.outports['output0_Agg1'].unit)\n",
    "print(agg.outports['output0_Agg1'].datatype)\n",
    "print(agg.outports['output0_Agg1'].val)\n",
    "print(len(agg.outports['output0_Agg1'].val))\n",
    "# print(agg.outports['output0_Agg1'])\n",
    "# agg.outport_assigment()\n",
    "# print(agg.outports['output0_Agg1'].val)\n",
    "agg.behavior()\n",
    "agg.outport_assigment()\n",
    "print(agg.outports['output0_Agg1'].val)\n",
    "# print(agg.outputs['output0_Agg1'])\n",
    "# print(agg.outports['output0_Agg1'].val)\n",
    "# print(agg.outports['output0_Agg1'].data_elements)"
   ]
  },
  {
   "cell_type": "code",
   "execution_count": null,
   "metadata": {},
   "outputs": [],
   "source": [
    "print(agg.outputs)\n",
    "agg.outports['output0_Agg1'].val = {'Conc_y': 20, 'Conc_sug':30}\n",
    "print(agg.outports['output0_Agg1'].val)\n",
    "print(type(agg.outports['output0_Agg1'].val))\n",
    "\n",
    "for var,val  in agg.outports['output0_Agg1'].val.items():\n",
    "    print(var)\n",
    "    print(val)\n",
    "    print(agg.outports['output0_Agg1'].val[var])"
   ]
  },
  {
   "cell_type": "code",
   "execution_count": null,
   "metadata": {},
   "outputs": [],
   "source": [
    "#test to agreggate a component to the DT \n",
    "system = DTdef.Comp_manager (\"systema\")\n",
    "system.component_agreggate('this one', 'mod')\n",
    "print(system.comp_names)\n",
    "print(system.components)\n",
    "print(system.service_name)"
   ]
  },
  {
   "cell_type": "code",
   "execution_count": null,
   "metadata": {},
   "outputs": [],
   "source": [
    "# Test to instasciate a model (component)\n",
    "model = Comm.Component('dave','Mod1')\n",
    "# Test for generating a specific port in the model - it will generate a new port everytime it runs\n",
    "Id_input = model.Port_gen('inport','temp','K','float')\n"
   ]
  },
  {
   "cell_type": "code",
   "execution_count": null,
   "metadata": {},
   "outputs": [],
   "source": [
    "id_output = model.Port_gen('outport','temp','K','float')\n",
    "print(model.type)\n",
    "print(model.name )\n",
    "print(model.ID )\n",
    "print(model.inputs )\n",
    "print(model.outputs )\n",
    "print(model.inports) \n",
    "print(model.outports )\n",
    "print(model.ports )\n",
    "print(Id_input)\n",
    "print(id_output)\n"
   ]
  },
  {
   "cell_type": "code",
   "execution_count": null,
   "metadata": {},
   "outputs": [],
   "source": [
    "#printing port and model in different cell to avoid creating new ports everytime:\n",
    "print(model.inputs)\n",
    "\n",
    "print(model.inputs[Id_input]['name'])\n"
   ]
  },
  {
   "cell_type": "code",
   "execution_count": null,
   "metadata": {},
   "outputs": [],
   "source": [
    "#test inport instantiation\n",
    "port1 = Comm.inport(ID= \"port_1\", name = \"Port1\", unit = \"m\", datatype = \"dict(a:a,b:a,d:4,e:5,r:6,e:3)\")\n",
    "print(port1.data_elements)"
   ]
  },
  {
   "cell_type": "code",
   "execution_count": null,
   "metadata": {},
   "outputs": [],
   "source": [
    "# test for duplicator instantiation\n",
    "d =Comm.Duplicator(name=\"Dupplicator\", ID=\"dup1\",input = {'name': 'concentration', 'unit' : 'mol/l', 'datatype':'float'}, num_outputs = 1)\n",
    "print(d)"
   ]
  },
  {
   "cell_type": "code",
   "execution_count": null,
   "metadata": {},
   "outputs": [],
   "source": [
    "print(d.type)\n",
    "print(d.name )\n",
    "print(d.ID )\n",
    "print(d.inputs )\n",
    "print(d.outputs )\n",
    "print(d.inports) \n",
    "print(d.outports )\n",
    "print(d.ports )\n",
    "print(d.inID)\n",
    "for i in d.outputs.items():\n",
    "    print(i[1]['name'])\n",
    "print(d.outputs)\n",
    "# print(Id_input)\n",
    "# print(id_output)"
   ]
  },
  {
   "cell_type": "code",
   "execution_count": null,
   "metadata": {},
   "outputs": [],
   "source": [
    "d.inputs['input0_dup1']['value'] = 780\n",
    "print(d.inputs[d.inID])"
   ]
  },
  {
   "cell_type": "code",
   "execution_count": null,
   "metadata": {},
   "outputs": [],
   "source": [
    "d.behavior()\n",
    "# print(d.outputs)\n",
    "for i in d.inputs:\n",
    "    print(i)"
   ]
  },
  {
   "cell_type": "code",
   "execution_count": null,
   "metadata": {},
   "outputs": [],
   "source": [
    "\n",
    "d.inports[d.inID].val = 800\n",
    "d.inport_assigment()\n",
    "print(d.inports[d.inID].val )\n",
    "print(d.inputs[d.inID])\n",
    "d.behavior()\n",
    "# print(d.outputs)\n",
    "d.outport_assigment()\n",
    "for out in d.outports:\n",
    "    print(d.outports[out].val)\n"
   ]
  },
  {
   "cell_type": "code",
   "execution_count": null,
   "metadata": {},
   "outputs": [],
   "source": [
    "input1 = {'name':'Conc_y', 'unit':'mol/l','datatype': 'str'}\n",
    "input2 = {'name':'Conc_sug', 'unit':'g/l','datatype': 'float'}\n",
    "input=[input1, input2]\n",
    "dict_input = {'in1':input1, 'in2':input2}\n",
    "print(input)\n",
    "print(dict_input)\n",
    "\n",
    "print(type(input)==list)\n",
    "print(type(dict_input)==dict)"
   ]
  },
  {
   "cell_type": "code",
   "execution_count": null,
   "metadata": {},
   "outputs": [],
   "source": [
    "input['alpha_1'] = ('Temp', 5)\n",
    "print(input['alpha_1'])"
   ]
  },
  {
   "cell_type": "code",
   "execution_count": null,
   "metadata": {},
   "outputs": [],
   "source": [
    "input['alpha_1']['val'] = 10\n",
    "print(input['alpha_1']['val'])"
   ]
  },
  {
   "cell_type": "code",
   "execution_count": null,
   "metadata": {},
   "outputs": [],
   "source": [
    "list1 = ['a']\n",
    "list2 = ['d','a','2']\n",
    "list3 = []\n",
    "list3.append(list1)\n",
    "list3.append(list2)\n",
    "print(list3)"
   ]
  }
 ],
 "metadata": {
  "kernelspec": {
   "display_name": "Python 3",
   "language": "python",
   "name": "python3"
  },
  "language_info": {
   "codemirror_mode": {
    "name": "ipython",
    "version": 3
   },
   "file_extension": ".py",
   "mimetype": "text/x-python",
   "name": "python",
   "nbconvert_exporter": "python",
   "pygments_lexer": "ipython3",
   "version": "3.11.9"
  }
 },
 "nbformat": 4,
 "nbformat_minor": 2
}
