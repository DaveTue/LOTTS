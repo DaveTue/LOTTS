{
 "cells": [
  {
   "cell_type": "code",
   "execution_count": 1,
   "metadata": {},
   "outputs": [],
   "source": [
    "import Matlab_API\n",
    "import localInterface_gen\n",
    "import intercomm_def \n",
    "import os\n",
    "import py_units_model\n",
    "import pyModelEncap"
   ]
  },
  {
   "cell_type": "code",
   "execution_count": 2,
   "metadata": {},
   "outputs": [
    {
     "name": "stdout",
     "output_type": "stream",
     "text": [
      "original file path and name:d:\\PhD_PC\\Git_folders\\dsl-orchestration\\Matlab_models\\Gain_model.slx\n",
      "new folder:d:\\PhD_PC\\Git_folders\\dsl-orchestration\\Matlab_models\\Gain_model\n",
      "unzipped file from matlab\n",
      "\n",
      "\n",
      "d:\\PhD_PC\\Git_folders\\dsl-orchestration\\Matlab_models\\Gain_model\\simulink\\graphicalInterface.xml\n",
      "Data for input, outputs and its connections collected\n",
      "\n",
      "\n",
      "Model:Gain_model.slx copied as Gain_model_wI.slx in folder:d:\\PhD_PC\\Git_folders\\dsl-orchestration\\Matlab_models\n",
      "\n",
      "\n",
      "file Gain_model_wI_func.m created\n",
      "\n",
      "\n",
      "Starting matlab\n",
      "Connected to Matlab\n",
      "Model loaded\n",
      "model Gain_model_wI has been changed with a new block named interface\n",
      "ModelGain_model_wI has been saved\n",
      "Data of the class has been extracted\n",
      "Inputs and outputs have been defined for this model\n"
     ]
    },
    {
     "data": {
      "text/plain": [
       "{'inputs': ['temp_in', 'mass_in', 'vol_in', 'time'],\n",
       " 'outputs': ['temp_out', 'mass_out', 'vol_out']}"
      ]
     },
     "execution_count": 2,
     "metadata": {},
     "output_type": "execute_result"
    }
   ],
   "source": [
    "#example\n",
    "#simulink model\n",
    "dir_simulink = os.getcwd() + '\\\\' + 'Matlab_models'\n",
    "model_name_original = 'Gain_model'\n",
    "model_simulink = Matlab_API.Simulink(modelName = model_name_original, directory = dir_simulink)\n",
    "model_simulink.interface_gen()\n",
    "\n",
    "#python model\n",
    "model_py = py_units_model.UnitChange(temperature=32,mass = 1000,volume = 20, time = 1)\n",
    "py_model_encap = pyModelEncap.Model_wrapper(model_py,directory=os.getcwd(),modelName = \"UnitChange\")\n",
    "class_data = py_model_encap.extract()\n",
    "py_model_encap.portDefinition(['temp_in', 'mass_in', 'vol_in', 'time'],['temp_out', 'mass_out', 'vol_out'])"
   ]
  },
  {
   "cell_type": "code",
   "execution_count": 3,
   "metadata": {},
   "outputs": [
    {
     "name": "stdout",
     "output_type": "stream",
     "text": [
      "For Gain_model the detected ports are:\n",
      " Input port name Gain_model:temp_in\n",
      " Input port name Gain_model:mass_in\n",
      " Input port name Gain_model:vol_in\n",
      " Output port name Gain_model:temp_out\n",
      " Output port name Gain_model:mass_out\n",
      " Output port name Gain_model:vol_out\n",
      " Output port name Gain_model:time_out\n",
      "For UnitChange the detected ports are:\n",
      " Input port name UnitChange:temp_in\n",
      " Input port name UnitChange:mass_in\n",
      " Input port name UnitChange:vol_in\n",
      " Input port name UnitChange:time\n",
      " Output port name UnitChange:temp_out\n",
      " Output port name UnitChange:mass_out\n",
      " Output port name UnitChange:vol_out\n"
     ]
    }
   ],
   "source": [
    "#system definition\n",
    "system = intercomm_def.intercomm([model_simulink,py_model_encap])\n",
    "system.port_detect()\n"
   ]
  },
  {
   "cell_type": "code",
   "execution_count": 4,
   "metadata": {},
   "outputs": [
    {
     "name": "stdout",
     "output_type": "stream",
     "text": [
      "Connection generated:UnitChange:temp_out->Gain_model:temp_in\n",
      "Connection generated:UnitChange:mass_out->Gain_model:mass_in\n",
      "Connection generated:UnitChange:vol_out->Gain_model:vol_in\n",
      "Connection generated:Gain_model:temp_out->UnitChange:temp_in\n",
      "Connection generated:Gain_model:mass_out->UnitChange:mass_in\n",
      "Connection generated:Gain_model:vol_out->UnitChange:vol_in\n",
      "Connection generated:Gain_model:time_out->UnitChange:time\n"
     ]
    }
   ],
   "source": [
    "system.def_connection(system.ports[\"UnitChange:temp_out\"],system.ports[\"Gain_model:temp_in\"])\n",
    "system.def_connection(system.ports[\"UnitChange:mass_out\"],system.ports[\"Gain_model:mass_in\"])\n",
    "system.def_connection(system.ports[\"UnitChange:vol_out\"],system.ports[\"Gain_model:vol_in\"])\n",
    "system.def_connection(system.ports[\"Gain_model:temp_out\"],system.ports[\"UnitChange:temp_in\"])\n",
    "system.def_connection(system.ports[\"Gain_model:mass_out\"],system.ports[\"UnitChange:mass_in\"])\n",
    "system.def_connection(system.ports[\"Gain_model:vol_out\"],system.ports[\"UnitChange:vol_in\"])\n",
    "system.def_connection(system.ports[\"Gain_model:time_out\"],system.ports[\"UnitChange:time\"])"
   ]
  },
  {
   "cell_type": "code",
   "execution_count": 5,
   "metadata": {},
   "outputs": [
    {
     "name": "stdout",
     "output_type": "stream",
     "text": [
      "UnitChange\n"
     ]
    }
   ],
   "source": [
    "print(system.connections[0]['src'].model.modelName)"
   ]
  },
  {
   "cell_type": "code",
   "execution_count": 6,
   "metadata": {},
   "outputs": [],
   "source": [
    "exe = intercomm_def.execution(models =[model_simulink,py_model_encap])\n"
   ]
  },
  {
   "cell_type": "code",
   "execution_count": 7,
   "metadata": {},
   "outputs": [
    {
     "name": "stdout",
     "output_type": "stream",
     "text": [
      "Initialized Model\n",
      "The initial inputs for model Gain_model are:\n",
      " temp_in=0\n",
      " mass_in=0\n",
      " vol_in=0\n",
      "Initialized Model\n",
      "The initial outputs for model Gain_model are:\n"
     ]
    },
    {
     "ename": "MatlabExecutionError",
     "evalue": "\n  File C:\\Program Files\\MATLAB\\R2022b\\toolbox\\matlab\\external\\engines\\engine_api\\+matlab\\+internal\\+engine\\getVariable.m, line 27, in getVariable\nUndefined variable 'temp_out'.\n",
     "output_type": "error",
     "traceback": [
      "\u001b[1;31m---------------------------------------------------------------------------\u001b[0m",
      "\u001b[1;31mMatlabExecutionError\u001b[0m                      Traceback (most recent call last)",
      "Cell \u001b[1;32mIn[7], line 1\u001b[0m\n\u001b[1;32m----> 1\u001b[0m exe\u001b[39m.\u001b[39;49mcontinous(models \u001b[39m=\u001b[39;49m[model_simulink,py_model_encap],time_end \u001b[39m=\u001b[39;49m \u001b[39m30\u001b[39;49m, system \u001b[39m=\u001b[39;49m system)\n",
      "File \u001b[1;32md:\\PhD_PC\\Git_folders\\dsl-orchestration\\intercomm_def.py:96\u001b[0m, in \u001b[0;36mexecution.continous\u001b[1;34m(self, models, time_end, system)\u001b[0m\n\u001b[0;32m     95\u001b[0m \u001b[39mdef\u001b[39;00m \u001b[39mcontinous\u001b[39m(\u001b[39mself\u001b[39m,models \u001b[39m=\u001b[39m[],time_end \u001b[39m=\u001b[39m \u001b[39m30\u001b[39m, system \u001b[39m=\u001b[39m \u001b[39mobject\u001b[39m):\n\u001b[1;32m---> 96\u001b[0m     models[\u001b[39m0\u001b[39;49m]\u001b[39m.\u001b[39;49minitialize_model()\n\u001b[0;32m     97\u001b[0m     \u001b[39mfor\u001b[39;00m connection \u001b[39min\u001b[39;00m system\u001b[39m.\u001b[39mconnnections:\n\u001b[0;32m     98\u001b[0m         modelName \u001b[39m=\u001b[39m connection[\u001b[39m'\u001b[39m\u001b[39msrc\u001b[39m\u001b[39m'\u001b[39m]\u001b[39m.\u001b[39mmodel\u001b[39m.\u001b[39mName\n",
      "File \u001b[1;32md:\\PhD_PC\\Git_folders\\dsl-orchestration\\Matlab_API.py:74\u001b[0m, in \u001b[0;36mSimulink.initialize_model\u001b[1;34m(self, values)\u001b[0m\n\u001b[0;32m     72\u001b[0m \u001b[39mprint\u001b[39m(\u001b[39m\"\u001b[39m\u001b[39mThe initial outputs for model \u001b[39m\u001b[39m{}\u001b[39;00m\u001b[39m are:\u001b[39m\u001b[39m\"\u001b[39m\u001b[39m.\u001b[39mformat(\u001b[39mself\u001b[39m\u001b[39m.\u001b[39mmodelName))\n\u001b[0;32m     73\u001b[0m \u001b[39mfor\u001b[39;00m output \u001b[39min\u001b[39;00m \u001b[39mself\u001b[39m\u001b[39m.\u001b[39moutputs:\n\u001b[1;32m---> 74\u001b[0m     val_output \u001b[39m=\u001b[39m \u001b[39mself\u001b[39;49m\u001b[39m.\u001b[39;49mget_output(output) \u001b[39m# how to change it?\u001b[39;00m\n\u001b[0;32m     75\u001b[0m     \u001b[39mprint\u001b[39m(\u001b[39m\"\u001b[39m\u001b[39m \u001b[39m\u001b[39m\"\u001b[39m \u001b[39m+\u001b[39m output \u001b[39m+\u001b[39m \u001b[39m'\u001b[39m\u001b[39m=\u001b[39m\u001b[39m'\u001b[39m \u001b[39m+\u001b[39m \u001b[39mstr\u001b[39m(val_output))\n\u001b[0;32m     77\u001b[0m \u001b[39m#Start Simulation and then Instantly pause\u001b[39;00m\n",
      "File \u001b[1;32md:\\PhD_PC\\Git_folders\\dsl-orchestration\\Matlab_API.py:89\u001b[0m, in \u001b[0;36mSimulink.get_output\u001b[1;34m(self, var_name)\u001b[0m\n\u001b[0;32m     87\u001b[0m \u001b[39mdef\u001b[39;00m \u001b[39mget_output\u001b[39m(\u001b[39mself\u001b[39m, var_name)\u001b[39m-\u001b[39m\u001b[39m>\u001b[39m\u001b[39many\u001b[39m:\n\u001b[0;32m     88\u001b[0m     name \u001b[39m=\u001b[39m \u001b[39mstr\u001b[39m(var_name)\n\u001b[1;32m---> 89\u001b[0m     \u001b[39mreturn\u001b[39;00m \u001b[39mself\u001b[39;49m\u001b[39m.\u001b[39;49meng\u001b[39m.\u001b[39;49mworkspace[name]\n",
      "File \u001b[1;32mC:\\Program Files\\MATLAB\\R2022b\\extern\\engines\\python\\build\\lib\\matlab\\engine\\matlabengine.py:120\u001b[0m, in \u001b[0;36mMatlabWorkSpace.__getitem__\u001b[1;34m(self, attr)\u001b[0m\n\u001b[0;32m    118\u001b[0m \u001b[39mself\u001b[39m\u001b[39m.\u001b[39m__validate_identity(attr)\n\u001b[0;32m    119\u001b[0m _method\u001b[39m=\u001b[39mMatlabFunc(\u001b[39mself\u001b[39m\u001b[39m.\u001b[39m_engine(), \u001b[39m\"\u001b[39m\u001b[39mmatlab.internal.engine.getVariable\u001b[39m\u001b[39m\"\u001b[39m)\n\u001b[1;32m--> 120\u001b[0m future \u001b[39m=\u001b[39m _method(attr)\n\u001b[0;32m    121\u001b[0m \u001b[39mreturn\u001b[39;00m future\n",
      "File \u001b[1;32mC:\\Program Files\\MATLAB\\R2022b\\extern\\engines\\python\\build\\lib\\matlab\\engine\\matlabengine.py:71\u001b[0m, in \u001b[0;36mMatlabFunc.__call__\u001b[1;34m(self, *args, **kwargs)\u001b[0m\n\u001b[0;32m     68\u001b[0m     \u001b[39mreturn\u001b[39;00m FutureResult(\u001b[39mself\u001b[39m\u001b[39m.\u001b[39m_engine(), future, nargs, _stdout, _stderr, feval\u001b[39m=\u001b[39m\u001b[39mTrue\u001b[39;00m)\n\u001b[0;32m     69\u001b[0m \u001b[39melse\u001b[39;00m:\n\u001b[0;32m     70\u001b[0m     \u001b[39mreturn\u001b[39;00m FutureResult(\u001b[39mself\u001b[39;49m\u001b[39m.\u001b[39;49m_engine(), future, nargs, _stdout,\n\u001b[1;32m---> 71\u001b[0m                         _stderr, feval\u001b[39m=\u001b[39;49m\u001b[39mTrue\u001b[39;49;00m)\u001b[39m.\u001b[39;49mresult()\n",
      "File \u001b[1;32mC:\\Program Files\\MATLAB\\R2022b\\extern\\engines\\python\\build\\lib\\matlab\\engine\\futureresult.py:67\u001b[0m, in \u001b[0;36mFutureResult.result\u001b[1;34m(self, timeout)\u001b[0m\n\u001b[0;32m     64\u001b[0m     \u001b[39mif\u001b[39;00m timeout \u001b[39m<\u001b[39m \u001b[39m0\u001b[39m:\n\u001b[0;32m     65\u001b[0m         \u001b[39mraise\u001b[39;00m \u001b[39mTypeError\u001b[39;00m(pythonengine\u001b[39m.\u001b[39mgetMessage(\u001b[39m'\u001b[39m\u001b[39mTimeoutCannotBeNegative\u001b[39m\u001b[39m'\u001b[39m))\n\u001b[1;32m---> 67\u001b[0m \u001b[39mreturn\u001b[39;00m \u001b[39mself\u001b[39;49m\u001b[39m.\u001b[39;49m__future\u001b[39m.\u001b[39;49mresult(timeout)\n",
      "File \u001b[1;32mC:\\Program Files\\MATLAB\\R2022b\\extern\\engines\\python\\build\\lib\\matlab\\engine\\fevalfuture.py:82\u001b[0m, in \u001b[0;36mFevalFuture.result\u001b[1;34m(self, timeout)\u001b[0m\n\u001b[0;32m     79\u001b[0m \u001b[39mif\u001b[39;00m \u001b[39mnot\u001b[39;00m result_ready:\n\u001b[0;32m     80\u001b[0m     \u001b[39mraise\u001b[39;00m \u001b[39mTimeoutError\u001b[39;00m(pythonengine\u001b[39m.\u001b[39mgetMessage(\u001b[39m'\u001b[39m\u001b[39mMatlabFunctionTimeout\u001b[39m\u001b[39m'\u001b[39m))\n\u001b[1;32m---> 82\u001b[0m \u001b[39mself\u001b[39m\u001b[39m.\u001b[39m_result \u001b[39m=\u001b[39m pythonengine\u001b[39m.\u001b[39;49mgetFEvalResult(\u001b[39mself\u001b[39;49m\u001b[39m.\u001b[39;49m_future,\u001b[39mself\u001b[39;49m\u001b[39m.\u001b[39;49m_nargout, \u001b[39mNone\u001b[39;49;00m, out\u001b[39m=\u001b[39;49m\u001b[39mself\u001b[39;49m\u001b[39m.\u001b[39;49m_out, err\u001b[39m=\u001b[39;49m\u001b[39mself\u001b[39;49m\u001b[39m.\u001b[39;49m_err)\n\u001b[0;32m     83\u001b[0m \u001b[39mself\u001b[39m\u001b[39m.\u001b[39m_retrieved \u001b[39m=\u001b[39m \u001b[39mTrue\u001b[39;00m\n\u001b[0;32m     84\u001b[0m \u001b[39mreturn\u001b[39;00m \u001b[39mself\u001b[39m\u001b[39m.\u001b[39m_result\n",
      "\u001b[1;31mMatlabExecutionError\u001b[0m: \n  File C:\\Program Files\\MATLAB\\R2022b\\toolbox\\matlab\\external\\engines\\engine_api\\+matlab\\+internal\\+engine\\getVariable.m, line 27, in getVariable\nUndefined variable 'temp_out'.\n"
     ]
    }
   ],
   "source": [
    "exe.continous(models =[model_simulink,py_model_encap],time_end = 30, system = system)"
   ]
  },
  {
   "cell_type": "code",
   "execution_count": null,
   "metadata": {},
   "outputs": [],
   "source": [
    "directory = os.getcwd() + '\\\\' + 'Matlab_models'\n",
    "#directory = os.getcwd()\n",
    "print (directory)\n",
    "model_name_original = 'Gain_model'\n",
    "model = Matlab_API.Simulink(modelName = model_name_original, directory = directory)\n",
    "model.interface_gen()\n"
   ]
  },
  {
   "cell_type": "code",
   "execution_count": null,
   "metadata": {},
   "outputs": [],
   "source": [
    "model_py = py_units_model.UnitChange(temperature=40,mass = 4000,volume = 50, time = 10)\n",
    "print(model_py)\n",
    "model_py.unit_transform()\n",
    "model_py.step_increase()\n",
    "print(model_py)\n",
    "# model_py.set_input(50,10000,100,1)\n",
    "# outputs = model_py.get_output()\n",
    "# print(model_py)\n",
    "# print(outputs)"
   ]
  },
  {
   "cell_type": "code",
   "execution_count": null,
   "metadata": {},
   "outputs": [],
   "source": [
    "Inspector = py_model_encap.Model_wrapper(model_py,directory=os.getcwd())\n",
    "methods = Inspector.extract()\n",
    "print(methods)\n",
    "\n",
    "print(Inspector.attributes)\n",
    "print(Inspector.methods)\n",
    "#Inspector.portDefinition()\n"
   ]
  },
  {
   "cell_type": "code",
   "execution_count": null,
   "metadata": {},
   "outputs": [],
   "source": [
    "Inspector.portDefinition(['temp_in', 'mass_in', 'vol_in', 'time'],['temp_out', 'mass_out', 'vol_out'])\n",
    "print(Inspector.inputs)"
   ]
  },
  {
   "cell_type": "code",
   "execution_count": null,
   "metadata": {},
   "outputs": [],
   "source": [
    "print(model_py.__getattribute__('temp_in'))\n",
    "model_py.__setattr__('vol_in',80)\n",
    "print(model_py.vol_in)\n",
    "print(model_py)\n",
    "module = getattr(model_py,'step_increase')\n",
    "module()\n",
    "print(model_py)\n"
   ]
  },
  {
   "cell_type": "code",
   "execution_count": null,
   "metadata": {},
   "outputs": [],
   "source": []
  },
  {
   "cell_type": "code",
   "execution_count": null,
   "metadata": {},
   "outputs": [],
   "source": [
    "model_name_2 = 'Time_model'\n",
    "model2 = Matlab_API.simulink(model_name_2,directory)\n",
    "model2.interface_gen()"
   ]
  },
  {
   "cell_type": "code",
   "execution_count": null,
   "metadata": {},
   "outputs": [],
   "source": [
    "system = intercomm_def.intercomm([model,model2])\n",
    "print(system)"
   ]
  },
  {
   "cell_type": "code",
   "execution_count": null,
   "metadata": {},
   "outputs": [],
   "source": [
    "system.port_detect()"
   ]
  },
  {
   "cell_type": "code",
   "execution_count": null,
   "metadata": {},
   "outputs": [],
   "source": [
    "print(model.inputs)\n",
    "print(model.outputs)\n",
    "print(model2.inputs)\n",
    "print(model2.outputs)\n",
    "print(system.ports.keys())\n",
    "print(system.ports.get(\"Gain_model:In1\"))\n",
    "print(system.ports[\"Gain_model:gas_in\"])"
   ]
  },
  {
   "cell_type": "code",
   "execution_count": null,
   "metadata": {},
   "outputs": [],
   "source": [
    "\n",
    "system.def_connection(system.ports[\"Gain_model:temp_out\"],system.ports[\"Time_model:data1\"])\n",
    "system.def_connection(system.ports[\"Gain_model:gas_in\"],system.ports[\"Time_model:data1\"])"
   ]
  },
  {
   "cell_type": "code",
   "execution_count": null,
   "metadata": {},
   "outputs": [],
   "source": [
    "system.def_connection(system.ports[\"Gain_model:Out1\"],system.ports[\"Time_model:data1\"])"
   ]
  }
 ],
 "metadata": {
  "kernelspec": {
   "display_name": "env_api",
   "language": "python",
   "name": "python3"
  },
  "language_info": {
   "codemirror_mode": {
    "name": "ipython",
    "version": 3
   },
   "file_extension": ".py",
   "mimetype": "text/x-python",
   "name": "python",
   "nbconvert_exporter": "python",
   "pygments_lexer": "ipython3",
   "version": "3.10.9"
  },
  "orig_nbformat": 4
 },
 "nbformat": 4,
 "nbformat_minor": 2
}
