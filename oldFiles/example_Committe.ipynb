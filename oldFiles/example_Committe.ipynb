{
 "cells": [
  {
   "cell_type": "code",
   "execution_count": 2,
   "metadata": {},
   "outputs": [],
   "source": [
    "import Matlab_API\n",
    "import localInterface_gen\n",
    "import intercomm_def \n",
    "import os\n",
    "import py_units_model\n",
    "import pyModelEncap"
   ]
  },
  {
   "cell_type": "code",
   "execution_count": 4,
   "metadata": {},
   "outputs": [
    {
     "name": "stdout",
     "output_type": "stream",
     "text": [
      "Data of the class has been extracted\n",
      "{'ports': ['temp_in', 'mass_in', 'vol_in', 'time', 'temp_out', 'mass_out', 'vol_out'], 'methods': ['step_increase', 'unit_transform']}\n",
      "Inputs and outputs have been defined for this model\n"
     ]
    },
    {
     "data": {
      "text/plain": [
       "{'inputs': '[temp_in, mass_in, vol_in]',\n",
       " 'outputs': '[time,temp_out,mass_out,vol_out]'}"
      ]
     },
     "execution_count": 4,
     "metadata": {},
     "output_type": "execute_result"
    }
   ],
   "source": [
    "model_py = py_units_model.UnitChange(temperature=32,mass = 1000,volume = 20, time = 1)\n",
    "py_model_encap = pyModelEncap.Model_wrapper(model_py,directory=os.getcwd(),modelName = \"UnitChange\")\n",
    "class_data = py_model_encap.extract()\n",
    "print(class_data)\n",
    "# py_model_encap.portDefinition(['temp_in', 'mass_in', 'vol_in', 'time'],['temp_out', 'mass_out', 'vol_out'])\n",
    "py_model_encap.portDefinition()"
   ]
  },
  {
   "attachments": {},
   "cell_type": "markdown",
   "metadata": {},
   "source": [
    "# This is the example for User committe ###"
   ]
  },
  {
   "attachments": {},
   "cell_type": "markdown",
   "metadata": {},
   "source": [
    "#### Define the encapsulation of each components, in each model:\n",
    "- Simulink\n",
    "- Python"
   ]
  },
  {
   "cell_type": "code",
   "execution_count": 2,
   "metadata": {},
   "outputs": [
    {
     "name": "stdout",
     "output_type": "stream",
     "text": [
      "original file path and name:d:\\Git_folders\\projects_app\\dsl-orchestration\\Matlab_models\\Gain_model.slx\n",
      "new folder:d:\\Git_folders\\projects_app\\dsl-orchestration\\Matlab_models\\Gain_model\n",
      "unzipped file from matlab\n",
      "\n",
      "\n",
      "d:\\Git_folders\\projects_app\\dsl-orchestration\\Matlab_models\\Gain_model\\simulink\\graphicalInterface.xml\n",
      "Data for input, outputs and its connections collected\n",
      "\n",
      "\n",
      "Model:Gain_model.slx copied as Gain_model_wI.slx in folder:d:\\Git_folders\\projects_app\\dsl-orchestration\\Matlab_models\n",
      "\n",
      "\n",
      "file Gain_model_wI_func.m created\n",
      "\n",
      "\n",
      "Starting matlab\n",
      "Connected to Matlab\n",
      "Model Gain_model_wI loaded\n",
      "model Gain_model_wI has been changed with a new block named interface\n",
      "ModelGain_model_wI has been saved\n",
      "simulink model is closed\n",
      "Data of the class has been extracted\n",
      "Inputs and outputs have been defined for this model\n"
     ]
    },
    {
     "data": {
      "text/plain": [
       "{'inputs': ['temp_in', 'mass_in', 'vol_in', 'time'],\n",
       " 'outputs': ['temp_out', 'mass_out', 'vol_out']}"
      ]
     },
     "execution_count": 2,
     "metadata": {},
     "output_type": "execute_result"
    }
   ],
   "source": [
    "#example\n",
    "#simulink model\n",
    "dir_simulink = os.getcwd() + '\\\\' + 'Matlab_models'\n",
    "model_name_original = 'Gain_model'\n",
    "model_simulink = Matlab_API.Simulink(modelName = model_name_original, directory = dir_simulink)\n",
    "model_simulink.interface_gen()\n",
    "\n",
    "#python model\n",
    "model_py = py_units_model.UnitChange(temperature=32,mass = 1000,volume = 20, time = 1)\n",
    "py_model_encap = pyModelEncap.Model_wrapper(model_py,directory=os.getcwd(),modelName = \"UnitChange\")\n",
    "class_data = py_model_encap.extract()\n",
    "py_model_encap.portDefinition(['temp_in', 'mass_in', 'vol_in', 'time'],['temp_out', 'mass_out', 'vol_out'])"
   ]
  },
  {
   "cell_type": "code",
   "execution_count": 3,
   "metadata": {},
   "outputs": [
    {
     "name": "stdout",
     "output_type": "stream",
     "text": [
      "Model Gain_model_wI loaded\n",
      "Initialized Model\n",
      "The initial inputs for model Gain_model_wI are:\n",
      " temp_in=0\n",
      " mass_in=0\n",
      " vol_in=0\n",
      "stopped\n",
      "paused\n",
      "The initial outputs for model Gain_model are:\n",
      " temp_out=32.0\n",
      " mass_out=0.0\n",
      " vol_out=0.0\n",
      " time_out=0.0\n",
      "paused\n"
     ]
    }
   ],
   "source": [
    "# model_simulink = Matlab_API.Simulink(modelName = model_name_original, directory = dir_simulink)\n",
    "model_simulink.load_model('Gain_model_wI')\n",
    "model_simulink.initialize_model()"
   ]
  },
  {
   "cell_type": "code",
   "execution_count": 12,
   "metadata": {},
   "outputs": [
    {
     "ename": "MatlabExecutionError",
     "evalue": "Invalid Simulink object name: 'Gain_model_wI'.\n",
     "output_type": "error",
     "traceback": [
      "\u001b[1;31m---------------------------------------------------------------------------\u001b[0m",
      "\u001b[1;31mMatlabExecutionError\u001b[0m                      Traceback (most recent call last)",
      "Cell \u001b[1;32mIn[12], line 1\u001b[0m\n\u001b[1;32m----> 1\u001b[0m \u001b[38;5;28mprint\u001b[39m(\u001b[43mmodel_simulink\u001b[49m\u001b[38;5;241;43m.\u001b[39;49m\u001b[43meng\u001b[49m\u001b[38;5;241;43m.\u001b[39;49m\u001b[43mget_param\u001b[49m\u001b[43m(\u001b[49m\u001b[38;5;124;43m\"\u001b[39;49m\u001b[38;5;124;43mGain_model_wI\u001b[39;49m\u001b[38;5;124;43m\"\u001b[39;49m\u001b[43m,\u001b[49m\u001b[38;5;124;43m'\u001b[39;49m\u001b[38;5;124;43mSimulationStatus\u001b[39;49m\u001b[38;5;124;43m'\u001b[39;49m\u001b[43m)\u001b[49m)\n",
      "File \u001b[1;32m~\\AppData\\Local\\Packages\\PythonSoftwareFoundation.Python.3.11_qbz5n2kfra8p0\\LocalCache\\local-packages\\Python311\\site-packages\\matlab\\engine\\matlabengine.py:71\u001b[0m, in \u001b[0;36mMatlabFunc.__call__\u001b[1;34m(self, *args, **kwargs)\u001b[0m\n\u001b[0;32m     68\u001b[0m     \u001b[38;5;28;01mreturn\u001b[39;00m FutureResult(\u001b[38;5;28mself\u001b[39m\u001b[38;5;241m.\u001b[39m_engine(), future, nargs, _stdout, _stderr, feval\u001b[38;5;241m=\u001b[39m\u001b[38;5;28;01mTrue\u001b[39;00m)\n\u001b[0;32m     69\u001b[0m \u001b[38;5;28;01melse\u001b[39;00m:\n\u001b[0;32m     70\u001b[0m     \u001b[38;5;28;01mreturn\u001b[39;00m \u001b[43mFutureResult\u001b[49m\u001b[43m(\u001b[49m\u001b[38;5;28;43mself\u001b[39;49m\u001b[38;5;241;43m.\u001b[39;49m\u001b[43m_engine\u001b[49m\u001b[43m(\u001b[49m\u001b[43m)\u001b[49m\u001b[43m,\u001b[49m\u001b[43m \u001b[49m\u001b[43mfuture\u001b[49m\u001b[43m,\u001b[49m\u001b[43m \u001b[49m\u001b[43mnargs\u001b[49m\u001b[43m,\u001b[49m\u001b[43m \u001b[49m\u001b[43m_stdout\u001b[49m\u001b[43m,\u001b[49m\n\u001b[1;32m---> 71\u001b[0m \u001b[43m                        \u001b[49m\u001b[43m_stderr\u001b[49m\u001b[43m,\u001b[49m\u001b[43m \u001b[49m\u001b[43mfeval\u001b[49m\u001b[38;5;241;43m=\u001b[39;49m\u001b[38;5;28;43;01mTrue\u001b[39;49;00m\u001b[43m)\u001b[49m\u001b[38;5;241;43m.\u001b[39;49m\u001b[43mresult\u001b[49m\u001b[43m(\u001b[49m\u001b[43m)\u001b[49m\n",
      "File \u001b[1;32m~\\AppData\\Local\\Packages\\PythonSoftwareFoundation.Python.3.11_qbz5n2kfra8p0\\LocalCache\\local-packages\\Python311\\site-packages\\matlab\\engine\\futureresult.py:67\u001b[0m, in \u001b[0;36mFutureResult.result\u001b[1;34m(self, timeout)\u001b[0m\n\u001b[0;32m     64\u001b[0m     \u001b[38;5;28;01mif\u001b[39;00m timeout \u001b[38;5;241m<\u001b[39m \u001b[38;5;241m0\u001b[39m:\n\u001b[0;32m     65\u001b[0m         \u001b[38;5;28;01mraise\u001b[39;00m \u001b[38;5;167;01mTypeError\u001b[39;00m(pythonengine\u001b[38;5;241m.\u001b[39mgetMessage(\u001b[38;5;124m'\u001b[39m\u001b[38;5;124mTimeoutCannotBeNegative\u001b[39m\u001b[38;5;124m'\u001b[39m))\n\u001b[1;32m---> 67\u001b[0m \u001b[38;5;28;01mreturn\u001b[39;00m \u001b[38;5;28;43mself\u001b[39;49m\u001b[38;5;241;43m.\u001b[39;49m\u001b[43m__future\u001b[49m\u001b[38;5;241;43m.\u001b[39;49m\u001b[43mresult\u001b[49m\u001b[43m(\u001b[49m\u001b[43mtimeout\u001b[49m\u001b[43m)\u001b[49m\n",
      "File \u001b[1;32m~\\AppData\\Local\\Packages\\PythonSoftwareFoundation.Python.3.11_qbz5n2kfra8p0\\LocalCache\\local-packages\\Python311\\site-packages\\matlab\\engine\\fevalfuture.py:82\u001b[0m, in \u001b[0;36mFevalFuture.result\u001b[1;34m(self, timeout)\u001b[0m\n\u001b[0;32m     79\u001b[0m \u001b[38;5;28;01mif\u001b[39;00m \u001b[38;5;129;01mnot\u001b[39;00m result_ready:\n\u001b[0;32m     80\u001b[0m     \u001b[38;5;28;01mraise\u001b[39;00m \u001b[38;5;167;01mTimeoutError\u001b[39;00m(pythonengine\u001b[38;5;241m.\u001b[39mgetMessage(\u001b[38;5;124m'\u001b[39m\u001b[38;5;124mMatlabFunctionTimeout\u001b[39m\u001b[38;5;124m'\u001b[39m))\n\u001b[1;32m---> 82\u001b[0m \u001b[38;5;28mself\u001b[39m\u001b[38;5;241m.\u001b[39m_result \u001b[38;5;241m=\u001b[39m \u001b[43mpythonengine\u001b[49m\u001b[38;5;241;43m.\u001b[39;49m\u001b[43mgetFEvalResult\u001b[49m\u001b[43m(\u001b[49m\u001b[38;5;28;43mself\u001b[39;49m\u001b[38;5;241;43m.\u001b[39;49m\u001b[43m_future\u001b[49m\u001b[43m,\u001b[49m\u001b[38;5;28;43mself\u001b[39;49m\u001b[38;5;241;43m.\u001b[39;49m\u001b[43m_nargout\u001b[49m\u001b[43m,\u001b[49m\u001b[43m \u001b[49m\u001b[38;5;28;43;01mNone\u001b[39;49;00m\u001b[43m,\u001b[49m\u001b[43m \u001b[49m\u001b[43mout\u001b[49m\u001b[38;5;241;43m=\u001b[39;49m\u001b[38;5;28;43mself\u001b[39;49m\u001b[38;5;241;43m.\u001b[39;49m\u001b[43m_out\u001b[49m\u001b[43m,\u001b[49m\u001b[43m \u001b[49m\u001b[43merr\u001b[49m\u001b[38;5;241;43m=\u001b[39;49m\u001b[38;5;28;43mself\u001b[39;49m\u001b[38;5;241;43m.\u001b[39;49m\u001b[43m_err\u001b[49m\u001b[43m)\u001b[49m\n\u001b[0;32m     83\u001b[0m \u001b[38;5;28mself\u001b[39m\u001b[38;5;241m.\u001b[39m_retrieved \u001b[38;5;241m=\u001b[39m \u001b[38;5;28;01mTrue\u001b[39;00m\n\u001b[0;32m     84\u001b[0m \u001b[38;5;28;01mreturn\u001b[39;00m \u001b[38;5;28mself\u001b[39m\u001b[38;5;241m.\u001b[39m_result\n",
      "\u001b[1;31mMatlabExecutionError\u001b[0m: Invalid Simulink object name: 'Gain_model_wI'.\n"
     ]
    }
   ],
   "source": [
    "print(model_simulink.eng.get_param(\"Gain_model_wI\",'SimulationStatus'))"
   ]
  },
  {
   "attachments": {},
   "cell_type": "markdown",
   "metadata": {},
   "source": [
    "### Define the system, which is compose of 2 models\n",
    "\n",
    "The function returns the existing ports in all the models"
   ]
  },
  {
   "cell_type": "code",
   "execution_count": 5,
   "metadata": {},
   "outputs": [
    {
     "name": "stdout",
     "output_type": "stream",
     "text": [
      "For Gain_model the detected ports are:\n",
      " Input port name Gain_model:temp_in\n",
      " Input port name Gain_model:mass_in\n",
      " Input port name Gain_model:vol_in\n",
      " Output port name Gain_model:temp_out\n",
      " Output port name Gain_model:mass_out\n",
      " Output port name Gain_model:vol_out\n",
      " Output port name Gain_model:time_out\n",
      "For UnitChange the detected ports are:\n",
      " Input port name UnitChange:temp_in\n",
      " Input port name UnitChange:mass_in\n",
      " Input port name UnitChange:vol_in\n",
      " Input port name UnitChange:time\n",
      " Output port name UnitChange:temp_out\n",
      " Output port name UnitChange:mass_out\n",
      " Output port name UnitChange:vol_out\n"
     ]
    }
   ],
   "source": [
    "#system definition\n",
    "system = intercomm_def.intercomm([model_simulink,py_model_encap])\n",
    "system.port_detect()\n"
   ]
  },
  {
   "attachments": {},
   "cell_type": "markdown",
   "metadata": {},
   "source": [
    "### Define the connections among all the ports \n",
    "\n",
    "Connections of Simulink model with Python model"
   ]
  },
  {
   "cell_type": "code",
   "execution_count": 6,
   "metadata": {},
   "outputs": [
    {
     "name": "stdout",
     "output_type": "stream",
     "text": [
      "Connection generated:UnitChange:temp_out->Gain_model:temp_in\n",
      "Connection generated:UnitChange:mass_out->Gain_model:mass_in\n",
      "Connection generated:UnitChange:vol_out->Gain_model:vol_in\n",
      "Connection generated:Gain_model:temp_out->UnitChange:temp_in\n",
      "Connection generated:Gain_model:mass_out->UnitChange:mass_in\n",
      "Connection generated:Gain_model:vol_out->UnitChange:vol_in\n",
      "Connection generated:Gain_model:time_out->UnitChange:time\n"
     ]
    }
   ],
   "source": [
    "system.def_connection(system.ports[\"UnitChange:temp_out\"],system.ports[\"Gain_model:temp_in\"])\n",
    "system.def_connection(system.ports[\"UnitChange:mass_out\"],system.ports[\"Gain_model:mass_in\"])\n",
    "system.def_connection(system.ports[\"UnitChange:vol_out\"],system.ports[\"Gain_model:vol_in\"])\n",
    "system.def_connection(system.ports[\"Gain_model:temp_out\"],system.ports[\"UnitChange:temp_in\"])\n",
    "system.def_connection(system.ports[\"Gain_model:mass_out\"],system.ports[\"UnitChange:mass_in\"])\n",
    "system.def_connection(system.ports[\"Gain_model:vol_out\"],system.ports[\"UnitChange:vol_in\"])\n",
    "system.def_connection(system.ports[\"Gain_model:time_out\"],system.ports[\"UnitChange:time\"])"
   ]
  },
  {
   "attachments": {},
   "cell_type": "markdown",
   "metadata": {},
   "source": [
    "### Define the execution of the models"
   ]
  },
  {
   "cell_type": "code",
   "execution_count": 7,
   "metadata": {},
   "outputs": [],
   "source": [
    "exe = intercomm_def.execution(models =[model_simulink,py_model_encap])"
   ]
  },
  {
   "attachments": {},
   "cell_type": "markdown",
   "metadata": {},
   "source": [
    "#### Define the execution to be continuos \n"
   ]
  },
  {
   "cell_type": "code",
   "execution_count": 8,
   "metadata": {},
   "outputs": [
    {
     "name": "stdout",
     "output_type": "stream",
     "text": [
      "Initialized Model\n",
      "The initial inputs for model Gain_model_wI are:\n",
      " temp_in=0\n",
      " mass_in=0\n",
      " vol_in=0\n",
      "paused\n",
      "paused\n",
      "The initial outputs for model Gain_model are:\n",
      " temp_out=32.0\n",
      " mass_out=0.0\n",
      " vol_out=0.0\n",
      " time_out=0.0\n",
      "paused\n",
      "For model Gain_model the output temp_out value is 32.0\n",
      "For model Gain_model the output mass_out value is 0.0\n",
      "For model Gain_model the output vol_out value is 0.0\n",
      "For model Gain_model the output time_out value is 0.0\n",
      "paused\n",
      "For model UnitChange the output temp_out value is 0.9999999999999984\n",
      "For model UnitChange the output mass_out value is 1.0\n",
      "For model UnitChange the output vol_out value is 0.9907529722589168\n",
      "For model Gain_model the output temp_out value is 33.8\n",
      "For model Gain_model the output mass_out value is 1000.0\n",
      "For model Gain_model the output vol_out value is 3.75\n",
      "For model Gain_model the output time_out value is 1.0\n",
      "\n",
      "\n",
      "For model UnitChange the output temp_out value is 1.999999999999997\n",
      "For model UnitChange the output mass_out value is 2.0\n",
      "For model UnitChange the output vol_out value is 1.9815059445178336\n",
      "For model Gain_model the output temp_out value is 33.8\n",
      "For model Gain_model the output mass_out value is 1000.0\n",
      "For model Gain_model the output vol_out value is 3.75\n",
      "For model Gain_model the output time_out value is 2.0\n",
      "\n",
      "\n",
      "For model UnitChange the output temp_out value is 1.999999999999997\n",
      "For model UnitChange the output mass_out value is 2.0\n",
      "For model UnitChange the output vol_out value is 1.9815059445178336\n",
      "For model Gain_model the output temp_out value is 35.599999999999994\n",
      "For model Gain_model the output mass_out value is 2000.0\n",
      "For model Gain_model the output vol_out value is 7.5\n",
      "For model Gain_model the output time_out value is 3.0\n",
      "\n",
      "\n",
      "For model UnitChange the output temp_out value is 2.999999999999995\n",
      "For model UnitChange the output mass_out value is 3.0\n",
      "For model UnitChange the output vol_out value is 2.97225891677675\n",
      "For model Gain_model the output temp_out value is 35.599999999999994\n",
      "For model Gain_model the output mass_out value is 2000.0\n",
      "For model Gain_model the output vol_out value is 7.5\n",
      "For model Gain_model the output time_out value is 4.0\n",
      "\n",
      "\n",
      "For model UnitChange the output temp_out value is 2.999999999999995\n",
      "For model UnitChange the output mass_out value is 3.0\n",
      "For model UnitChange the output vol_out value is 2.97225891677675\n",
      "For model Gain_model the output temp_out value is 37.39999999999999\n",
      "For model Gain_model the output mass_out value is 3000.0\n",
      "For model Gain_model the output vol_out value is 11.25\n",
      "For model Gain_model the output time_out value is 5.0\n",
      "\n",
      "\n",
      "For model UnitChange the output temp_out value is 3.999999999999994\n",
      "For model UnitChange the output mass_out value is 4.0\n",
      "For model UnitChange the output vol_out value is 3.963011889035667\n",
      "For model Gain_model the output temp_out value is 37.39999999999999\n",
      "For model Gain_model the output mass_out value is 3000.0\n",
      "For model Gain_model the output vol_out value is 11.25\n",
      "For model Gain_model the output time_out value is 6.0\n",
      "\n",
      "\n"
     ]
    }
   ],
   "source": [
    "exe.continous(models =[model_simulink,py_model_encap],time_end = 30, system = system)"
   ]
  },
  {
   "attachments": {},
   "cell_type": "markdown",
   "metadata": {},
   "source": [
    "### Extract the final result of the models"
   ]
  },
  {
   "cell_type": "code",
   "execution_count": 9,
   "metadata": {},
   "outputs": [
    {
     "name": "stdout",
     "output_type": "stream",
     "text": [
      "temp_in=37.39999999999999\n",
      "mass_in=3000.0\n",
      "vol_in=11.25\n",
      "time=6.0\n",
      "temp_out=3.999999999999994\n",
      "mass_out=4.0\n",
      "vol_out=3.963011889035667\n",
      "\n",
      "\n",
      "temp_in=3.999999999999994\n",
      "mass_in=4.0\n",
      "vol_in=3.963011889035667\n",
      "temp_out=37.39999999999999\n",
      "mass_out=3000.0\n",
      "vol_out=11.25\n",
      "time_out=6.0\n"
     ]
    }
   ],
   "source": [
    "#End values in each model\n",
    "#Python model\n",
    "for attr in py_model_encap.attributes:\n",
    "    print(attr + \"=\" + str(py_model_encap.get_output(attr)))\n",
    "print('\\n')\n",
    "#Simulink model\n",
    "for input in model_simulink.inputs:\n",
    "    print(input + \"=\" + str(model_simulink.get_output(input)))\n",
    "for output in model_simulink.outputs:\n",
    "    print(output + \"=\" + str(model_simulink.get_output(output)))\n",
    "\n"
   ]
  },
  {
   "cell_type": "code",
   "execution_count": null,
   "metadata": {},
   "outputs": [],
   "source": [
    "#Simulink model\n",
    "for input in model_simulink.inputs:\n",
    "    print(input + \"=\" + str(model_simulink.get_output(input)))\n",
    "for output in model_simulink.outputs:\n",
    "    print(output + \"=\" + str(model_simulink.get_output(output)))"
   ]
  }
 ],
 "metadata": {
  "kernelspec": {
   "display_name": "Python 3",
   "language": "python",
   "name": "python3"
  },
  "language_info": {
   "codemirror_mode": {
    "name": "ipython",
    "version": 3
   },
   "file_extension": ".py",
   "mimetype": "text/x-python",
   "name": "python",
   "nbconvert_exporter": "python",
   "pygments_lexer": "ipython3",
   "version": "3.11.9"
  },
  "orig_nbformat": 4
 },
 "nbformat": 4,
 "nbformat_minor": 2
}
