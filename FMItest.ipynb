{
 "cells": [
  {
   "cell_type": "code",
   "execution_count": 1,
   "metadata": {},
   "outputs": [
    {
     "name": "stdout",
     "output_type": "stream",
     "text": [
      "d:\\Git_folders\\projects_app\\dsl-orchestration\n",
      "d:\\Git_folders\\projects_app\\dsl-orchestration\n",
      "d:\\Git_folders\\projects_app\\dsl-orchestration\n",
      "d:\\Git_folders\\projects_app\n",
      "d:\\Git_folders\\projects_app\\dsl-orchestration\n",
      "d:\\Git_folders\\projects_app\\dsl-orchestration\n"
     ]
    }
   ],
   "source": [
    "#to return to current directory\n",
    "import os\n",
    "import sys\n",
    "directory =  os.getcwd()\n",
    "print(directory)\n",
    "abspath = os.path.abspath(sys.path[0])\n",
    "print(abspath)\n",
    "print(os.getcwd())\n",
    "dname = os.path.dirname(abspath)\n",
    "print(dname)\n",
    "print(os.getcwd())\n",
    "os.chdir(abspath)\n",
    "print(os.getcwd())"
   ]
  },
  {
   "cell_type": "code",
   "execution_count": 2,
   "metadata": {},
   "outputs": [
    {
     "name": "stdout",
     "output_type": "stream",
     "text": [
      "d:\\Git_folders\\projects_app\\dsl-orchestration\\Models\\MassSpringMod.fmu\n"
     ]
    }
   ],
   "source": [
    "#example of creating a FMuu model iterface\n",
    "from API import FMUAPI\n",
    "import os\n",
    "directory  =  os.getcwd() + '\\\\' + 'Models'\n",
    "spring = FMUAPI.FMU(modelName='MassSpringMod', directory=directory)\n",
    "print(spring.modelpointer)"
   ]
  },
  {
   "cell_type": "code",
   "execution_count": null,
   "metadata": {},
   "outputs": [],
   "source": [
    "spring.get_info('Variables',printInfo=False)"
   ]
  },
  {
   "cell_type": "code",
   "execution_count": 3,
   "metadata": {},
   "outputs": [
    {
     "name": "stdout",
     "output_type": "stream",
     "text": [
      "Failed to get parameter 'mass': 'str' object has no attribute 'getReal'\n",
      "None\n"
     ]
    }
   ],
   "source": [
    "inputs = ['Force']\n",
    "outputs = ['DisplacementOutput']\n",
    "parameters = ['dampingCoefficient','mass','springConstant']\n",
    "spring.variablesDef(inputNames=inputs, outputNames=outputs, paramNames=parameters)\n",
    "\n",
    "value = spring.get_param(var_name='mass')\n",
    "print(value)\n",
    "\n",
    "spring.load_model()\n",
    "spring.initialize_model()"
   ]
  },
  {
   "cell_type": "code",
   "execution_count": null,
   "metadata": {},
   "outputs": [],
   "source": [
    "value = spring.get_param(var_name='mass')\n",
    "print(value)\n",
    "spring.set_parameter(name = 'mass', value = 10)\n",
    "value = spring.get_param(var_name='mass')\n",
    "print(value)"
   ]
  },
  {
   "cell_type": "code",
   "execution_count": null,
   "metadata": {},
   "outputs": [],
   "source": [
    "spring.get_info('Variables')"
   ]
  },
  {
   "cell_type": "code",
   "execution_count": 17,
   "metadata": {},
   "outputs": [
    {
     "name": "stdout",
     "output_type": "stream",
     "text": [
      "mass\n",
      "10.0\n",
      "mass\n",
      "15.0\n"
     ]
    }
   ],
   "source": [
    "param = {\"mass\":15}\n",
    "# param = {\"mass\":15,'dampingCoefficient':-101,'springConstant':-15}\n",
    "\n",
    "for name,val in param.items():\n",
    "    print(name)\n",
    "    print(spring.get_param(var_name=name))\n",
    "\n",
    "for name, val in param.items():\n",
    "    spring.set_parameter(name=name,value=val)\n",
    "\n",
    "for name,val in param.items():\n",
    "    print(name)\n",
    "    print(spring.get_param(var_name=name))"
   ]
  },
  {
   "cell_type": "code",
   "execution_count": null,
   "metadata": {},
   "outputs": [],
   "source": [
    "spring.get_info('Variables').causality"
   ]
  },
  {
   "cell_type": "code",
   "execution_count": null,
   "metadata": {},
   "outputs": [],
   "source": [
    "import fmpy\n",
    "modelName='MassSpringMod'\n",
    "model_pointer = os.getcwd() + '\\\\' + 'Models' + '\\\\' +  modelName + '.fmu'\n",
    "unzipdir = fmpy.extract(model_pointer)\n",
    "model_des = fmpy.read_model_description(model_pointer)\n",
    "print(model_des.guid)\n",
    "print(unzipdir)\n",
    "print(model_des.coSimulation.modelIdentifier)\n",
    "exe_model = fmpy.fmi2.FMU2Slave(guid=model_des.guid,\n",
    "                unzipDirectory=unzipdir,\n",
    "                modelIdentifier=model_des.coSimulation.modelIdentifier,\n",
    "                instanceName='instanceName')"
   ]
  },
  {
   "cell_type": "code",
   "execution_count": null,
   "metadata": {},
   "outputs": [],
   "source": [
    "inputs = ['Force']\n",
    "outputs = ['DisplacementOutput']\n",
    "parameters = ['dampingCoefficient', 'mass','springConstant']\n",
    "spring.variablesDef(inputNames=inputs, outputNames=outputs, paramNames=parameters)"
   ]
  },
  {
   "cell_type": "code",
   "execution_count": null,
   "metadata": {},
   "outputs": [],
   "source": [
    "spring.load_model()"
   ]
  },
  {
   "cell_type": "code",
   "execution_count": null,
   "metadata": {},
   "outputs": [],
   "source": [
    "spring.get_info(printInfo=False)\n",
    "variables = spring.get_info(infoType='Variables', printInfo=False)\n",
    "for var in variables:\n",
    "    print(var)"
   ]
  },
  {
   "cell_type": "code",
   "execution_count": null,
   "metadata": {},
   "outputs": [],
   "source": [
    "from API import FMUAPI\n",
    "import os\n",
    "model_name = 'CoupledClutches'\n",
    "directory  = os.getcwd() + '\\\\' + 'Models' \n",
    "fmu_demo =  FMUAPI.FMU(modelName='CoupledClutches', directory=directory)\n",
    "print(fmu_demo.modelpointer)\n",
    "info = fmu_demo.get_info(infoType='Variables',printInfo=False)\n",
    "# # print(len(info))\n",
    "# names = []\n",
    "# for data in info:\n",
    "#     names.append(data.name)\n",
    "#     # print(data.name)\n",
    "# print(names)\n",
    "# inputs = ['engineSpeed', 'throttleAngle', 'fuel']\n",
    "# outputs = ['o2_out', 'MAP', 'air_fuelRatio']\n",
    "# params = ['Atm', 'SonicFlow', 'p0']\n",
    "\n",
    "# variabels = fmu_demo.variablesDef(inputs,outputs,params)\n",
    "# print(fmu_demo.inputNames)\n",
    "# print(fmu_demo.paramRef)\n",
    "\n"
   ]
  },
  {
   "cell_type": "code",
   "execution_count": null,
   "metadata": {},
   "outputs": [],
   "source": [
    "from API import FMUAPI\n",
    "import os\n",
    "model_name = 'fmudemo_export_fuelsys_plant'\n",
    "directory  = os.getcwd() + '\\\\' + 'Models' \n",
    "fmu_demo =  FMUAPI.FMU(modelName=model_name, directory=directory)\n",
    "info = fmu_demo.get_info(infoType='Variables',printInfo=True)"
   ]
  },
  {
   "cell_type": "code",
   "execution_count": null,
   "metadata": {},
   "outputs": [],
   "source": [
    "import fmpy\n",
    "model_name = 'fmudemo_export_fuelsys_plant'\n",
    "directory  = os.getcwd() + '\\\\' + 'Models'  \n",
    "model_pointer = directory + '\\\\' + model_name + '.fmu'\n",
    "model_description = fmpy.read_model_description(model_pointer)\n",
    "print((model_description.defaultExperiment))\n",
    "print((model_description.defaultExperiment.stopTime))\n",
    "print((model_description.defaultExperiment.stepSize))\n",
    "print((model_description.defaultExperiment.startTime))\n",
    "# for "
   ]
  },
  {
   "cell_type": "code",
   "execution_count": null,
   "metadata": {},
   "outputs": [],
   "source": [
    "unzipdir = fmpy.extract(model_pointer)\n",
    "model_des = fmpy.read_model_description(model_pointer)\n",
    "print(model_des.guid)\n",
    "print(unzipdir)\n",
    "print(model_des.coSimulation.modelIdentifier)\n",
    "exe_model = fmpy.fmi2.FMU2Slave(guid=model_des.guid,\n",
    "                unzipDirectory=unzipdir,\n",
    "                modelIdentifier=model_des.coSimulation.modelIdentifier,\n",
    "                instanceName='instanceName')\n"
   ]
  },
  {
   "cell_type": "code",
   "execution_count": null,
   "metadata": {},
   "outputs": [],
   "source": []
  },
  {
   "cell_type": "code",
   "execution_count": 8,
   "metadata": {},
   "outputs": [],
   "source": [
    "import fmpy\n",
    "import os\n",
    "# import fmpy.until\n",
    "fmu_filename = 'CoupledClutches.fmu'\n",
    "# fmpy.util.download_test_file('2.0', 'CoSimulation', 'MapleSim', '2016.2', 'CoupledClutches', fmu_filename)"
   ]
  },
  {
   "cell_type": "code",
   "execution_count": 1,
   "metadata": {},
   "outputs": [],
   "source": [
    "import API.FMUAPI as API\n",
    "import os\n",
    "model_name = 'fmudemo_export_fuelsys_plant'\n",
    "directory = os.getcwd() + '\\\\' + 'Models' \n",
    "inputs = ['engineSpeed', 'throttleAngle', 'fuel']\n",
    "outputs = ['o2_out', 'MAP', 'air_fuelRatio']\n",
    "params = ['Atm', 'SonicFlow', 'p0']\n",
    "\n",
    "# FMU_model = API.FMU(modelName=model_name, directory=directory, \n",
    "#                      inputNames=inputs, outputNames=outputs, parameterNames=params )\n",
    "FMU_model = API.FMU(modelName=model_name, directory=directory)\n"
   ]
  },
  {
   "cell_type": "code",
   "execution_count": null,
   "metadata": {},
   "outputs": [],
   "source": [
    "# FMU_model.get_info()\n",
    "FMU_model.load_model()\n",
    "FMU_model.initialize_model()\n",
    "# time = 0\n",
    "# val = [0.0 if time < 0.9 else 1.0]\n",
    "# print(val)\n",
    "FMU_model.variablesDef( inputNames=inputs, outputNames=outputs, paramNames=params)"
   ]
  },
  {
   "cell_type": "code",
   "execution_count": null,
   "metadata": {},
   "outputs": [],
   "source": [
    "outputval ={name:'' for name in outputs}\n",
    "print(outputval)"
   ]
  },
  {
   "cell_type": "code",
   "execution_count": null,
   "metadata": {},
   "outputs": [],
   "source": [
    "# print(FMU_model.exe_model)\n",
    "# print(FMU_model.instance)\n",
    "configuration = {'t_ini':0.0, 't_period':15, 't_step':1}\n",
    "for param, config in configuration.items():\n",
    "    FMU_model.set_config(configIdName=param, configIdVal=config)\n",
    "for parameter in params:\n",
    "    param = FMU_model.get_param(parameter)\n",
    "    print(param)\n",
    "outputval ={name:'' for name in outputs}\n",
    "inputval = {name:\"\" for name in inputs}\n",
    "time = 0\n",
    "result =[]\n",
    "while time <= FMU_model.end_time:\n",
    "    inputval  = []\n",
    "    outputval = []\n",
    "    for input in inputs:\n",
    "        # val = [0.0 if time < 5 else 1.0]\n",
    "        # val = [56]\n",
    "        if input ==  'engineSpeed':\n",
    "            val = [2]\n",
    "        if input == 'throttleAngle':\n",
    "            val = [.5]\n",
    "        if input == 'fuel':\n",
    "            val = [6]\n",
    "        FMU_model.set_input(var_name=input,var_val=val[0])\n",
    "        # inputval[input]=val[0]\n",
    "    simtime = FMU_model.get_variable(var_name='time')\n",
    "    # print(simtime)\n",
    "    FMU_model.advance()\n",
    "    simtime = FMU_model.get_variable(var_name='time')\n",
    "    # print(simtime)\n",
    "    time += FMU_model.step_size\n",
    "    for input in inputs:\n",
    "        inputval.append(FMU_model.get_variable(var_name=input))\n",
    "    \n",
    "    for output in outputs:\n",
    "        outputval.append(FMU_model.get_output(var_name=output))\n",
    "    r = simtime,inputval,outputval \n",
    "    print(r)   \n",
    "    result.append(r)\n",
    "    \n",
    "\n",
    "# for r in result:\n",
    "#     print(r)    "
   ]
  },
  {
   "cell_type": "code",
   "execution_count": null,
   "metadata": {},
   "outputs": [],
   "source": [
    "sim_inputs = {'engineSpeed':2.0, 'throttleAngle':0.5, 'fuel':6.0}\n",
    "FMU_model.simulate(sim_inputs=sim_inputs)"
   ]
  },
  {
   "cell_type": "code",
   "execution_count": null,
   "metadata": {},
   "outputs": [],
   "source": []
  },
  {
   "cell_type": "code",
   "execution_count": 15,
   "metadata": {},
   "outputs": [],
   "source": [
    "time = 7\n",
    "step_size = 1\n",
    "FMU_model.exe_model.doStep(currentCommunicationPoint=time, communicationStepSize=step_size)"
   ]
  },
  {
   "cell_type": "code",
   "execution_count": null,
   "metadata": {},
   "outputs": [],
   "source": [
    "# from fmpy import read_model_description, extract\n",
    "# from fmpy.fmi2 import FMU2Slave\n",
    "# from fmpy.util import plot_result, download_test_file\n",
    "# import numpy as np\n",
    "# import shutil\n",
    "import fmpy\n",
    "start_time = 0.0\n",
    "threshold = 2.0\n",
    "stop_time = 15\n",
    "step_size = 1\n",
    "\n",
    "# download the FMU\n",
    "# download_test_file('2.0', 'CoSimulation', 'MapleSim', '2016.2', 'CoupledClutches', fmu_filename)\n",
    "model_name = 'fmudemo_export_fuelsys_plant'\n",
    "model_pointer = os.getcwd() + '\\\\' + 'Models' +'\\\\'+ model_name + \".fmu\"\n",
    "\n",
    "model_description = fmpy.read_model_description(model_pointer)\n",
    "# read the model description\n",
    "# model_description = read_model_description(fmu_filename)\n",
    "\n",
    "\n",
    "# collect the value references\n",
    "vrs = {}\n",
    "vr_inputs = []\n",
    "vr_outputs = []\n",
    "vr_parameters = []\n",
    "idx = 1\n",
    "idxin= 4\n",
    "idxout = 6\n",
    "idxparam = 8\n",
    "# for var in model_description.modelVariables:\n",
    "#     print(var)\n",
    "for variable in model_description.modelVariables:\n",
    "    if idx < idxin: \n",
    "        vr_inputs.append(variable.name)\n",
    "    elif idx >= idxin and idx <= idxout:\n",
    "        vr_outputs.append(variable.name)\n",
    "    elif idx >= idxparam:\n",
    "        vr_parameters.append(variable.name)\n",
    "    else:\n",
    "       pass\n",
    "    vrs[variable.name] = variable.valueReference\n",
    "    idx += 1\n",
    "\n",
    "# print(vr_inputs)\n",
    "# print(vr_outputs)\n",
    "print(vr_parameters)\n",
    "\n",
    "# # get the value references for the variables we want to get/set\n",
    "# vr_inputs   = vrs['inputs']      # normalized force on the 3rd clutch\n",
    "# vr_outputs4 = vrs['outputs[4]']  # angular velocity of the 4th inertia\n",
    "\n",
    "# # extract the FMU\n",
    "unzipdir = fmpy.extract(model_pointer)\n",
    "\n",
    "fmu = fmpy.fmi2.FMU2Slave(guid=model_description.guid,\n",
    "                unzipDirectory=unzipdir,\n",
    "                modelIdentifier=model_description.coSimulation.modelIdentifier,\n",
    "                instanceName='instance1')\n",
    "\n",
    "# # initialize\n",
    "# print(fmu.component)\n",
    "# fmu.setupExperiment(startTime=start_time)\n",
    "instance = fmu.instantiate()\n",
    "# print('intance')\n",
    "# print(fmu.component)\n",
    "# fmu.setupExperiment(startTime=start_time)\n",
    "a=fmu.enterInitializationMode()\n",
    "# print('initialization')\n",
    "# print(fmu.component)\n",
    "# print(fmu.getFMUstate())\n",
    "fmu.exitInitializationMode()\n",
    "# print(fmu.component)\n",
    "fmu.setupExperiment(startTime=start_time)\n",
    "fmu.setupExperiment(stopTime=stop_time)\n",
    "# print(fmu.getFMUstate())\n",
    "time = start_time\n",
    "\n",
    "rows = []  # list to record the results\n",
    "for name in vr_parameters:\n",
    "    print(fmu.getReal([vrs[name]]))\n",
    "while time < stop_time:\n",
    "\n",
    "    # NOTE: the FMU.get*() and FMU.set*() functions take lists of\n",
    "    # value references as arguments and return lists of values\n",
    "\n",
    "    # set the inputs\n",
    "    for input in vr_inputs:  \n",
    "        fmu.setReal([vrs[input]], [0.0 if time < 5 else 1.0])\n",
    "    int_Time =fmu.getReal([6])[0]\n",
    "    # print(int_Time)\n",
    "    # perform one step\n",
    "    print(int_Time)\n",
    "    fmu.doStep(currentCommunicationPoint=int_Time, communicationStepSize=step_size)\n",
    "    # fmu.doStep(currentCommunicationPoint=time, communicationStepSize=step_size)\n",
    "    #print(fmu.getFMUstate())\n",
    "    # print(fmu.setReal([7],[time]))\n",
    "    # print(fmu.getReal([7]))\n",
    "    # advance the time\n",
    "    int_Time =fmu.getReal([6])[0]\n",
    "    print(int_Time)\n",
    "    time += step_size\n",
    "\n",
    "# ['engineSpeed', 'throttleAngle', 'fuel']\n",
    "# ['o2_out', 'MAP', 'air_fuelRatio']\n",
    "    # get the values for 'inputs' and 'outputs[4]'\n",
    "    input_val = []\n",
    "    output_val = []\n",
    "    for name in vr_inputs:\n",
    "        input_val.append(fmu.getReal([vrs[name]]))\n",
    "    for name in vr_outputs:\n",
    "        output_val.append(fmu.getReal([vrs[name]]))\n",
    "        \n",
    "    # inputs, outputs = fmu.getReal([vrs[inputs[i]], vrs[outputs[i]]])\n",
    "    print((time, input_val, output_val))\n",
    "\n",
    "    # append the results\n",
    "    rows.append((time, input_val, output_val))\n",
    "\n",
    "    # use the threshold to terminate the simulation\n",
    "    # if outputs > threshold:\n",
    "    #     print(\"Threshold reached at t = %g s\" % time)\n",
    "\n",
    "    #     break\n",
    "# print(fmu.getReal([vrs['Atm']]))\n",
    "\n",
    "fmu.terminate()\n",
    "fmu.freeInstance()\n",
    "# # print(rows)\n",
    "i = 0\n",
    "for row in rows: \n",
    "    print(row)\n",
    "    i+=1\n",
    "    if i == 20:\n",
    "        break\n",
    "\n"
   ]
  },
  {
   "cell_type": "code",
   "execution_count": null,
   "metadata": {},
   "outputs": [],
   "source": [
    "(0.001, [[0.0], [0.0], [0.0]], [[1.0], [0.590298229917643], [0.057324432673835614]])\n",
    "(0.002, [[0.0], [0.0], [0.0]], [[1.0], [0.5915959041280978], [0.04618917060780119]])\n",
    "(0.003, [[0.0], [0.0], [0.0]], [[1.0], [0.5928930146132257], [0.03508726426939426]])\n",
    "(0.004, [[0.0], [0.0], [0.0]], [[1.0], [0.5941895533569505], [0.0240186137413826]])\n",
    "(0.005, [[0.0], [0.0], [0.0]], [[1.0], [0.5954855123452854], [0.012983119405836527]])\n",
    "(0.006, [[0.0], [0.0], [0.0]], [[1.0], [0.5967808835663614], [0.001980681943232308]])\n",
    "(0.007, [[0.0], [0.0], [0.0]], [[1.0], [0.5980756590104546], [-0.008988797668441711]])\n",
    "(0.008, [[0.0], [0.0], [0.0]], [[1.0], [0.5993698306700136], [-0.019925418154576303]])\n",
    "(0.009000000000000001, [[0.0], [0.0], [0.0]], [[1.0], [0.6006633905396871], [-0.030829277944829887]])\n",
    "(0.010000000000000002, [[0.0], [0.0], [0.0]], [[1.0], [0.6019563306163509], [-0.041700475174014394]])\n",
    "(0.011000000000000003, [[0.0], [0.0], [0.0]], [[1.0], [0.6032486428991354], [-0.052539107682978495]])\n",
    "(0.012000000000000004, [[0.0], [0.0], [0.0]], [[1.0], [0.6045403193894526], [-0.06334527301948814]])\n",
    "(0.013000000000000005, [[0.0], [0.0], [0.0]], [[1.0], [0.6058313520910236], [-0.07411906843910454]])\n",
    "(0.014000000000000005, [[0.0], [0.0], [0.0]], [[1.0], [0.6071217330099047], [-0.0848605909060594]])\n",
    "(0.015000000000000006, [[0.0], [0.0], [0.0]], [[1.0], [0.608411454154515], [-0.09556993709412763]])\n",
    "(0.016000000000000007, [[0.0], [0.0], [0.0]], [[1.0], [0.6097005075356632], [-0.10624720338749746]])\n",
    "(0.017000000000000008, [[0.0], [0.0], [0.0]], [[1.0], [0.6109888851665737], [-0.1168924858816378]])\n",
    "(0.01800000000000001, [[0.0], [0.0], [0.0]], [[1.0], [0.6122765790629138], [-0.12750588038416316]])\n",
    "(0.01900000000000001, [[0.0], [0.0], [0.0]], [[1.0], [0.6135635812428198], [-0.13808748241569593]])\n",
    "(0.02000000000000001, [[0.0], [0.0], [0.0]], [[1.0], [0.6148498837269238], [-0.14863738721072606]])"
   ]
  },
  {
   "cell_type": "code",
   "execution_count": null,
   "metadata": {},
   "outputs": [],
   "source": [
    "(0.001, [[0.0], [0.0], [0.0]], [[1.0], [0.589], [0.0684931506849315]])\n",
    "(0.002, [[0.0], [0.0], [0.0]], [[1.0], [0.590298229917643], [0.057324432673835614]])\n",
    "(0.003, [[0.0], [0.0], [0.0]], [[1.0], [0.5915959041280978], [0.04618917060780119]])\n",
    "(0.004, [[0.0], [0.0], [0.0]], [[1.0], [0.5928930146132257], [0.03508726426939426]])\n",
    "(0.005, [[0.0], [0.0], [0.0]], [[1.0], [0.5941895533569505], [0.0240186137413826]])\n",
    "(0.006, [[0.0], [0.0], [0.0]], [[1.0], [0.5954855123452854], [0.012983119405836527]])\n",
    "(0.007, [[0.0], [0.0], [0.0]], [[1.0], [0.5967808835663614], [0.001980681943232308]])\n",
    "(0.008, [[0.0], [0.0], [0.0]], [[1.0], [0.5980756590104546], [-0.008988797668441711]])\n",
    "(0.009000000000000001, [[0.0], [0.0], [0.0]], [[1.0], [0.5993698306700136], [-0.019925418154576303]])\n",
    "(0.010000000000000002, [[0.0], [0.0], [0.0]], [[1.0], [0.6006633905396871], [-0.030829277944829887]])\n",
    "(0.011000000000000003, [[0.0], [0.0], [0.0]], [[1.0], [0.6019563306163509], [-0.041700475174014394]])\n",
    "(0.012000000000000004, [[0.0], [0.0], [0.0]], [[1.0], [0.6032486428991354], [-0.052539107682978495]])\n",
    "(0.013000000000000005, [[0.0], [0.0], [0.0]], [[1.0], [0.6045403193894526], [-0.06334527301948814]])\n",
    "(0.014000000000000005, [[0.0], [0.0], [0.0]], [[1.0], [0.6058313520910236], [-0.07411906843910454]])\n",
    "(0.015000000000000006, [[0.0], [0.0], [0.0]], [[1.0], [0.6071217330099047], [-0.0848605909060594]])\n",
    "(0.016000000000000007, [[0.0], [0.0], [0.0]], [[1.0], [0.608411454154515], [-0.09556993709412763]])\n",
    "(0.017000000000000008, [[0.0], [0.0], [0.0]], [[1.0], [0.6097005075356632], [-0.10624720338749746]])\n",
    "(0.01800000000000001, [[0.0], [0.0], [0.0]], [[1.0], [0.6109888851665737], [-0.1168924858816378]])\n",
    "(0.01900000000000001, [[0.0], [0.0], [0.0]], [[1.0], [0.6122765790629138], [-0.12750588038416316]])\n",
    "(0.02000000000000001, [[0.0], [0.0], [0.0]], [[1.0], [0.6135635812428198], [-0.13808748241569593]])"
   ]
  }
 ],
 "metadata": {
  "kernelspec": {
   "display_name": "Python 3",
   "language": "python",
   "name": "python3"
  },
  "language_info": {
   "codemirror_mode": {
    "name": "ipython",
    "version": 3
   },
   "file_extension": ".py",
   "mimetype": "text/x-python",
   "name": "python",
   "nbconvert_exporter": "python",
   "pygments_lexer": "ipython3",
   "version": "3.11.9"
  }
 },
 "nbformat": 4,
 "nbformat_minor": 2
}
